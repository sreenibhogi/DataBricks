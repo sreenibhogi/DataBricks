{
 "cells": [
  {
   "cell_type": "code",
   "execution_count": 0,
   "metadata": {
    "application/vnd.databricks.v1+cell": {
     "cellMetadata": {
      "byteLimit": 2048000,
      "implicitDf": true,
      "rowLimit": 10000
     },
     "inputWidgets": {},
     "nuid": "655f4a74-641d-40fd-a942-da2406c89e85",
     "showTitle": true,
     "title": "Create a DataBase if not Exist"
    }
   },
   "outputs": [
    {
     "output_type": "display_data",
     "data": {
      "text/html": [
       "<style scoped>\n",
       "  .table-result-container {\n",
       "    max-height: 300px;\n",
       "    overflow: auto;\n",
       "  }\n",
       "  table, th, td {\n",
       "    border: 1px solid black;\n",
       "    border-collapse: collapse;\n",
       "  }\n",
       "  th, td {\n",
       "    padding: 5px;\n",
       "  }\n",
       "  th {\n",
       "    text-align: left;\n",
       "  }\n",
       "</style><div class='table-result-container'><table class='table-result'><thead style='background-color: white'><tr></tr></thead><tbody></tbody></table></div>"
      ]
     },
     "metadata": {
      "application/vnd.databricks.v1+output": {
       "addedWidgets": {},
       "aggData": [],
       "aggError": "",
       "aggOverflow": false,
       "aggSchema": [],
       "aggSeriesLimitReached": false,
       "aggType": "",
       "arguments": {},
       "columnCustomDisplayInfos": {},
       "data": [],
       "datasetInfos": [],
       "dbfsResultPath": null,
       "isJsonSchema": true,
       "metadata": {},
       "overflow": false,
       "plotOptions": {
        "customPlotOptions": {},
        "displayType": "table",
        "pivotAggregation": null,
        "pivotColumns": null,
        "xColumns": null,
        "yColumns": null
       },
       "removedWidgets": [],
       "schema": [],
       "type": "table"
      }
     },
     "output_type": "display_data"
    }
   ],
   "source": [
    "%sql\n",
    "CREATE DATABASE IF NOT EXISTS training;"
   ]
  },
  {
   "cell_type": "code",
   "execution_count": 0,
   "metadata": {
    "application/vnd.databricks.v1+cell": {
     "cellMetadata": {
      "byteLimit": 2048000,
      "implicitDf": true,
      "rowLimit": 10000
     },
     "inputWidgets": {},
     "nuid": "2eb62fdf-2f99-4442-8877-f0a8c5731f16",
     "showTitle": true,
     "title": "Create a Target Table"
    }
   },
   "outputs": [
    {
     "output_type": "display_data",
     "data": {
      "text/html": [
       "<style scoped>\n",
       "  .table-result-container {\n",
       "    max-height: 300px;\n",
       "    overflow: auto;\n",
       "  }\n",
       "  table, th, td {\n",
       "    border: 1px solid black;\n",
       "    border-collapse: collapse;\n",
       "  }\n",
       "  th, td {\n",
       "    padding: 5px;\n",
       "  }\n",
       "  th {\n",
       "    text-align: left;\n",
       "  }\n",
       "</style><div class='table-result-container'><table class='table-result'><thead style='background-color: white'><tr></tr></thead><tbody></tbody></table></div>"
      ]
     },
     "metadata": {
      "application/vnd.databricks.v1+output": {
       "addedWidgets": {},
       "aggData": [],
       "aggError": "",
       "aggOverflow": false,
       "aggSchema": [],
       "aggSeriesLimitReached": false,
       "aggType": "",
       "arguments": {},
       "columnCustomDisplayInfos": {},
       "data": [],
       "datasetInfos": [],
       "dbfsResultPath": null,
       "isJsonSchema": true,
       "metadata": {},
       "overflow": false,
       "plotOptions": {
        "customPlotOptions": {},
        "displayType": "table",
        "pivotAggregation": null,
        "pivotColumns": null,
        "xColumns": null,
        "yColumns": null
       },
       "removedWidgets": [],
       "schema": [],
       "type": "table"
      }
     },
     "output_type": "display_data"
    }
   ],
   "source": [
    "%sql\n",
    "--DROP TABLE training.EMP_SCD2_PYSPARK;\n",
    "CREATE OR REPLACE TABLE training.EMP_SCD2_PYSPARK\n",
    "(\n",
    "  EMPNO INT, \n",
    "\tENAME STRING, \n",
    "\tJOB STRING, \n",
    "\tMGR INT, \n",
    "\tHIREDATE DATE, \n",
    "\tSAL INT, \n",
    "\tCOMM INT, \n",
    "\tDEPTNO INT,\n",
    "\tsk_EMPNO INT,\n",
    "\tEFFECTIVE_DATE DATE,\n",
    "\tEXPIRATION_DATE DATE,\n",
    "\tCURRENT_FLAG STRING,\n",
    "\tETL_CHECKSUM STRING\n",
    ")\n",
    "USING DELTA\n",
    "LOCATION '/FileStore/tables/delta-table-merge/EMP_SCD2_PYSPARK';"
   ]
  },
  {
   "cell_type": "code",
   "execution_count": 0,
   "metadata": {
    "application/vnd.databricks.v1+cell": {
     "cellMetadata": {
      "byteLimit": 2048000,
      "rowLimit": 10000
     },
     "inputWidgets": {},
     "nuid": "fdf98570-5067-49dd-90fe-3d1e01e8ca95",
     "showTitle": true,
     "title": "Import Pyspark Necessary functions"
    }
   },
   "outputs": [],
   "source": [
    "import pyspark\n",
    "from pyspark.sql import SparkSession\n",
    "from pyspark.sql.functions import *\n",
    "from pyspark.sql.window import Window\n",
    "from os import path, listdir\n",
    "from delta.tables import DeltaTable\n"
   ]
  },
  {
   "cell_type": "code",
   "execution_count": 0,
   "metadata": {
    "application/vnd.databricks.v1+cell": {
     "cellMetadata": {
      "byteLimit": 2048000,
      "rowLimit": 10000
     },
     "inputWidgets": {},
     "nuid": "fa42ad23-63f6-4943-b511-4aa64c2a13ce",
     "showTitle": true,
     "title": "Define the variables"
    }
   },
   "outputs": [],
   "source": [
    "#Let’s start with defining some variables. You can also have a config file for this. \n",
    "# It has a SOURCE_PATH, DEST_PATH, and key_list holds the natural key column in the table. \n",
    "# type2_cols holds a list of columns for which type 2 methodology will be implemented. \n",
    "# scd2_cols are columns used for SCD type 2 handling.\n",
    "EOW_DATE = \"9999-12-31\"\n",
    "#SOURCE_PATH = \"dbfs:/FileStore/tables/EMP.csv\"\n",
    "#DEST_PATH = \"dbfs:/FileStore/tables/EMP_SCD2_NOMERGE.csv\"\n",
    "KEY_LIST = [\"EMPNO\"]\n",
    "type2_cols = [\"JOB\",\"MGR\",\"HIREDATE\",\t\"DEPTNO\", \"SAL\", \"COMM\"]\n",
    "SCD2_COLUMNS =[\"EFFECTIVE_DATE\",\"EXPIRATION_DATE\",\"CURRENT_FLAG\"]\n",
    "DATE_FORMAT = \"yyyy-MM-dd\"\n",
    "\n"
   ]
  },
  {
   "cell_type": "code",
   "execution_count": 0,
   "metadata": {
    "application/vnd.databricks.v1+cell": {
     "cellMetadata": {
      "byteLimit": 2048000,
      "rowLimit": 10000
     },
     "inputWidgets": {},
     "nuid": "2ed37bb6-baad-4bc9-bb1e-14b11be19437",
     "showTitle": false,
     "title": ""
    }
   },
   "outputs": [
    {
     "output_type": "stream",
     "name": "stdout",
     "output_type": "stream",
     "text": [
      "root\n |-- EMPNO: long (nullable = true)\n |-- ENAME: string (nullable = true)\n |-- JOB: string (nullable = true)\n |-- MGR: string (nullable = true)\n |-- HIREDATE: string (nullable = true)\n |-- SAL: long (nullable = true)\n |-- COMM: string (nullable = true)\n |-- DEPTNO: long (nullable = true)\n\n"
     ]
    },
    {
     "output_type": "display_data",
     "data": {
      "text/html": [
       "<style scoped>\n",
       "  .table-result-container {\n",
       "    max-height: 300px;\n",
       "    overflow: auto;\n",
       "  }\n",
       "  table, th, td {\n",
       "    border: 1px solid black;\n",
       "    border-collapse: collapse;\n",
       "  }\n",
       "  th, td {\n",
       "    padding: 5px;\n",
       "  }\n",
       "  th {\n",
       "    text-align: left;\n",
       "  }\n",
       "</style><div class='table-result-container'><table class='table-result'><thead style='background-color: white'><tr><th>EMPNO</th><th>ENAME</th><th>JOB</th><th>MGR</th><th>HIREDATE</th><th>SAL</th><th>COMM</th><th>DEPTNO</th></tr></thead><tbody><tr><td>7839</td><td>KING</td><td>PRESIDENT</td><td></td><td>1981-11-17</td><td>5000</td><td></td><td>10</td></tr><tr><td>7698</td><td>BLAKE</td><td>MANAGER</td><td>7839</td><td>1981-05-01</td><td>2850</td><td></td><td>30</td></tr><tr><td>7782</td><td>CLARK</td><td>MANAGER</td><td>7839</td><td>1981-06-09</td><td>2450</td><td></td><td>10</td></tr><tr><td>7566</td><td>JONES</td><td>MANAGER</td><td>7839</td><td>1981-04-02</td><td>2975</td><td></td><td>20</td></tr><tr><td>7788</td><td>SCOTT</td><td>ANALYST</td><td>7566</td><td>1987-04-19</td><td>3000</td><td></td><td>20</td></tr><tr><td>7902</td><td>FORD</td><td>ANALYST</td><td>7566</td><td>1981-12-03</td><td>3000</td><td></td><td>20</td></tr><tr><td>7369</td><td>SMITH</td><td>CLERK</td><td>7902</td><td>1980-12-17</td><td>800</td><td></td><td>20</td></tr><tr><td>7499</td><td>ALLEN</td><td>SALESMAN</td><td>7698</td><td>1981-02-20</td><td>1600</td><td>300</td><td>30</td></tr><tr><td>7521</td><td>WARD</td><td>SALESMAN</td><td>7698</td><td>1981-02-22</td><td>1250</td><td>500</td><td>30</td></tr><tr><td>7654</td><td>MARTIN</td><td>SALESMAN</td><td>7698</td><td>1981-09-28</td><td>1250</td><td>1400</td><td>30</td></tr><tr><td>7844</td><td>TURNER</td><td>SALESMAN</td><td>7698</td><td>1981-09-08</td><td>1500</td><td>0</td><td>30</td></tr><tr><td>7876</td><td>ADAMS</td><td>CLERK</td><td>7788</td><td>1987-05-23</td><td>1100</td><td></td><td>20</td></tr><tr><td>7900</td><td>JAMES</td><td>CLERK</td><td>7698</td><td>1981-12-03</td><td>950</td><td></td><td>30</td></tr><tr><td>7934</td><td>MILLER</td><td>ANALYST</td><td>7782</td><td>1982-01-23</td><td>1300</td><td></td><td>40</td></tr><tr><td>7935</td><td>MILLER_T</td><td>ANALYST</td><td>7782</td><td>1982-01-23</td><td>1300</td><td></td><td>40</td></tr></tbody></table></div>"
      ]
     },
     "metadata": {
      "application/vnd.databricks.v1+output": {
       "addedWidgets": {},
       "aggData": [],
       "aggError": "",
       "aggOverflow": false,
       "aggSchema": [],
       "aggSeriesLimitReached": false,
       "aggType": "",
       "arguments": {},
       "columnCustomDisplayInfos": {},
       "data": [
        [
         7839,
         "KING",
         "PRESIDENT",
         "",
         "1981-11-17",
         5000,
         "",
         10
        ],
        [
         7698,
         "BLAKE",
         "MANAGER",
         "7839",
         "1981-05-01",
         2850,
         "",
         30
        ],
        [
         7782,
         "CLARK",
         "MANAGER",
         "7839",
         "1981-06-09",
         2450,
         "",
         10
        ],
        [
         7566,
         "JONES",
         "MANAGER",
         "7839",
         "1981-04-02",
         2975,
         "",
         20
        ],
        [
         7788,
         "SCOTT",
         "ANALYST",
         "7566",
         "1987-04-19",
         3000,
         "",
         20
        ],
        [
         7902,
         "FORD",
         "ANALYST",
         "7566",
         "1981-12-03",
         3000,
         "",
         20
        ],
        [
         7369,
         "SMITH",
         "CLERK",
         "7902",
         "1980-12-17",
         800,
         "",
         20
        ],
        [
         7499,
         "ALLEN",
         "SALESMAN",
         "7698",
         "1981-02-20",
         1600,
         "300",
         30
        ],
        [
         7521,
         "WARD",
         "SALESMAN",
         "7698",
         "1981-02-22",
         1250,
         "500",
         30
        ],
        [
         7654,
         "MARTIN",
         "SALESMAN",
         "7698",
         "1981-09-28",
         1250,
         "1400",
         30
        ],
        [
         7844,
         "TURNER",
         "SALESMAN",
         "7698",
         "1981-09-08",
         1500,
         "0",
         30
        ],
        [
         7876,
         "ADAMS",
         "CLERK",
         "7788",
         "1987-05-23",
         1100,
         "",
         20
        ],
        [
         7900,
         "JAMES",
         "CLERK",
         "7698",
         "1981-12-03",
         950,
         "",
         30
        ],
        [
         7934,
         "MILLER",
         "ANALYST",
         "7782",
         "1982-01-23",
         1300,
         "",
         40
        ],
        [
         7935,
         "MILLER_T",
         "ANALYST",
         "7782",
         "1982-01-23",
         1300,
         "",
         40
        ]
       ],
       "datasetInfos": [],
       "dbfsResultPath": null,
       "isJsonSchema": true,
       "metadata": {},
       "overflow": false,
       "plotOptions": {
        "customPlotOptions": {},
        "displayType": "table",
        "pivotAggregation": null,
        "pivotColumns": null,
        "xColumns": null,
        "yColumns": null
       },
       "removedWidgets": [],
       "schema": [
        {
         "metadata": "{}",
         "name": "EMPNO",
         "type": "\"long\""
        },
        {
         "metadata": "{}",
         "name": "ENAME",
         "type": "\"string\""
        },
        {
         "metadata": "{}",
         "name": "JOB",
         "type": "\"string\""
        },
        {
         "metadata": "{}",
         "name": "MGR",
         "type": "\"string\""
        },
        {
         "metadata": "{}",
         "name": "HIREDATE",
         "type": "\"string\""
        },
        {
         "metadata": "{}",
         "name": "SAL",
         "type": "\"long\""
        },
        {
         "metadata": "{}",
         "name": "COMM",
         "type": "\"string\""
        },
        {
         "metadata": "{}",
         "name": "DEPTNO",
         "type": "\"long\""
        }
       ],
       "type": "table"
      }
     },
     "output_type": "display_data"
    }
   ],
   "source": [
    "EMPDATA = [[7839,'KING','PRESIDENT','','1981-11-17',5000,'',10],\n",
    "[7698,'BLAKE','MANAGER',7839,'1981-05-01',2850,'',30],\n",
    "[7782,'CLARK','MANAGER',7839,'1981-06-09',2450,'',10],\n",
    "[7566,'JONES','MANAGER',7839,'1981-04-02',2975,'',20],\n",
    "[7788,'SCOTT','ANALYST',7566,'1987-04-19',3000,'',20],\n",
    "[7902,'FORD','ANALYST',7566,'1981-12-03',3000,'',20],\n",
    "[7369,'SMITH','CLERK',7902,'1980-12-17',800,'',20],\n",
    "[7499,'ALLEN','SALESMAN',7698,'1981-02-20',1600,300,30],\n",
    "[7521,'WARD','SALESMAN',7698,'1981-02-22',1250,500,30],\n",
    "[7654,'MARTIN','SALESMAN',7698,'1981-09-28',1250,1400,30],\n",
    "[7844,'TURNER','SALESMAN',7698,'1981-09-08',1500,0,30],\n",
    "[7876,'ADAMS','CLERK',7788,'1987-05-23',1100,'',20],\n",
    "[7900,'JAMES','CLERK',7698,'1981-12-03',950,'',30],\n",
    "[7934,'MILLER','ANALYST',7782,'1982-01-23',1300,'',40],\n",
    "[7935,'MILLER_T','ANALYST',7782,'1982-01-23',1300,'',40]\n",
    "]\n",
    "\n",
    "df_source = spark.createDataFrame(EMPDATA, ['EMPNO','ENAME','JOB','MGR','HIREDATE','SAL','COMM','DEPTNO'])\n",
    "df_source.printSchema()\n",
    "display(df_source)"
   ]
  },
  {
   "cell_type": "code",
   "execution_count": 0,
   "metadata": {
    "application/vnd.databricks.v1+cell": {
     "cellMetadata": {
      "byteLimit": 2048000,
      "rowLimit": 10000
     },
     "inputWidgets": {},
     "nuid": "5eb1ca06-d4c1-4c29-8129-f1561aece0bc",
     "showTitle": true,
     "title": "Generate ETL Checksum for SCD Columns"
    }
   },
   "outputs": [
    {
     "output_type": "stream",
     "name": "stdout",
     "output_type": "stream",
     "text": [
      "[Column<'JOB'>, Column<'MGR'>, Column<'HIREDATE'>, Column<'DEPTNO'>, Column<'SAL'>, Column<'COMM'>]\n"
     ]
    },
    {
     "output_type": "display_data",
     "data": {
      "text/html": [
       "<style scoped>\n",
       "  .table-result-container {\n",
       "    max-height: 300px;\n",
       "    overflow: auto;\n",
       "  }\n",
       "  table, th, td {\n",
       "    border: 1px solid black;\n",
       "    border-collapse: collapse;\n",
       "  }\n",
       "  th, td {\n",
       "    padding: 5px;\n",
       "  }\n",
       "  th {\n",
       "    text-align: left;\n",
       "  }\n",
       "</style><div class='table-result-container'><table class='table-result'><thead style='background-color: white'><tr><th>EMPNO</th><th>ENAME</th><th>JOB</th><th>MGR</th><th>HIREDATE</th><th>SAL</th><th>COMM</th><th>DEPTNO</th><th>ETL_CHECKSUM</th></tr></thead><tbody><tr><td>7839</td><td>KING</td><td>PRESIDENT</td><td></td><td>1981-11-17</td><td>5000</td><td></td><td>10</td><td>bc1cf418724ab56313dc6c3f2e7eb34c</td></tr><tr><td>7698</td><td>BLAKE</td><td>MANAGER</td><td>7839</td><td>1981-05-01</td><td>2850</td><td></td><td>30</td><td>3e9e79400e00fd2374eb64cbf34da1c0</td></tr><tr><td>7782</td><td>CLARK</td><td>MANAGER</td><td>7839</td><td>1981-06-09</td><td>2450</td><td></td><td>10</td><td>34d454b81056c09de467ed30077da5c9</td></tr><tr><td>7566</td><td>JONES</td><td>MANAGER</td><td>7839</td><td>1981-04-02</td><td>2975</td><td></td><td>20</td><td>f696067cd364d153e154204d62598445</td></tr><tr><td>7788</td><td>SCOTT</td><td>ANALYST</td><td>7566</td><td>1987-04-19</td><td>3000</td><td></td><td>20</td><td>10d0a7d4ac6c6558cc7d7210761ab590</td></tr><tr><td>7902</td><td>FORD</td><td>ANALYST</td><td>7566</td><td>1981-12-03</td><td>3000</td><td></td><td>20</td><td>3d31c3715fb51805c4b71b1f5cf456d5</td></tr><tr><td>7369</td><td>SMITH</td><td>CLERK</td><td>7902</td><td>1980-12-17</td><td>800</td><td></td><td>20</td><td>f5fc6c3de19d491f867d94856fb98f87</td></tr><tr><td>7499</td><td>ALLEN</td><td>SALESMAN</td><td>7698</td><td>1981-02-20</td><td>1600</td><td>300</td><td>30</td><td>40fa7d7eb2d3994624740f143adb097e</td></tr><tr><td>7521</td><td>WARD</td><td>SALESMAN</td><td>7698</td><td>1981-02-22</td><td>1250</td><td>500</td><td>30</td><td>ba596d8b173e58e4b05fab66694ec819</td></tr><tr><td>7654</td><td>MARTIN</td><td>SALESMAN</td><td>7698</td><td>1981-09-28</td><td>1250</td><td>1400</td><td>30</td><td>be5f02c7512f42be780879e2946687e9</td></tr><tr><td>7844</td><td>TURNER</td><td>SALESMAN</td><td>7698</td><td>1981-09-08</td><td>1500</td><td>0</td><td>30</td><td>28ade27449ded787abacf9f17381c58e</td></tr><tr><td>7876</td><td>ADAMS</td><td>CLERK</td><td>7788</td><td>1987-05-23</td><td>1100</td><td></td><td>20</td><td>bfcd8d9c2ed69d608842eae9140e7903</td></tr><tr><td>7900</td><td>JAMES</td><td>CLERK</td><td>7698</td><td>1981-12-03</td><td>950</td><td></td><td>30</td><td>ac26dde3d27829cd387391d3f27e1571</td></tr><tr><td>7934</td><td>MILLER</td><td>ANALYST</td><td>7782</td><td>1982-01-23</td><td>1300</td><td></td><td>40</td><td>4178f1da3b8586de4de7d5205d54eaf2</td></tr><tr><td>7935</td><td>MILLER_T</td><td>ANALYST</td><td>7782</td><td>1982-01-23</td><td>1300</td><td></td><td>40</td><td>4178f1da3b8586de4de7d5205d54eaf2</td></tr></tbody></table></div>"
      ]
     },
     "metadata": {
      "application/vnd.databricks.v1+output": {
       "addedWidgets": {},
       "aggData": [],
       "aggError": "",
       "aggOverflow": false,
       "aggSchema": [],
       "aggSeriesLimitReached": false,
       "aggType": "",
       "arguments": {},
       "columnCustomDisplayInfos": {},
       "data": [
        [
         7839,
         "KING",
         "PRESIDENT",
         "",
         "1981-11-17",
         5000,
         "",
         10,
         "bc1cf418724ab56313dc6c3f2e7eb34c"
        ],
        [
         7698,
         "BLAKE",
         "MANAGER",
         "7839",
         "1981-05-01",
         2850,
         "",
         30,
         "3e9e79400e00fd2374eb64cbf34da1c0"
        ],
        [
         7782,
         "CLARK",
         "MANAGER",
         "7839",
         "1981-06-09",
         2450,
         "",
         10,
         "34d454b81056c09de467ed30077da5c9"
        ],
        [
         7566,
         "JONES",
         "MANAGER",
         "7839",
         "1981-04-02",
         2975,
         "",
         20,
         "f696067cd364d153e154204d62598445"
        ],
        [
         7788,
         "SCOTT",
         "ANALYST",
         "7566",
         "1987-04-19",
         3000,
         "",
         20,
         "10d0a7d4ac6c6558cc7d7210761ab590"
        ],
        [
         7902,
         "FORD",
         "ANALYST",
         "7566",
         "1981-12-03",
         3000,
         "",
         20,
         "3d31c3715fb51805c4b71b1f5cf456d5"
        ],
        [
         7369,
         "SMITH",
         "CLERK",
         "7902",
         "1980-12-17",
         800,
         "",
         20,
         "f5fc6c3de19d491f867d94856fb98f87"
        ],
        [
         7499,
         "ALLEN",
         "SALESMAN",
         "7698",
         "1981-02-20",
         1600,
         "300",
         30,
         "40fa7d7eb2d3994624740f143adb097e"
        ],
        [
         7521,
         "WARD",
         "SALESMAN",
         "7698",
         "1981-02-22",
         1250,
         "500",
         30,
         "ba596d8b173e58e4b05fab66694ec819"
        ],
        [
         7654,
         "MARTIN",
         "SALESMAN",
         "7698",
         "1981-09-28",
         1250,
         "1400",
         30,
         "be5f02c7512f42be780879e2946687e9"
        ],
        [
         7844,
         "TURNER",
         "SALESMAN",
         "7698",
         "1981-09-08",
         1500,
         "0",
         30,
         "28ade27449ded787abacf9f17381c58e"
        ],
        [
         7876,
         "ADAMS",
         "CLERK",
         "7788",
         "1987-05-23",
         1100,
         "",
         20,
         "bfcd8d9c2ed69d608842eae9140e7903"
        ],
        [
         7900,
         "JAMES",
         "CLERK",
         "7698",
         "1981-12-03",
         950,
         "",
         30,
         "ac26dde3d27829cd387391d3f27e1571"
        ],
        [
         7934,
         "MILLER",
         "ANALYST",
         "7782",
         "1982-01-23",
         1300,
         "",
         40,
         "4178f1da3b8586de4de7d5205d54eaf2"
        ],
        [
         7935,
         "MILLER_T",
         "ANALYST",
         "7782",
         "1982-01-23",
         1300,
         "",
         40,
         "4178f1da3b8586de4de7d5205d54eaf2"
        ]
       ],
       "datasetInfos": [],
       "dbfsResultPath": null,
       "isJsonSchema": true,
       "metadata": {},
       "overflow": false,
       "plotOptions": {
        "customPlotOptions": {},
        "displayType": "table",
        "pivotAggregation": null,
        "pivotColumns": null,
        "xColumns": null,
        "yColumns": null
       },
       "removedWidgets": [],
       "schema": [
        {
         "metadata": "{}",
         "name": "EMPNO",
         "type": "\"long\""
        },
        {
         "metadata": "{}",
         "name": "ENAME",
         "type": "\"string\""
        },
        {
         "metadata": "{}",
         "name": "JOB",
         "type": "\"string\""
        },
        {
         "metadata": "{}",
         "name": "MGR",
         "type": "\"string\""
        },
        {
         "metadata": "{}",
         "name": "HIREDATE",
         "type": "\"string\""
        },
        {
         "metadata": "{}",
         "name": "SAL",
         "type": "\"long\""
        },
        {
         "metadata": "{}",
         "name": "COMM",
         "type": "\"string\""
        },
        {
         "metadata": "{}",
         "name": "DEPTNO",
         "type": "\"long\""
        },
        {
         "metadata": "{}",
         "name": "ETL_CHECKSUM",
         "type": "\"string\""
        }
       ],
       "type": "table"
      }
     },
     "output_type": "display_data"
    }
   ],
   "source": [
    "type2_cols = [\"JOB\",\"MGR\",\"HIREDATE\",\t\"DEPTNO\", \"SAL\", \"COMM\"]\n",
    "# Convert list of column names into a list of column objects using 'col'\n",
    "column_objects = [col(col_name) for col_name in type2_cols]\n",
    "print(column_objects)\n",
    "df_source = df_source.withColumn(\"ETL_CHECKSUM\", md5(concat_ws('|',*column_objects)))\n",
    "display(df_source)"
   ]
  },
  {
   "cell_type": "code",
   "execution_count": 0,
   "metadata": {
    "application/vnd.databricks.v1+cell": {
     "cellMetadata": {
      "byteLimit": 2048000,
      "rowLimit": 10000
     },
     "inputWidgets": {},
     "nuid": "dae2f763-3d7a-4300-948a-d0eecdb6bdc0",
     "showTitle": true,
     "title": "Prepare the Source DataSet for the MERGE Records"
    }
   },
   "outputs": [
    {
     "output_type": "display_data",
     "data": {
      "text/html": [
       "<style scoped>\n",
       "  .table-result-container {\n",
       "    max-height: 300px;\n",
       "    overflow: auto;\n",
       "  }\n",
       "  table, th, td {\n",
       "    border: 1px solid black;\n",
       "    border-collapse: collapse;\n",
       "  }\n",
       "  th, td {\n",
       "    padding: 5px;\n",
       "  }\n",
       "  th {\n",
       "    text-align: left;\n",
       "  }\n",
       "</style><div class='table-result-container'><table class='table-result'><thead style='background-color: white'><tr><th>JOIN_KEY</th><th>EMPNO</th><th>ENAME</th><th>JOB</th><th>MGR</th><th>HIREDATE</th><th>SAL</th><th>COMM</th><th>DEPTNO</th><th>ETL_CHECKSUM</th></tr></thead><tbody><tr><td>7839</td><td>7839</td><td>KING</td><td>PRESIDENT</td><td></td><td>1981-11-17</td><td>5000</td><td></td><td>10</td><td>bc1cf418724ab56313dc6c3f2e7eb34c</td></tr><tr><td>7698</td><td>7698</td><td>BLAKE</td><td>MANAGER</td><td>7839</td><td>1981-05-01</td><td>2850</td><td></td><td>30</td><td>3e9e79400e00fd2374eb64cbf34da1c0</td></tr><tr><td>7782</td><td>7782</td><td>CLARK</td><td>MANAGER</td><td>7839</td><td>1981-06-09</td><td>2450</td><td></td><td>10</td><td>34d454b81056c09de467ed30077da5c9</td></tr><tr><td>7566</td><td>7566</td><td>JONES</td><td>MANAGER</td><td>7839</td><td>1981-04-02</td><td>2975</td><td></td><td>20</td><td>f696067cd364d153e154204d62598445</td></tr><tr><td>7788</td><td>7788</td><td>SCOTT</td><td>ANALYST</td><td>7566</td><td>1987-04-19</td><td>3000</td><td></td><td>20</td><td>10d0a7d4ac6c6558cc7d7210761ab590</td></tr><tr><td>7902</td><td>7902</td><td>FORD</td><td>ANALYST</td><td>7566</td><td>1981-12-03</td><td>3000</td><td></td><td>20</td><td>3d31c3715fb51805c4b71b1f5cf456d5</td></tr><tr><td>7369</td><td>7369</td><td>SMITH</td><td>CLERK</td><td>7902</td><td>1980-12-17</td><td>800</td><td></td><td>20</td><td>f5fc6c3de19d491f867d94856fb98f87</td></tr><tr><td>7499</td><td>7499</td><td>ALLEN</td><td>SALESMAN</td><td>7698</td><td>1981-02-20</td><td>1600</td><td>300</td><td>30</td><td>40fa7d7eb2d3994624740f143adb097e</td></tr><tr><td>7521</td><td>7521</td><td>WARD</td><td>SALESMAN</td><td>7698</td><td>1981-02-22</td><td>1250</td><td>500</td><td>30</td><td>ba596d8b173e58e4b05fab66694ec819</td></tr><tr><td>7654</td><td>7654</td><td>MARTIN</td><td>SALESMAN</td><td>7698</td><td>1981-09-28</td><td>1250</td><td>1400</td><td>30</td><td>be5f02c7512f42be780879e2946687e9</td></tr><tr><td>7844</td><td>7844</td><td>TURNER</td><td>SALESMAN</td><td>7698</td><td>1981-09-08</td><td>1500</td><td>0</td><td>30</td><td>28ade27449ded787abacf9f17381c58e</td></tr><tr><td>7876</td><td>7876</td><td>ADAMS</td><td>CLERK</td><td>7788</td><td>1987-05-23</td><td>1100</td><td></td><td>20</td><td>bfcd8d9c2ed69d608842eae9140e7903</td></tr><tr><td>7900</td><td>7900</td><td>JAMES</td><td>CLERK</td><td>7698</td><td>1981-12-03</td><td>950</td><td></td><td>30</td><td>ac26dde3d27829cd387391d3f27e1571</td></tr><tr><td>7934</td><td>7934</td><td>MILLER</td><td>ANALYST</td><td>7782</td><td>1982-01-23</td><td>1300</td><td></td><td>40</td><td>4178f1da3b8586de4de7d5205d54eaf2</td></tr><tr><td>7935</td><td>7935</td><td>MILLER_T</td><td>ANALYST</td><td>7782</td><td>1982-01-23</td><td>1300</td><td></td><td>40</td><td>4178f1da3b8586de4de7d5205d54eaf2</td></tr></tbody></table></div>"
      ]
     },
     "metadata": {
      "application/vnd.databricks.v1+output": {
       "addedWidgets": {},
       "aggData": [],
       "aggError": "",
       "aggOverflow": false,
       "aggSchema": [],
       "aggSeriesLimitReached": false,
       "aggType": "",
       "arguments": {},
       "columnCustomDisplayInfos": {},
       "data": [
        [
         7839,
         7839,
         "KING",
         "PRESIDENT",
         "",
         "1981-11-17",
         5000,
         "",
         10,
         "bc1cf418724ab56313dc6c3f2e7eb34c"
        ],
        [
         7698,
         7698,
         "BLAKE",
         "MANAGER",
         "7839",
         "1981-05-01",
         2850,
         "",
         30,
         "3e9e79400e00fd2374eb64cbf34da1c0"
        ],
        [
         7782,
         7782,
         "CLARK",
         "MANAGER",
         "7839",
         "1981-06-09",
         2450,
         "",
         10,
         "34d454b81056c09de467ed30077da5c9"
        ],
        [
         7566,
         7566,
         "JONES",
         "MANAGER",
         "7839",
         "1981-04-02",
         2975,
         "",
         20,
         "f696067cd364d153e154204d62598445"
        ],
        [
         7788,
         7788,
         "SCOTT",
         "ANALYST",
         "7566",
         "1987-04-19",
         3000,
         "",
         20,
         "10d0a7d4ac6c6558cc7d7210761ab590"
        ],
        [
         7902,
         7902,
         "FORD",
         "ANALYST",
         "7566",
         "1981-12-03",
         3000,
         "",
         20,
         "3d31c3715fb51805c4b71b1f5cf456d5"
        ],
        [
         7369,
         7369,
         "SMITH",
         "CLERK",
         "7902",
         "1980-12-17",
         800,
         "",
         20,
         "f5fc6c3de19d491f867d94856fb98f87"
        ],
        [
         7499,
         7499,
         "ALLEN",
         "SALESMAN",
         "7698",
         "1981-02-20",
         1600,
         "300",
         30,
         "40fa7d7eb2d3994624740f143adb097e"
        ],
        [
         7521,
         7521,
         "WARD",
         "SALESMAN",
         "7698",
         "1981-02-22",
         1250,
         "500",
         30,
         "ba596d8b173e58e4b05fab66694ec819"
        ],
        [
         7654,
         7654,
         "MARTIN",
         "SALESMAN",
         "7698",
         "1981-09-28",
         1250,
         "1400",
         30,
         "be5f02c7512f42be780879e2946687e9"
        ],
        [
         7844,
         7844,
         "TURNER",
         "SALESMAN",
         "7698",
         "1981-09-08",
         1500,
         "0",
         30,
         "28ade27449ded787abacf9f17381c58e"
        ],
        [
         7876,
         7876,
         "ADAMS",
         "CLERK",
         "7788",
         "1987-05-23",
         1100,
         "",
         20,
         "bfcd8d9c2ed69d608842eae9140e7903"
        ],
        [
         7900,
         7900,
         "JAMES",
         "CLERK",
         "7698",
         "1981-12-03",
         950,
         "",
         30,
         "ac26dde3d27829cd387391d3f27e1571"
        ],
        [
         7934,
         7934,
         "MILLER",
         "ANALYST",
         "7782",
         "1982-01-23",
         1300,
         "",
         40,
         "4178f1da3b8586de4de7d5205d54eaf2"
        ],
        [
         7935,
         7935,
         "MILLER_T",
         "ANALYST",
         "7782",
         "1982-01-23",
         1300,
         "",
         40,
         "4178f1da3b8586de4de7d5205d54eaf2"
        ]
       ],
       "datasetInfos": [],
       "dbfsResultPath": null,
       "isJsonSchema": true,
       "metadata": {},
       "overflow": false,
       "plotOptions": {
        "customPlotOptions": {},
        "displayType": "table",
        "pivotAggregation": null,
        "pivotColumns": null,
        "xColumns": null,
        "yColumns": null
       },
       "removedWidgets": [],
       "schema": [
        {
         "metadata": "{}",
         "name": "JOIN_KEY",
         "type": "\"long\""
        },
        {
         "metadata": "{}",
         "name": "EMPNO",
         "type": "\"long\""
        },
        {
         "metadata": "{}",
         "name": "ENAME",
         "type": "\"string\""
        },
        {
         "metadata": "{}",
         "name": "JOB",
         "type": "\"string\""
        },
        {
         "metadata": "{}",
         "name": "MGR",
         "type": "\"string\""
        },
        {
         "metadata": "{}",
         "name": "HIREDATE",
         "type": "\"string\""
        },
        {
         "metadata": "{}",
         "name": "SAL",
         "type": "\"long\""
        },
        {
         "metadata": "{}",
         "name": "COMM",
         "type": "\"string\""
        },
        {
         "metadata": "{}",
         "name": "DEPTNO",
         "type": "\"long\""
        },
        {
         "metadata": "{}",
         "name": "ETL_CHECKSUM",
         "type": "\"string\""
        }
       ],
       "type": "table"
      }
     },
     "output_type": "display_data"
    },
    {
     "output_type": "display_data",
     "data": {
      "text/html": [
       "<style scoped>\n",
       "  .table-result-container {\n",
       "    max-height: 300px;\n",
       "    overflow: auto;\n",
       "  }\n",
       "  table, th, td {\n",
       "    border: 1px solid black;\n",
       "    border-collapse: collapse;\n",
       "  }\n",
       "  th, td {\n",
       "    padding: 5px;\n",
       "  }\n",
       "  th {\n",
       "    text-align: left;\n",
       "  }\n",
       "</style><div class='table-result-container'><table class='table-result'><thead style='background-color: white'><tr><th>JOIN_KEY</th><th>EMPNO</th><th>ENAME</th><th>JOB</th><th>MGR</th><th>HIREDATE</th><th>SAL</th><th>COMM</th><th>DEPTNO</th><th>ETL_CHECKSUM</th></tr></thead><tbody><tr><td>null</td><td>7934</td><td>MILLER</td><td>ANALYST</td><td>7782</td><td>1982-01-23</td><td>1300</td><td></td><td>40</td><td>4178f1da3b8586de4de7d5205d54eaf2</td></tr></tbody></table></div>"
      ]
     },
     "metadata": {
      "application/vnd.databricks.v1+output": {
       "addedWidgets": {},
       "aggData": [],
       "aggError": "",
       "aggOverflow": false,
       "aggSchema": [],
       "aggSeriesLimitReached": false,
       "aggType": "",
       "arguments": {},
       "columnCustomDisplayInfos": {},
       "data": [
        [
         null,
         7934,
         "MILLER",
         "ANALYST",
         "7782",
         "1982-01-23",
         1300,
         "",
         40,
         "4178f1da3b8586de4de7d5205d54eaf2"
        ]
       ],
       "datasetInfos": [],
       "dbfsResultPath": null,
       "isJsonSchema": true,
       "metadata": {},
       "overflow": false,
       "plotOptions": {
        "customPlotOptions": {},
        "displayType": "table",
        "pivotAggregation": null,
        "pivotColumns": null,
        "xColumns": null,
        "yColumns": null
       },
       "removedWidgets": [],
       "schema": [
        {
         "metadata": "{}",
         "name": "JOIN_KEY",
         "type": "\"void\""
        },
        {
         "metadata": "{}",
         "name": "EMPNO",
         "type": "\"long\""
        },
        {
         "metadata": "{}",
         "name": "ENAME",
         "type": "\"string\""
        },
        {
         "metadata": "{}",
         "name": "JOB",
         "type": "\"string\""
        },
        {
         "metadata": "{}",
         "name": "MGR",
         "type": "\"string\""
        },
        {
         "metadata": "{}",
         "name": "HIREDATE",
         "type": "\"string\""
        },
        {
         "metadata": "{}",
         "name": "SAL",
         "type": "\"long\""
        },
        {
         "metadata": "{}",
         "name": "COMM",
         "type": "\"string\""
        },
        {
         "metadata": "{}",
         "name": "DEPTNO",
         "type": "\"long\""
        },
        {
         "metadata": "{}",
         "name": "ETL_CHECKSUM",
         "type": "\"string\""
        }
       ],
       "type": "table"
      }
     },
     "output_type": "display_data"
    },
    {
     "output_type": "display_data",
     "data": {
      "text/html": [
       "<style scoped>\n",
       "  .table-result-container {\n",
       "    max-height: 300px;\n",
       "    overflow: auto;\n",
       "  }\n",
       "  table, th, td {\n",
       "    border: 1px solid black;\n",
       "    border-collapse: collapse;\n",
       "  }\n",
       "  th, td {\n",
       "    padding: 5px;\n",
       "  }\n",
       "  th {\n",
       "    text-align: left;\n",
       "  }\n",
       "</style><div class='table-result-container'><table class='table-result'><thead style='background-color: white'><tr><th>JOIN_KEY</th><th>EMPNO</th><th>ENAME</th><th>JOB</th><th>MGR</th><th>HIREDATE</th><th>SAL</th><th>COMM</th><th>DEPTNO</th><th>ETL_CHECKSUM</th></tr></thead><tbody><tr><td>7839</td><td>7839</td><td>KING</td><td>PRESIDENT</td><td></td><td>1981-11-17</td><td>5000</td><td></td><td>10</td><td>bc1cf418724ab56313dc6c3f2e7eb34c</td></tr><tr><td>7698</td><td>7698</td><td>BLAKE</td><td>MANAGER</td><td>7839</td><td>1981-05-01</td><td>2850</td><td></td><td>30</td><td>3e9e79400e00fd2374eb64cbf34da1c0</td></tr><tr><td>7782</td><td>7782</td><td>CLARK</td><td>MANAGER</td><td>7839</td><td>1981-06-09</td><td>2450</td><td></td><td>10</td><td>34d454b81056c09de467ed30077da5c9</td></tr><tr><td>7566</td><td>7566</td><td>JONES</td><td>MANAGER</td><td>7839</td><td>1981-04-02</td><td>2975</td><td></td><td>20</td><td>f696067cd364d153e154204d62598445</td></tr><tr><td>7788</td><td>7788</td><td>SCOTT</td><td>ANALYST</td><td>7566</td><td>1987-04-19</td><td>3000</td><td></td><td>20</td><td>10d0a7d4ac6c6558cc7d7210761ab590</td></tr><tr><td>7902</td><td>7902</td><td>FORD</td><td>ANALYST</td><td>7566</td><td>1981-12-03</td><td>3000</td><td></td><td>20</td><td>3d31c3715fb51805c4b71b1f5cf456d5</td></tr><tr><td>7369</td><td>7369</td><td>SMITH</td><td>CLERK</td><td>7902</td><td>1980-12-17</td><td>800</td><td></td><td>20</td><td>f5fc6c3de19d491f867d94856fb98f87</td></tr><tr><td>7499</td><td>7499</td><td>ALLEN</td><td>SALESMAN</td><td>7698</td><td>1981-02-20</td><td>1600</td><td>300</td><td>30</td><td>40fa7d7eb2d3994624740f143adb097e</td></tr><tr><td>7521</td><td>7521</td><td>WARD</td><td>SALESMAN</td><td>7698</td><td>1981-02-22</td><td>1250</td><td>500</td><td>30</td><td>ba596d8b173e58e4b05fab66694ec819</td></tr><tr><td>7654</td><td>7654</td><td>MARTIN</td><td>SALESMAN</td><td>7698</td><td>1981-09-28</td><td>1250</td><td>1400</td><td>30</td><td>be5f02c7512f42be780879e2946687e9</td></tr><tr><td>7844</td><td>7844</td><td>TURNER</td><td>SALESMAN</td><td>7698</td><td>1981-09-08</td><td>1500</td><td>0</td><td>30</td><td>28ade27449ded787abacf9f17381c58e</td></tr><tr><td>7876</td><td>7876</td><td>ADAMS</td><td>CLERK</td><td>7788</td><td>1987-05-23</td><td>1100</td><td></td><td>20</td><td>bfcd8d9c2ed69d608842eae9140e7903</td></tr><tr><td>7900</td><td>7900</td><td>JAMES</td><td>CLERK</td><td>7698</td><td>1981-12-03</td><td>950</td><td></td><td>30</td><td>ac26dde3d27829cd387391d3f27e1571</td></tr><tr><td>7934</td><td>7934</td><td>MILLER</td><td>ANALYST</td><td>7782</td><td>1982-01-23</td><td>1300</td><td></td><td>40</td><td>4178f1da3b8586de4de7d5205d54eaf2</td></tr><tr><td>7935</td><td>7935</td><td>MILLER_T</td><td>ANALYST</td><td>7782</td><td>1982-01-23</td><td>1300</td><td></td><td>40</td><td>4178f1da3b8586de4de7d5205d54eaf2</td></tr><tr><td>null</td><td>7934</td><td>MILLER</td><td>ANALYST</td><td>7782</td><td>1982-01-23</td><td>1300</td><td></td><td>40</td><td>4178f1da3b8586de4de7d5205d54eaf2</td></tr></tbody></table></div>"
      ]
     },
     "metadata": {
      "application/vnd.databricks.v1+output": {
       "addedWidgets": {},
       "aggData": [],
       "aggError": "",
       "aggOverflow": false,
       "aggSchema": [],
       "aggSeriesLimitReached": false,
       "aggType": "",
       "arguments": {},
       "columnCustomDisplayInfos": {},
       "data": [
        [
         7839,
         7839,
         "KING",
         "PRESIDENT",
         "",
         "1981-11-17",
         5000,
         "",
         10,
         "bc1cf418724ab56313dc6c3f2e7eb34c"
        ],
        [
         7698,
         7698,
         "BLAKE",
         "MANAGER",
         "7839",
         "1981-05-01",
         2850,
         "",
         30,
         "3e9e79400e00fd2374eb64cbf34da1c0"
        ],
        [
         7782,
         7782,
         "CLARK",
         "MANAGER",
         "7839",
         "1981-06-09",
         2450,
         "",
         10,
         "34d454b81056c09de467ed30077da5c9"
        ],
        [
         7566,
         7566,
         "JONES",
         "MANAGER",
         "7839",
         "1981-04-02",
         2975,
         "",
         20,
         "f696067cd364d153e154204d62598445"
        ],
        [
         7788,
         7788,
         "SCOTT",
         "ANALYST",
         "7566",
         "1987-04-19",
         3000,
         "",
         20,
         "10d0a7d4ac6c6558cc7d7210761ab590"
        ],
        [
         7902,
         7902,
         "FORD",
         "ANALYST",
         "7566",
         "1981-12-03",
         3000,
         "",
         20,
         "3d31c3715fb51805c4b71b1f5cf456d5"
        ],
        [
         7369,
         7369,
         "SMITH",
         "CLERK",
         "7902",
         "1980-12-17",
         800,
         "",
         20,
         "f5fc6c3de19d491f867d94856fb98f87"
        ],
        [
         7499,
         7499,
         "ALLEN",
         "SALESMAN",
         "7698",
         "1981-02-20",
         1600,
         "300",
         30,
         "40fa7d7eb2d3994624740f143adb097e"
        ],
        [
         7521,
         7521,
         "WARD",
         "SALESMAN",
         "7698",
         "1981-02-22",
         1250,
         "500",
         30,
         "ba596d8b173e58e4b05fab66694ec819"
        ],
        [
         7654,
         7654,
         "MARTIN",
         "SALESMAN",
         "7698",
         "1981-09-28",
         1250,
         "1400",
         30,
         "be5f02c7512f42be780879e2946687e9"
        ],
        [
         7844,
         7844,
         "TURNER",
         "SALESMAN",
         "7698",
         "1981-09-08",
         1500,
         "0",
         30,
         "28ade27449ded787abacf9f17381c58e"
        ],
        [
         7876,
         7876,
         "ADAMS",
         "CLERK",
         "7788",
         "1987-05-23",
         1100,
         "",
         20,
         "bfcd8d9c2ed69d608842eae9140e7903"
        ],
        [
         7900,
         7900,
         "JAMES",
         "CLERK",
         "7698",
         "1981-12-03",
         950,
         "",
         30,
         "ac26dde3d27829cd387391d3f27e1571"
        ],
        [
         7934,
         7934,
         "MILLER",
         "ANALYST",
         "7782",
         "1982-01-23",
         1300,
         "",
         40,
         "4178f1da3b8586de4de7d5205d54eaf2"
        ],
        [
         7935,
         7935,
         "MILLER_T",
         "ANALYST",
         "7782",
         "1982-01-23",
         1300,
         "",
         40,
         "4178f1da3b8586de4de7d5205d54eaf2"
        ],
        [
         null,
         7934,
         "MILLER",
         "ANALYST",
         "7782",
         "1982-01-23",
         1300,
         "",
         40,
         "4178f1da3b8586de4de7d5205d54eaf2"
        ]
       ],
       "datasetInfos": [],
       "dbfsResultPath": null,
       "isJsonSchema": true,
       "metadata": {},
       "overflow": false,
       "plotOptions": {
        "customPlotOptions": {},
        "displayType": "table",
        "pivotAggregation": null,
        "pivotColumns": null,
        "xColumns": null,
        "yColumns": null
       },
       "removedWidgets": [],
       "schema": [
        {
         "metadata": "{}",
         "name": "JOIN_KEY",
         "type": "\"long\""
        },
        {
         "metadata": "{}",
         "name": "EMPNO",
         "type": "\"long\""
        },
        {
         "metadata": "{}",
         "name": "ENAME",
         "type": "\"string\""
        },
        {
         "metadata": "{}",
         "name": "JOB",
         "type": "\"string\""
        },
        {
         "metadata": "{}",
         "name": "MGR",
         "type": "\"string\""
        },
        {
         "metadata": "{}",
         "name": "HIREDATE",
         "type": "\"string\""
        },
        {
         "metadata": "{}",
         "name": "SAL",
         "type": "\"long\""
        },
        {
         "metadata": "{}",
         "name": "COMM",
         "type": "\"string\""
        },
        {
         "metadata": "{}",
         "name": "DEPTNO",
         "type": "\"long\""
        },
        {
         "metadata": "{}",
         "name": "ETL_CHECKSUM",
         "type": "\"string\""
        }
       ],
       "type": "table"
      }
     },
     "output_type": "display_data"
    }
   ],
   "source": [
    "#Create a Temporary view for DataSource\n",
    "df_source.createOrReplaceTempView('EMP_SOURCE_PYSPARK')\n",
    "\n",
    "# Create a DataFrame for the Target DataSource\n",
    "from delta.tables import *\n",
    "EMPSCD2MergeTable = DeltaTable.forPath(spark, \"/FileStore/tables/delta-table-merge/EMP_SCD2_PYSPARK\")\n",
    "EMPSCD2MergeTable = EMPSCD2MergeTable.toDF()\n",
    "\n",
    "# Create the source DataFrame with JOIN_KEY column and all source columns\n",
    "stg_emp_vw1 = spark.table(\"EMP_SOURCE_PYSPARK\")\n",
    "stg_emp_vw1 = stg_emp_vw1.selectExpr(\"EMPNO AS JOIN_KEY\", \"*\")\n",
    "display(stg_emp_vw1)\n",
    "\n",
    "# Join Target Data Frame with Source Dataframe for the new records\n",
    "stg_emp_vw2 = spark.table(\"EMP_SOURCE_PYSPARK\")\n",
    "#display(stg_emp_vw2)\n",
    "stg_emp_vw2 = stg_emp_vw2.selectExpr(\"NULL AS JOIN_KEY\",\"*\")\\\n",
    ".join(EMPSCD2MergeTable, (stg_emp_vw2[\"EMPNO\"] == EMPSCD2MergeTable[\"EMPNO\"]), \"inner\")\\\n",
    ".filter((EMPSCD2MergeTable[\"ETL_CHECKSUM\"] != stg_emp_vw2[\"ETL_CHECKSUM\"]) & (EMPSCD2MergeTable[\"CURRENT_FLAG\"] == \"Y\"))\\\n",
    ".select(\"JOIN_KEY\",stg_emp_vw2[\"EMPNO\"], stg_emp_vw2[\"ENAME\"], stg_emp_vw2[\"JOB\"], stg_emp_vw2[\"MGR\"],stg_emp_vw2[\"HIREDATE\"], stg_emp_vw2[\"SAL\"], stg_emp_vw2[\"COMM\"], stg_emp_vw2[\"DEPTNO\"],stg_emp_vw2[\"ETL_CHECKSUM\"])\n",
    "#.select(\"JOIN_KEY\", *)\n",
    "\n",
    "display(stg_emp_vw2)\n",
    "\n",
    "#Union the both Dataframes\n",
    "stg_emp_vw = stg_emp_vw1.unionAll(stg_emp_vw2)\n",
    "display(stg_emp_vw)\n",
    "\n"
   ]
  },
  {
   "cell_type": "code",
   "execution_count": 0,
   "metadata": {
    "application/vnd.databricks.v1+cell": {
     "cellMetadata": {},
     "inputWidgets": {},
     "nuid": "a8f7cd02-577c-407a-9b28-9788fda6a00c",
     "showTitle": false,
     "title": ""
    }
   },
   "outputs": [],
   "source": []
  },
  {
   "cell_type": "code",
   "execution_count": 0,
   "metadata": {
    "application/vnd.databricks.v1+cell": {
     "cellMetadata": {
      "byteLimit": 2048000,
      "rowLimit": 10000
     },
     "inputWidgets": {},
     "nuid": "8802e3df-cd79-495c-9565-989d20883ef6",
     "showTitle": true,
     "title": "Generate Surrogate Key(Row Number)"
    }
   },
   "outputs": [
    {
     "output_type": "stream",
     "name": "stdout",
     "output_type": "stream",
     "text": [
      "30"
     ]
    },
    {
     "output_type": "display_data",
     "data": {
      "text/html": [
       "<style scoped>\n",
       "  .table-result-container {\n",
       "    max-height: 300px;\n",
       "    overflow: auto;\n",
       "  }\n",
       "  table, th, td {\n",
       "    border: 1px solid black;\n",
       "    border-collapse: collapse;\n",
       "  }\n",
       "  th, td {\n",
       "    padding: 5px;\n",
       "  }\n",
       "  th {\n",
       "    text-align: left;\n",
       "  }\n",
       "</style><div class='table-result-container'><table class='table-result'><thead style='background-color: white'><tr><th>JOIN_KEY</th><th>EMPNO</th><th>ENAME</th><th>JOB</th><th>MGR</th><th>HIREDATE</th><th>SAL</th><th>COMM</th><th>DEPTNO</th><th>ETL_CHECKSUM</th><th>row_num</th></tr></thead><tbody><tr><td>7369</td><td>7369</td><td>SMITH</td><td>CLERK</td><td>7902</td><td>1980-12-17</td><td>800</td><td></td><td>20</td><td>f5fc6c3de19d491f867d94856fb98f87</td><td>31</td></tr><tr><td>7499</td><td>7499</td><td>ALLEN</td><td>SALESMAN</td><td>7698</td><td>1981-02-20</td><td>1600</td><td>300</td><td>30</td><td>40fa7d7eb2d3994624740f143adb097e</td><td>32</td></tr><tr><td>7521</td><td>7521</td><td>WARD</td><td>SALESMAN</td><td>7698</td><td>1981-02-22</td><td>1250</td><td>500</td><td>30</td><td>ba596d8b173e58e4b05fab66694ec819</td><td>33</td></tr><tr><td>7566</td><td>7566</td><td>JONES</td><td>MANAGER</td><td>7839</td><td>1981-04-02</td><td>2975</td><td></td><td>20</td><td>f696067cd364d153e154204d62598445</td><td>34</td></tr><tr><td>7654</td><td>7654</td><td>MARTIN</td><td>SALESMAN</td><td>7698</td><td>1981-09-28</td><td>1250</td><td>1400</td><td>30</td><td>be5f02c7512f42be780879e2946687e9</td><td>35</td></tr><tr><td>7698</td><td>7698</td><td>BLAKE</td><td>MANAGER</td><td>7839</td><td>1981-05-01</td><td>2850</td><td></td><td>30</td><td>3e9e79400e00fd2374eb64cbf34da1c0</td><td>36</td></tr><tr><td>7782</td><td>7782</td><td>CLARK</td><td>MANAGER</td><td>7839</td><td>1981-06-09</td><td>2450</td><td></td><td>10</td><td>34d454b81056c09de467ed30077da5c9</td><td>37</td></tr><tr><td>7788</td><td>7788</td><td>SCOTT</td><td>ANALYST</td><td>7566</td><td>1987-04-19</td><td>3000</td><td></td><td>20</td><td>10d0a7d4ac6c6558cc7d7210761ab590</td><td>38</td></tr><tr><td>7839</td><td>7839</td><td>KING</td><td>PRESIDENT</td><td></td><td>1981-11-17</td><td>5000</td><td></td><td>10</td><td>bc1cf418724ab56313dc6c3f2e7eb34c</td><td>39</td></tr><tr><td>7844</td><td>7844</td><td>TURNER</td><td>SALESMAN</td><td>7698</td><td>1981-09-08</td><td>1500</td><td>0</td><td>30</td><td>28ade27449ded787abacf9f17381c58e</td><td>40</td></tr><tr><td>7876</td><td>7876</td><td>ADAMS</td><td>CLERK</td><td>7788</td><td>1987-05-23</td><td>1100</td><td></td><td>20</td><td>bfcd8d9c2ed69d608842eae9140e7903</td><td>41</td></tr><tr><td>7900</td><td>7900</td><td>JAMES</td><td>CLERK</td><td>7698</td><td>1981-12-03</td><td>950</td><td></td><td>30</td><td>ac26dde3d27829cd387391d3f27e1571</td><td>42</td></tr><tr><td>7902</td><td>7902</td><td>FORD</td><td>ANALYST</td><td>7566</td><td>1981-12-03</td><td>3000</td><td></td><td>20</td><td>3d31c3715fb51805c4b71b1f5cf456d5</td><td>43</td></tr><tr><td>7934</td><td>7934</td><td>MILLER</td><td>ANALYST</td><td>7782</td><td>1982-01-23</td><td>1300</td><td></td><td>40</td><td>4178f1da3b8586de4de7d5205d54eaf2</td><td>44</td></tr><tr><td>7935</td><td>7935</td><td>MILLER_T</td><td>ANALYST</td><td>7782</td><td>1982-01-23</td><td>1300</td><td></td><td>40</td><td>4178f1da3b8586de4de7d5205d54eaf2</td><td>45</td></tr></tbody></table></div>"
      ]
     },
     "metadata": {
      "application/vnd.databricks.v1+output": {
       "addedWidgets": {},
       "aggData": [],
       "aggError": "",
       "aggOverflow": false,
       "aggSchema": [],
       "aggSeriesLimitReached": false,
       "aggType": "",
       "arguments": {},
       "columnCustomDisplayInfos": {},
       "data": [
        [
         7369,
         7369,
         "SMITH",
         "CLERK",
         "7902",
         "1980-12-17",
         800,
         "",
         20,
         "f5fc6c3de19d491f867d94856fb98f87",
         31
        ],
        [
         7499,
         7499,
         "ALLEN",
         "SALESMAN",
         "7698",
         "1981-02-20",
         1600,
         "300",
         30,
         "40fa7d7eb2d3994624740f143adb097e",
         32
        ],
        [
         7521,
         7521,
         "WARD",
         "SALESMAN",
         "7698",
         "1981-02-22",
         1250,
         "500",
         30,
         "ba596d8b173e58e4b05fab66694ec819",
         33
        ],
        [
         7566,
         7566,
         "JONES",
         "MANAGER",
         "7839",
         "1981-04-02",
         2975,
         "",
         20,
         "f696067cd364d153e154204d62598445",
         34
        ],
        [
         7654,
         7654,
         "MARTIN",
         "SALESMAN",
         "7698",
         "1981-09-28",
         1250,
         "1400",
         30,
         "be5f02c7512f42be780879e2946687e9",
         35
        ],
        [
         7698,
         7698,
         "BLAKE",
         "MANAGER",
         "7839",
         "1981-05-01",
         2850,
         "",
         30,
         "3e9e79400e00fd2374eb64cbf34da1c0",
         36
        ],
        [
         7782,
         7782,
         "CLARK",
         "MANAGER",
         "7839",
         "1981-06-09",
         2450,
         "",
         10,
         "34d454b81056c09de467ed30077da5c9",
         37
        ],
        [
         7788,
         7788,
         "SCOTT",
         "ANALYST",
         "7566",
         "1987-04-19",
         3000,
         "",
         20,
         "10d0a7d4ac6c6558cc7d7210761ab590",
         38
        ],
        [
         7839,
         7839,
         "KING",
         "PRESIDENT",
         "",
         "1981-11-17",
         5000,
         "",
         10,
         "bc1cf418724ab56313dc6c3f2e7eb34c",
         39
        ],
        [
         7844,
         7844,
         "TURNER",
         "SALESMAN",
         "7698",
         "1981-09-08",
         1500,
         "0",
         30,
         "28ade27449ded787abacf9f17381c58e",
         40
        ],
        [
         7876,
         7876,
         "ADAMS",
         "CLERK",
         "7788",
         "1987-05-23",
         1100,
         "",
         20,
         "bfcd8d9c2ed69d608842eae9140e7903",
         41
        ],
        [
         7900,
         7900,
         "JAMES",
         "CLERK",
         "7698",
         "1981-12-03",
         950,
         "",
         30,
         "ac26dde3d27829cd387391d3f27e1571",
         42
        ],
        [
         7902,
         7902,
         "FORD",
         "ANALYST",
         "7566",
         "1981-12-03",
         3000,
         "",
         20,
         "3d31c3715fb51805c4b71b1f5cf456d5",
         43
        ],
        [
         7934,
         7934,
         "MILLER",
         "ANALYST",
         "7782",
         "1982-01-23",
         1300,
         "",
         40,
         "4178f1da3b8586de4de7d5205d54eaf2",
         44
        ],
        [
         7935,
         7935,
         "MILLER_T",
         "ANALYST",
         "7782",
         "1982-01-23",
         1300,
         "",
         40,
         "4178f1da3b8586de4de7d5205d54eaf2",
         45
        ]
       ],
       "datasetInfos": [],
       "dbfsResultPath": null,
       "isJsonSchema": true,
       "metadata": {},
       "overflow": false,
       "plotOptions": {
        "customPlotOptions": {},
        "displayType": "table",
        "pivotAggregation": null,
        "pivotColumns": null,
        "xColumns": null,
        "yColumns": null
       },
       "removedWidgets": [],
       "schema": [
        {
         "metadata": "{}",
         "name": "JOIN_KEY",
         "type": "\"long\""
        },
        {
         "metadata": "{}",
         "name": "EMPNO",
         "type": "\"long\""
        },
        {
         "metadata": "{}",
         "name": "ENAME",
         "type": "\"string\""
        },
        {
         "metadata": "{}",
         "name": "JOB",
         "type": "\"string\""
        },
        {
         "metadata": "{}",
         "name": "MGR",
         "type": "\"string\""
        },
        {
         "metadata": "{}",
         "name": "HIREDATE",
         "type": "\"string\""
        },
        {
         "metadata": "{}",
         "name": "SAL",
         "type": "\"long\""
        },
        {
         "metadata": "{}",
         "name": "COMM",
         "type": "\"string\""
        },
        {
         "metadata": "{}",
         "name": "DEPTNO",
         "type": "\"long\""
        },
        {
         "metadata": "{}",
         "name": "ETL_CHECKSUM",
         "type": "\"string\""
        },
        {
         "metadata": "{}",
         "name": "row_num",
         "type": "\"integer\""
        }
       ],
       "type": "table"
      }
     },
     "output_type": "display_data"
    }
   ],
   "source": [
    "# Determine the maximum surrogate key value in the target table\n",
    "emp_scd2_pyspark_df = spark.table(\"training.EMP_SCD2_PYSPARK\")\n",
    "max_sk = emp_scd2_pyspark_df.select(max(emp_scd2_pyspark_df[\"SK_EMPNO\"]).alias(\"MAX_SK\")).na.fill(0).collect()[0][0]\n",
    "display(max_sk)\n",
    "# Add row_number to new rows for surrogate key generation\n",
    "window_spec = Window.orderBy(\"EMPNO\")\n",
    "stg_emp_vw = stg_emp_vw.withColumn(\"row_num\", row_number().over(window_spec) + max_sk)\n",
    "                                        \n",
    "display(stg_emp_vw)\n"
   ]
  },
  {
   "cell_type": "code",
   "execution_count": 0,
   "metadata": {
    "application/vnd.databricks.v1+cell": {
     "cellMetadata": {
      "byteLimit": 2048000,
      "rowLimit": 10000
     },
     "inputWidgets": {},
     "nuid": "a22a36ef-c319-4cc8-9f96-6eb7f33e2055",
     "showTitle": true,
     "title": "Merge the Records into Target Table"
    }
   },
   "outputs": [],
   "source": [
    "# Create or load the Delta table\n",
    "delta_table = DeltaTable.forPath(spark,\"/FileStore/tables/delta-table-merge/EMP_SCD2_PYSPARK\")\n",
    "\n",
    "delta_table.alias(\"Target\")\\\n",
    "    .merge(\n",
    "            source = stg_emp_vw.alias(\"Source\"), condition = \"Target.EMPNO = Source.JOIN_KEY\"\n",
    "          )\\\n",
    "    .whenMatchedUpdate(\n",
    "                       condition=\"TARGET.ETL_CHECKSUM != SOURCE.ETL_CHECKSUM\",\n",
    "                        set =\n",
    "                        {\n",
    "                          \"Target.CURRENT_FLAG\" : \"'N'\",\n",
    "                          \"Target.EXPIRATION_DATE\" : lit(current_timestamp())\n",
    "                        }\n",
    "                      )\\\n",
    "    .whenNotMatchedInsert(\n",
    "                            values =\n",
    "                            {\n",
    "                            \"Target.EMPNO\": \"Source.EMPNO\",\n",
    "                            \"Target.ENAME\": \"Source.ENAME\",\n",
    "                            \"Target.JOB\": \"Source.JOB\",\n",
    "                            \"Target.MGR\": \"Source.MGR\",\n",
    "                            \"Target.HIREDATE\": \"Source.HIREDATE\",\n",
    "                            \"Target.SAL\": \"Source.SAL\",\n",
    "                            \"Target.COMM\": \"Source.COMM\",\n",
    "                            \"Target.DEPTNO\": \"Source.DEPTNO\",\n",
    "                            #\"Target.SK_EMPNO\": \"''\",\n",
    "                            \"Target.SK_EMPNO\": \"Source.row_num\",  # Increment surrogate key\n",
    "                            \"Target.EFFECTIVE_DATE\": lit(current_timestamp()),\n",
    "                            \"Target.EXPIRATION_DATE\": \"'9999-12-31'\",\n",
    "                            \"Target.CURRENT_FLAG\": \"'Y'\",\n",
    "                            \"Target.ETL_CHECKSUM\": \"Source.ETL_CHECKSUM\",\n",
    "                            }\n",
    "                        )\\\n",
    "    .execute()\n"
   ]
  },
  {
   "cell_type": "code",
   "execution_count": 0,
   "metadata": {
    "application/vnd.databricks.v1+cell": {
     "cellMetadata": {
      "byteLimit": 2048000,
      "implicitDf": true,
      "rowLimit": 10000
     },
     "inputWidgets": {},
     "nuid": "448973e0-417d-4a52-9e98-5e8cf229eef0",
     "showTitle": true,
     "title": "See the Output in the Target Table"
    }
   },
   "outputs": [
    {
     "output_type": "display_data",
     "data": {
      "text/html": [
       "<style scoped>\n",
       "  .table-result-container {\n",
       "    max-height: 300px;\n",
       "    overflow: auto;\n",
       "  }\n",
       "  table, th, td {\n",
       "    border: 1px solid black;\n",
       "    border-collapse: collapse;\n",
       "  }\n",
       "  th, td {\n",
       "    padding: 5px;\n",
       "  }\n",
       "  th {\n",
       "    text-align: left;\n",
       "  }\n",
       "</style><div class='table-result-container'><table class='table-result'><thead style='background-color: white'><tr><th>EMPNO</th><th>ENAME</th><th>JOB</th><th>MGR</th><th>HIREDATE</th><th>SAL</th><th>COMM</th><th>DEPTNO</th><th>sk_EMPNO</th><th>EFFECTIVE_DATE</th><th>EXPIRATION_DATE</th><th>CURRENT_FLAG</th><th>ETL_CHECKSUM</th></tr></thead><tbody><tr><td>7369</td><td>SMITH</td><td>CLERK</td><td>7902</td><td>1980-12-17</td><td>800</td><td>null</td><td>20</td><td>1</td><td>2024-05-18</td><td>9999-12-31</td><td>Y</td><td>f5fc6c3de19d491f867d94856fb98f87</td></tr><tr><td>7499</td><td>ALLEN</td><td>SALESMAN</td><td>7698</td><td>1981-02-20</td><td>1600</td><td>300</td><td>30</td><td>2</td><td>2024-05-18</td><td>9999-12-31</td><td>Y</td><td>40fa7d7eb2d3994624740f143adb097e</td></tr><tr><td>7521</td><td>WARD</td><td>SALESMAN</td><td>7698</td><td>1981-02-22</td><td>1250</td><td>500</td><td>30</td><td>3</td><td>2024-05-18</td><td>9999-12-31</td><td>Y</td><td>ba596d8b173e58e4b05fab66694ec819</td></tr><tr><td>7566</td><td>JONES</td><td>MANAGER</td><td>7839</td><td>1981-04-02</td><td>2975</td><td>null</td><td>20</td><td>4</td><td>2024-05-18</td><td>9999-12-31</td><td>Y</td><td>f696067cd364d153e154204d62598445</td></tr><tr><td>7654</td><td>MARTIN</td><td>SALESMAN</td><td>7698</td><td>1981-09-28</td><td>1250</td><td>1400</td><td>30</td><td>5</td><td>2024-05-18</td><td>9999-12-31</td><td>Y</td><td>be5f02c7512f42be780879e2946687e9</td></tr><tr><td>7698</td><td>BLAKE</td><td>MANAGER</td><td>7839</td><td>1981-05-01</td><td>2850</td><td>null</td><td>30</td><td>6</td><td>2024-05-18</td><td>9999-12-31</td><td>Y</td><td>3e9e79400e00fd2374eb64cbf34da1c0</td></tr><tr><td>7782</td><td>CLARK</td><td>MANAGER</td><td>7839</td><td>1981-06-09</td><td>2450</td><td>null</td><td>10</td><td>7</td><td>2024-05-18</td><td>9999-12-31</td><td>Y</td><td>34d454b81056c09de467ed30077da5c9</td></tr><tr><td>7788</td><td>SCOTT</td><td>ANALYST</td><td>7566</td><td>1987-04-19</td><td>3000</td><td>null</td><td>20</td><td>8</td><td>2024-05-18</td><td>9999-12-31</td><td>Y</td><td>10d0a7d4ac6c6558cc7d7210761ab590</td></tr><tr><td>7839</td><td>KING</td><td>PRESIDENT</td><td>null</td><td>1981-11-17</td><td>5000</td><td>null</td><td>10</td><td>9</td><td>2024-05-18</td><td>9999-12-31</td><td>Y</td><td>bc1cf418724ab56313dc6c3f2e7eb34c</td></tr><tr><td>7844</td><td>TURNER</td><td>SALESMAN</td><td>7698</td><td>1981-09-08</td><td>1500</td><td>0</td><td>30</td><td>10</td><td>2024-05-18</td><td>9999-12-31</td><td>Y</td><td>28ade27449ded787abacf9f17381c58e</td></tr><tr><td>7876</td><td>ADAMS</td><td>CLERK</td><td>7788</td><td>1987-05-23</td><td>1100</td><td>null</td><td>20</td><td>11</td><td>2024-05-18</td><td>9999-12-31</td><td>Y</td><td>bfcd8d9c2ed69d608842eae9140e7903</td></tr><tr><td>7900</td><td>JAMES</td><td>CLERK</td><td>7698</td><td>1981-12-03</td><td>950</td><td>null</td><td>30</td><td>12</td><td>2024-05-18</td><td>9999-12-31</td><td>Y</td><td>ac26dde3d27829cd387391d3f27e1571</td></tr><tr><td>7902</td><td>FORD</td><td>ANALYST</td><td>7566</td><td>1981-12-03</td><td>3000</td><td>null</td><td>20</td><td>13</td><td>2024-05-18</td><td>9999-12-31</td><td>Y</td><td>3d31c3715fb51805c4b71b1f5cf456d5</td></tr><tr><td>7934</td><td>MILLER</td><td>ANALYST</td><td>7782</td><td>1982-01-23</td><td>1300</td><td>null</td><td>40</td><td>29</td><td>2024-05-18</td><td>9999-12-31</td><td>Y</td><td>4178f1da3b8586de4de7d5205d54eaf2</td></tr><tr><td>7935</td><td>MILLER_T</td><td>ANALYST</td><td>7782</td><td>1982-01-23</td><td>1300</td><td>null</td><td>40</td><td>30</td><td>2024-05-18</td><td>9999-12-31</td><td>Y</td><td>4178f1da3b8586de4de7d5205d54eaf2</td></tr><tr><td>7934</td><td>MILLER</td><td>ANALYST</td><td>7782</td><td>1982-01-23</td><td>1300</td><td>null</td><td>10</td><td>14</td><td>2024-05-18</td><td>2024-05-18</td><td>N</td><td>094436378dd30624ab71fef82b7cc181</td></tr></tbody></table></div>"
      ]
     },
     "metadata": {
      "application/vnd.databricks.v1+output": {
       "addedWidgets": {},
       "aggData": [],
       "aggError": "",
       "aggOverflow": false,
       "aggSchema": [],
       "aggSeriesLimitReached": false,
       "aggType": "",
       "arguments": {},
       "columnCustomDisplayInfos": {},
       "data": [
        [
         7369,
         "SMITH",
         "CLERK",
         7902,
         "1980-12-17",
         800,
         null,
         20,
         1,
         "2024-05-18",
         "9999-12-31",
         "Y",
         "f5fc6c3de19d491f867d94856fb98f87"
        ],
        [
         7499,
         "ALLEN",
         "SALESMAN",
         7698,
         "1981-02-20",
         1600,
         300,
         30,
         2,
         "2024-05-18",
         "9999-12-31",
         "Y",
         "40fa7d7eb2d3994624740f143adb097e"
        ],
        [
         7521,
         "WARD",
         "SALESMAN",
         7698,
         "1981-02-22",
         1250,
         500,
         30,
         3,
         "2024-05-18",
         "9999-12-31",
         "Y",
         "ba596d8b173e58e4b05fab66694ec819"
        ],
        [
         7566,
         "JONES",
         "MANAGER",
         7839,
         "1981-04-02",
         2975,
         null,
         20,
         4,
         "2024-05-18",
         "9999-12-31",
         "Y",
         "f696067cd364d153e154204d62598445"
        ],
        [
         7654,
         "MARTIN",
         "SALESMAN",
         7698,
         "1981-09-28",
         1250,
         1400,
         30,
         5,
         "2024-05-18",
         "9999-12-31",
         "Y",
         "be5f02c7512f42be780879e2946687e9"
        ],
        [
         7698,
         "BLAKE",
         "MANAGER",
         7839,
         "1981-05-01",
         2850,
         null,
         30,
         6,
         "2024-05-18",
         "9999-12-31",
         "Y",
         "3e9e79400e00fd2374eb64cbf34da1c0"
        ],
        [
         7782,
         "CLARK",
         "MANAGER",
         7839,
         "1981-06-09",
         2450,
         null,
         10,
         7,
         "2024-05-18",
         "9999-12-31",
         "Y",
         "34d454b81056c09de467ed30077da5c9"
        ],
        [
         7788,
         "SCOTT",
         "ANALYST",
         7566,
         "1987-04-19",
         3000,
         null,
         20,
         8,
         "2024-05-18",
         "9999-12-31",
         "Y",
         "10d0a7d4ac6c6558cc7d7210761ab590"
        ],
        [
         7839,
         "KING",
         "PRESIDENT",
         null,
         "1981-11-17",
         5000,
         null,
         10,
         9,
         "2024-05-18",
         "9999-12-31",
         "Y",
         "bc1cf418724ab56313dc6c3f2e7eb34c"
        ],
        [
         7844,
         "TURNER",
         "SALESMAN",
         7698,
         "1981-09-08",
         1500,
         0,
         30,
         10,
         "2024-05-18",
         "9999-12-31",
         "Y",
         "28ade27449ded787abacf9f17381c58e"
        ],
        [
         7876,
         "ADAMS",
         "CLERK",
         7788,
         "1987-05-23",
         1100,
         null,
         20,
         11,
         "2024-05-18",
         "9999-12-31",
         "Y",
         "bfcd8d9c2ed69d608842eae9140e7903"
        ],
        [
         7900,
         "JAMES",
         "CLERK",
         7698,
         "1981-12-03",
         950,
         null,
         30,
         12,
         "2024-05-18",
         "9999-12-31",
         "Y",
         "ac26dde3d27829cd387391d3f27e1571"
        ],
        [
         7902,
         "FORD",
         "ANALYST",
         7566,
         "1981-12-03",
         3000,
         null,
         20,
         13,
         "2024-05-18",
         "9999-12-31",
         "Y",
         "3d31c3715fb51805c4b71b1f5cf456d5"
        ],
        [
         7934,
         "MILLER",
         "ANALYST",
         7782,
         "1982-01-23",
         1300,
         null,
         40,
         29,
         "2024-05-18",
         "9999-12-31",
         "Y",
         "4178f1da3b8586de4de7d5205d54eaf2"
        ],
        [
         7935,
         "MILLER_T",
         "ANALYST",
         7782,
         "1982-01-23",
         1300,
         null,
         40,
         30,
         "2024-05-18",
         "9999-12-31",
         "Y",
         "4178f1da3b8586de4de7d5205d54eaf2"
        ],
        [
         7934,
         "MILLER",
         "ANALYST",
         7782,
         "1982-01-23",
         1300,
         null,
         10,
         14,
         "2024-05-18",
         "2024-05-18",
         "N",
         "094436378dd30624ab71fef82b7cc181"
        ]
       ],
       "datasetInfos": [],
       "dbfsResultPath": null,
       "isJsonSchema": true,
       "metadata": {},
       "overflow": false,
       "plotOptions": {
        "customPlotOptions": {},
        "displayType": "table",
        "pivotAggregation": null,
        "pivotColumns": null,
        "xColumns": null,
        "yColumns": null
       },
       "removedWidgets": [],
       "schema": [
        {
         "metadata": "{}",
         "name": "EMPNO",
         "type": "\"integer\""
        },
        {
         "metadata": "{}",
         "name": "ENAME",
         "type": "\"string\""
        },
        {
         "metadata": "{}",
         "name": "JOB",
         "type": "\"string\""
        },
        {
         "metadata": "{}",
         "name": "MGR",
         "type": "\"integer\""
        },
        {
         "metadata": "{}",
         "name": "HIREDATE",
         "type": "\"date\""
        },
        {
         "metadata": "{}",
         "name": "SAL",
         "type": "\"integer\""
        },
        {
         "metadata": "{}",
         "name": "COMM",
         "type": "\"integer\""
        },
        {
         "metadata": "{}",
         "name": "DEPTNO",
         "type": "\"integer\""
        },
        {
         "metadata": "{}",
         "name": "sk_EMPNO",
         "type": "\"integer\""
        },
        {
         "metadata": "{}",
         "name": "EFFECTIVE_DATE",
         "type": "\"date\""
        },
        {
         "metadata": "{}",
         "name": "EXPIRATION_DATE",
         "type": "\"date\""
        },
        {
         "metadata": "{}",
         "name": "CURRENT_FLAG",
         "type": "\"string\""
        },
        {
         "metadata": "{}",
         "name": "ETL_CHECKSUM",
         "type": "\"string\""
        }
       ],
       "type": "table"
      }
     },
     "output_type": "display_data"
    }
   ],
   "source": [
    "%sql\n",
    "select * from training.EMP_SCD2_PYSPARK"
   ]
  },
  {
   "cell_type": "code",
   "execution_count": 0,
   "metadata": {
    "application/vnd.databricks.v1+cell": {
     "cellMetadata": {},
     "inputWidgets": {},
     "nuid": "8c0004f2-1cac-4b53-be50-424d2d840f11",
     "showTitle": false,
     "title": ""
    }
   },
   "outputs": [],
   "source": []
  }
 ],
 "metadata": {
  "application/vnd.databricks.v1+notebook": {
   "dashboards": [],
   "environmentMetadata": null,
   "language": "python",
   "notebookMetadata": {
    "mostRecentlyExecutedCommandWithImplicitDF": {
     "commandId": 3868784202745427,
     "dataframes": [
      "_sqldf"
     ]
    },
    "pythonIndentUnit": 2
   },
   "notebookName": "SCD TYPE2- USING PYSPARK-UPSERT",
   "widgets": {}
  }
 },
 "nbformat": 4,
 "nbformat_minor": 0
}
