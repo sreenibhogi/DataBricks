{
 "cells": [
  {
   "cell_type": "code",
   "execution_count": 0,
   "metadata": {
    "application/vnd.databricks.v1+cell": {
     "cellMetadata": {
      "byteLimit": 2048000,
      "implicitDf": true,
      "rowLimit": 10000
     },
     "inputWidgets": {},
     "nuid": "84d51175-6240-456a-be7b-3123e321793a",
     "showTitle": true,
     "title": "Create the Database “training”"
    }
   },
   "outputs": [
    {
     "output_type": "display_data",
     "data": {
      "text/html": [
       "<style scoped>\n",
       "  .table-result-container {\n",
       "    max-height: 300px;\n",
       "    overflow: auto;\n",
       "  }\n",
       "  table, th, td {\n",
       "    border: 1px solid black;\n",
       "    border-collapse: collapse;\n",
       "  }\n",
       "  th, td {\n",
       "    padding: 5px;\n",
       "  }\n",
       "  th {\n",
       "    text-align: left;\n",
       "  }\n",
       "</style><div class='table-result-container'><table class='table-result'><thead style='background-color: white'><tr></tr></thead><tbody></tbody></table></div>"
      ]
     },
     "metadata": {
      "application/vnd.databricks.v1+output": {
       "addedWidgets": {},
       "aggData": [],
       "aggError": "",
       "aggOverflow": false,
       "aggSchema": [],
       "aggSeriesLimitReached": false,
       "aggType": "",
       "arguments": {},
       "columnCustomDisplayInfos": {},
       "data": [],
       "datasetInfos": [],
       "dbfsResultPath": null,
       "isJsonSchema": true,
       "metadata": {},
       "overflow": false,
       "plotOptions": {
        "customPlotOptions": {},
        "displayType": "table",
        "pivotAggregation": null,
        "pivotColumns": null,
        "xColumns": null,
        "yColumns": null
       },
       "removedWidgets": [],
       "schema": [],
       "type": "table"
      }
     },
     "output_type": "display_data"
    }
   ],
   "source": [
    "%sql\n",
    "CREATE DATABASE IF NOT EXISTS training;"
   ]
  },
  {
   "cell_type": "code",
   "execution_count": 0,
   "metadata": {
    "application/vnd.databricks.v1+cell": {
     "cellMetadata": {
      "byteLimit": 2048000,
      "implicitDf": true,
      "rowLimit": 10000
     },
     "inputWidgets": {},
     "nuid": "9008e011-cf0a-44f7-b17f-c47b6124d149",
     "showTitle": true,
     "title": "Create an “Empty Delta Table”"
    }
   },
   "outputs": [
    {
     "output_type": "display_data",
     "data": {
      "text/html": [
       "<style scoped>\n",
       "  .table-result-container {\n",
       "    max-height: 300px;\n",
       "    overflow: auto;\n",
       "  }\n",
       "  table, th, td {\n",
       "    border: 1px solid black;\n",
       "    border-collapse: collapse;\n",
       "  }\n",
       "  th, td {\n",
       "    padding: 5px;\n",
       "  }\n",
       "  th {\n",
       "    text-align: left;\n",
       "  }\n",
       "</style><div class='table-result-container'><table class='table-result'><thead style='background-color: white'><tr></tr></thead><tbody></tbody></table></div>"
      ]
     },
     "metadata": {
      "application/vnd.databricks.v1+output": {
       "addedWidgets": {},
       "aggData": [],
       "aggError": "",
       "aggOverflow": false,
       "aggSchema": [],
       "aggSeriesLimitReached": false,
       "aggType": "",
       "arguments": {},
       "columnCustomDisplayInfos": {},
       "data": [],
       "datasetInfos": [],
       "dbfsResultPath": null,
       "isJsonSchema": true,
       "metadata": {},
       "overflow": false,
       "plotOptions": {
        "customPlotOptions": {},
        "displayType": "table",
        "pivotAggregation": null,
        "pivotColumns": null,
        "xColumns": null,
        "yColumns": null
       },
       "removedWidgets": [],
       "schema": [],
       "type": "table"
      }
     },
     "output_type": "display_data"
    }
   ],
   "source": [
    "%sql\n",
    "CREATE OR REPLACE TABLE training.EMP_SCD1\n",
    "(\n",
    "EMPNO INT, \n",
    "\tENAME STRING, \n",
    "\tJOB STRING, \n",
    "\tMGR INT, \n",
    "\tHIREDATE DATE, \n",
    "\tSAL INT, \n",
    "\tCOMM INT, \n",
    "\tDEPTNO INT\n",
    ")\n",
    "USING DELTA\n",
    "LOCATION '/FileStore/tables/delta-table-merge/EMP';"
   ]
  },
  {
   "cell_type": "code",
   "execution_count": 0,
   "metadata": {
    "application/vnd.databricks.v1+cell": {
     "cellMetadata": {
      "byteLimit": 2048000,
      "implicitDf": true,
      "rowLimit": 10000
     },
     "inputWidgets": {},
     "nuid": "42837a9d-932f-4543-989b-575d53a03aac",
     "showTitle": true,
     "title": "“Display” the “Content” of the “Delta Table” (Currently “Empty”)"
    }
   },
   "outputs": [
    {
     "output_type": "display_data",
     "data": {
      "text/html": [
       "<style scoped>\n",
       "  .table-result-container {\n",
       "    max-height: 300px;\n",
       "    overflow: auto;\n",
       "  }\n",
       "  table, th, td {\n",
       "    border: 1px solid black;\n",
       "    border-collapse: collapse;\n",
       "  }\n",
       "  th, td {\n",
       "    padding: 5px;\n",
       "  }\n",
       "  th {\n",
       "    text-align: left;\n",
       "  }\n",
       "</style><div class='table-result-container'><table class='table-result'><thead style='background-color: white'><tr><th>EMPNO</th><th>ENAME</th><th>JOB</th><th>MGR</th><th>HIREDATE</th><th>SAL</th><th>COMM</th><th>DEPTNO</th></tr></thead><tbody></tbody></table></div>"
      ]
     },
     "metadata": {
      "application/vnd.databricks.v1+output": {
       "addedWidgets": {},
       "aggData": [],
       "aggError": "",
       "aggOverflow": false,
       "aggSchema": [],
       "aggSeriesLimitReached": false,
       "aggType": "",
       "arguments": {},
       "columnCustomDisplayInfos": {},
       "data": [],
       "datasetInfos": [],
       "dbfsResultPath": null,
       "isJsonSchema": true,
       "metadata": {},
       "overflow": false,
       "plotOptions": {
        "customPlotOptions": {},
        "displayType": "table",
        "pivotAggregation": null,
        "pivotColumns": null,
        "xColumns": null,
        "yColumns": null
       },
       "removedWidgets": [],
       "schema": [
        {
         "metadata": "{}",
         "name": "EMPNO",
         "type": "\"integer\""
        },
        {
         "metadata": "{}",
         "name": "ENAME",
         "type": "\"string\""
        },
        {
         "metadata": "{}",
         "name": "JOB",
         "type": "\"string\""
        },
        {
         "metadata": "{}",
         "name": "MGR",
         "type": "\"integer\""
        },
        {
         "metadata": "{}",
         "name": "HIREDATE",
         "type": "\"date\""
        },
        {
         "metadata": "{}",
         "name": "SAL",
         "type": "\"integer\""
        },
        {
         "metadata": "{}",
         "name": "COMM",
         "type": "\"integer\""
        },
        {
         "metadata": "{}",
         "name": "DEPTNO",
         "type": "\"integer\""
        }
       ],
       "type": "table"
      }
     },
     "output_type": "display_data"
    }
   ],
   "source": [
    "%sql\n",
    "select * from training.EMP_SCD1"
   ]
  },
  {
   "cell_type": "code",
   "execution_count": 0,
   "metadata": {
    "application/vnd.databricks.v1+cell": {
     "cellMetadata": {
      "byteLimit": 2048000,
      "rowLimit": 10000
     },
     "inputWidgets": {},
     "nuid": "0f53a2f1-8f30-4d8f-b4cf-d92068c085e2",
     "showTitle": false,
     "title": ""
    }
   },
   "outputs": [
    {
     "output_type": "stream",
     "name": "stdout",
     "output_type": "stream",
     "text": [
      "root\n |-- EMPNO: integer (nullable = true)\n |-- ENAME: string (nullable = true)\n |-- JOB: string (nullable = true)\n |-- MGR: integer (nullable = true)\n |-- HIREDATE: string (nullable = true)\n |-- SAL: integer (nullable = true)\n |-- COMM: integer (nullable = true)\n |-- DEPTNO: integer (nullable = true)\n\n"
     ]
    },
    {
     "output_type": "display_data",
     "data": {
      "text/html": [
       "<style scoped>\n",
       "  .table-result-container {\n",
       "    max-height: 300px;\n",
       "    overflow: auto;\n",
       "  }\n",
       "  table, th, td {\n",
       "    border: 1px solid black;\n",
       "    border-collapse: collapse;\n",
       "  }\n",
       "  th, td {\n",
       "    padding: 5px;\n",
       "  }\n",
       "  th {\n",
       "    text-align: left;\n",
       "  }\n",
       "</style><div class='table-result-container'><table class='table-result'><thead style='background-color: white'><tr><th>EMPNO</th><th>ENAME</th><th>JOB</th><th>MGR</th><th>HIREDATE</th><th>SAL</th><th>COMM</th><th>DEPTNO</th></tr></thead><tbody><tr><td>7839</td><td>KING</td><td>PRESIDENT</td><td>null</td><td>17-Nov-81</td><td>5000</td><td>50</td><td>10</td></tr><tr><td>7698</td><td>BLAKE</td><td>MANAGER</td><td>7839</td><td>1-May-81</td><td>2850</td><td>2000</td><td>30</td></tr><tr><td>7782</td><td>CLARK</td><td>MANAGER</td><td>7839</td><td>9-Jun-81</td><td>2450</td><td>10</td><td>10</td></tr><tr><td>7566</td><td>JONES</td><td>MANAGER</td><td>7839</td><td>2-Apr-81</td><td>2975</td><td>50</td><td>20</td></tr><tr><td>7788</td><td>SCOTT</td><td>ANALYST</td><td>7566</td><td>19-Apr-87</td><td>3000</td><td>20</td><td>20</td></tr><tr><td>7902</td><td>FORD</td><td>ANALYST</td><td>7566</td><td>3-Dec-81</td><td>3000</td><td>50</td><td>20</td></tr><tr><td>7369</td><td>SMITH</td><td>CLERK</td><td>7902</td><td>17-Dec-80</td><td>800</td><td>500</td><td>20</td></tr><tr><td>7499</td><td>ALLEN</td><td>SALESMAN</td><td>7698</td><td>20-Feb-81</td><td>1600</td><td>300</td><td>30</td></tr><tr><td>7521</td><td>WARD</td><td>SALESMAN</td><td>7698</td><td>22-Feb-81</td><td>1250</td><td>500</td><td>30</td></tr><tr><td>7654</td><td>MARTIN</td><td>SALESMAN</td><td>7698</td><td>28-Sep-81</td><td>1250</td><td>1400</td><td>30</td></tr><tr><td>7844</td><td>TURNER</td><td>SALESMAN</td><td>7698</td><td>8-Sep-81</td><td>1500</td><td>0</td><td>30</td></tr><tr><td>7876</td><td>ADAMS</td><td>CLERK</td><td>7788</td><td>23-May-87</td><td>1100</td><td>50</td><td>20</td></tr><tr><td>7900</td><td>JAMES</td><td>CLERK</td><td>7698</td><td>3-Dec-81</td><td>950</td><td>50</td><td>30</td></tr><tr><td>7934</td><td>MILLER</td><td>ANALYST</td><td>7782</td><td>23-Jan-82</td><td>1300</td><td>70</td><td>20</td></tr><tr><td>7950</td><td>SREENIVAS_T</td><td>ANALYST</td><td>7782</td><td>23-Jan-83</td><td>1300</td><td>4000</td><td>20</td></tr><tr><td>7960</td><td>PRATHIBHA_TS</td><td>ANALYST</td><td>7782</td><td>5-May-20</td><td>300000</td><td>5000</td><td>20</td></tr><tr><td>7962</td><td>SREENI_T</td><td>CLERK</td><td>7782</td><td>5-May-20</td><td>1300</td><td>8000</td><td>20</td></tr><tr><td>7962</td><td>SREENI_TS</td><td>ANALYST</td><td>7782</td><td>5-May-20</td><td>50000</td><td>10000</td><td>20</td></tr></tbody></table></div>"
      ]
     },
     "metadata": {
      "application/vnd.databricks.v1+output": {
       "addedWidgets": {},
       "aggData": [],
       "aggError": "",
       "aggOverflow": false,
       "aggSchema": [],
       "aggSeriesLimitReached": false,
       "aggType": "",
       "arguments": {},
       "columnCustomDisplayInfos": {},
       "data": [
        [
         7839,
         "KING",
         "PRESIDENT",
         null,
         "17-Nov-81",
         5000,
         50,
         10
        ],
        [
         7698,
         "BLAKE",
         "MANAGER",
         7839,
         "1-May-81",
         2850,
         2000,
         30
        ],
        [
         7782,
         "CLARK",
         "MANAGER",
         7839,
         "9-Jun-81",
         2450,
         10,
         10
        ],
        [
         7566,
         "JONES",
         "MANAGER",
         7839,
         "2-Apr-81",
         2975,
         50,
         20
        ],
        [
         7788,
         "SCOTT",
         "ANALYST",
         7566,
         "19-Apr-87",
         3000,
         20,
         20
        ],
        [
         7902,
         "FORD",
         "ANALYST",
         7566,
         "3-Dec-81",
         3000,
         50,
         20
        ],
        [
         7369,
         "SMITH",
         "CLERK",
         7902,
         "17-Dec-80",
         800,
         500,
         20
        ],
        [
         7499,
         "ALLEN",
         "SALESMAN",
         7698,
         "20-Feb-81",
         1600,
         300,
         30
        ],
        [
         7521,
         "WARD",
         "SALESMAN",
         7698,
         "22-Feb-81",
         1250,
         500,
         30
        ],
        [
         7654,
         "MARTIN",
         "SALESMAN",
         7698,
         "28-Sep-81",
         1250,
         1400,
         30
        ],
        [
         7844,
         "TURNER",
         "SALESMAN",
         7698,
         "8-Sep-81",
         1500,
         0,
         30
        ],
        [
         7876,
         "ADAMS",
         "CLERK",
         7788,
         "23-May-87",
         1100,
         50,
         20
        ],
        [
         7900,
         "JAMES",
         "CLERK",
         7698,
         "3-Dec-81",
         950,
         50,
         30
        ],
        [
         7934,
         "MILLER",
         "ANALYST",
         7782,
         "23-Jan-82",
         1300,
         70,
         20
        ],
        [
         7950,
         "SREENIVAS_T",
         "ANALYST",
         7782,
         "23-Jan-83",
         1300,
         4000,
         20
        ],
        [
         7960,
         "PRATHIBHA_TS",
         "ANALYST",
         7782,
         "5-May-20",
         300000,
         5000,
         20
        ],
        [
         7962,
         "SREENI_T",
         "CLERK",
         7782,
         "5-May-20",
         1300,
         8000,
         20
        ],
        [
         7962,
         "SREENI_TS",
         "ANALYST",
         7782,
         "5-May-20",
         50000,
         10000,
         20
        ]
       ],
       "datasetInfos": [],
       "dbfsResultPath": null,
       "isJsonSchema": true,
       "metadata": {},
       "overflow": false,
       "plotOptions": {
        "customPlotOptions": {},
        "displayType": "table",
        "pivotAggregation": null,
        "pivotColumns": null,
        "xColumns": null,
        "yColumns": null
       },
       "removedWidgets": [],
       "schema": [
        {
         "metadata": "{}",
         "name": "EMPNO",
         "type": "\"integer\""
        },
        {
         "metadata": "{}",
         "name": "ENAME",
         "type": "\"string\""
        },
        {
         "metadata": "{}",
         "name": "JOB",
         "type": "\"string\""
        },
        {
         "metadata": "{}",
         "name": "MGR",
         "type": "\"integer\""
        },
        {
         "metadata": "{}",
         "name": "HIREDATE",
         "type": "\"string\""
        },
        {
         "metadata": "{}",
         "name": "SAL",
         "type": "\"integer\""
        },
        {
         "metadata": "{}",
         "name": "COMM",
         "type": "\"integer\""
        },
        {
         "metadata": "{}",
         "name": "DEPTNO",
         "type": "\"integer\""
        }
       ],
       "type": "table"
      }
     },
     "output_type": "display_data"
    }
   ],
   "source": [
    "SOURCE_PATH = \"dbfs:/FileStore/tables/EMP1-4.csv\"\n",
    "df_source = spark.read.options(header=True, delimiter=',', inferSchema='True').csv(SOURCE_PATH)\n",
    "#spark.read.options(header=True, delimiter=',',inferSchema='True')\\\n",
    "df_source.printSchema()\n",
    "display(df_source)\n"
   ]
  },
  {
   "cell_type": "code",
   "execution_count": 0,
   "metadata": {
    "application/vnd.databricks.v1+cell": {
     "cellMetadata": {
      "byteLimit": 2048000,
      "rowLimit": 10000
     },
     "inputWidgets": {},
     "nuid": "2cc4fbcc-f482-4bee-81a8-772b4ed383f6",
     "showTitle": true,
     "title": "Create a “Source View” from the “Source DataFrame” for the “First Load”"
    }
   },
   "outputs": [],
   "source": [
    "df_source.createOrReplaceTempView('EMP_SOURCE')"
   ]
  },
  {
   "cell_type": "code",
   "execution_count": 0,
   "metadata": {
    "application/vnd.databricks.v1+cell": {
     "cellMetadata": {
      "byteLimit": 2048000,
      "implicitDf": true,
      "rowLimit": 10000
     },
     "inputWidgets": {},
     "nuid": "8685d019-2c4f-42e4-84a5-f05cc9ccf9c6",
     "showTitle": true,
     "title": "“Display” the “Content” of the “Source View”"
    }
   },
   "outputs": [
    {
     "output_type": "display_data",
     "data": {
      "text/html": [
       "<style scoped>\n",
       "  .table-result-container {\n",
       "    max-height: 300px;\n",
       "    overflow: auto;\n",
       "  }\n",
       "  table, th, td {\n",
       "    border: 1px solid black;\n",
       "    border-collapse: collapse;\n",
       "  }\n",
       "  th, td {\n",
       "    padding: 5px;\n",
       "  }\n",
       "  th {\n",
       "    text-align: left;\n",
       "  }\n",
       "</style><div class='table-result-container'><table class='table-result'><thead style='background-color: white'><tr><th>EMPNO</th><th>ENAME</th><th>JOB</th><th>MGR</th><th>HIREDATE</th><th>SAL</th><th>COMM</th><th>DEPTNO</th></tr></thead><tbody><tr><td>7839</td><td>KING</td><td>PRESIDENT</td><td>null</td><td>17-Nov-81</td><td>5000</td><td>null</td><td>10</td></tr><tr><td>7698</td><td>BLAKE</td><td>MANAGER</td><td>7839</td><td>1-May-81</td><td>2850</td><td>null</td><td>30</td></tr><tr><td>7782</td><td>CLARK</td><td>MANAGER</td><td>7839</td><td>9-Jun-81</td><td>2450</td><td>null</td><td>10</td></tr><tr><td>7566</td><td>JONES</td><td>MANAGER</td><td>7839</td><td>2-Apr-81</td><td>2975</td><td>null</td><td>20</td></tr><tr><td>7788</td><td>SCOTT</td><td>ANALYST</td><td>7566</td><td>19-Apr-87</td><td>3000</td><td>null</td><td>20</td></tr><tr><td>7902</td><td>FORD</td><td>ANALYST</td><td>7566</td><td>3-Dec-81</td><td>3000</td><td>null</td><td>20</td></tr><tr><td>7369</td><td>SMITH</td><td>CLERK</td><td>7902</td><td>17-Dec-80</td><td>800</td><td>null</td><td>20</td></tr><tr><td>7499</td><td>ALLEN</td><td>SALESMAN</td><td>7698</td><td>20-Feb-81</td><td>1600</td><td>300</td><td>30</td></tr><tr><td>7521</td><td>WARD</td><td>SALESMAN</td><td>7698</td><td>22-Feb-81</td><td>1250</td><td>500</td><td>30</td></tr><tr><td>7654</td><td>MARTIN</td><td>SALESMAN</td><td>7698</td><td>28-Sep-81</td><td>1250</td><td>1400</td><td>30</td></tr><tr><td>7844</td><td>TURNER</td><td>SALESMAN</td><td>7698</td><td>8-Sep-81</td><td>1500</td><td>0</td><td>30</td></tr><tr><td>7876</td><td>ADAMS</td><td>CLERK</td><td>7788</td><td>23-May-87</td><td>1100</td><td>null</td><td>20</td></tr><tr><td>7900</td><td>JAMES</td><td>CLERK</td><td>7698</td><td>3-Dec-81</td><td>950</td><td>null</td><td>30</td></tr><tr><td>7934</td><td>MILLER</td><td>ANALYST</td><td>7782</td><td>23-Jan-82</td><td>1300</td><td>null</td><td>10</td></tr><tr><td>7950</td><td>SREENIVAS_T</td><td>ANALYST</td><td>7782</td><td>23-Jan-83</td><td>1300</td><td>null</td><td>20</td></tr><tr><td>7960</td><td>PRATHIBHA_T</td><td>ANALYST</td><td>7782</td><td>5-May-20</td><td>1300</td><td>null</td><td>20</td></tr></tbody></table></div>"
      ]
     },
     "metadata": {
      "application/vnd.databricks.v1+output": {
       "addedWidgets": {},
       "aggData": [],
       "aggError": "",
       "aggOverflow": false,
       "aggSchema": [],
       "aggSeriesLimitReached": false,
       "aggType": "",
       "arguments": {},
       "columnCustomDisplayInfos": {},
       "data": [
        [
         7839,
         "KING",
         "PRESIDENT",
         null,
         "17-Nov-81",
         5000,
         null,
         10
        ],
        [
         7698,
         "BLAKE",
         "MANAGER",
         7839,
         "1-May-81",
         2850,
         null,
         30
        ],
        [
         7782,
         "CLARK",
         "MANAGER",
         7839,
         "9-Jun-81",
         2450,
         null,
         10
        ],
        [
         7566,
         "JONES",
         "MANAGER",
         7839,
         "2-Apr-81",
         2975,
         null,
         20
        ],
        [
         7788,
         "SCOTT",
         "ANALYST",
         7566,
         "19-Apr-87",
         3000,
         null,
         20
        ],
        [
         7902,
         "FORD",
         "ANALYST",
         7566,
         "3-Dec-81",
         3000,
         null,
         20
        ],
        [
         7369,
         "SMITH",
         "CLERK",
         7902,
         "17-Dec-80",
         800,
         null,
         20
        ],
        [
         7499,
         "ALLEN",
         "SALESMAN",
         7698,
         "20-Feb-81",
         1600,
         300,
         30
        ],
        [
         7521,
         "WARD",
         "SALESMAN",
         7698,
         "22-Feb-81",
         1250,
         500,
         30
        ],
        [
         7654,
         "MARTIN",
         "SALESMAN",
         7698,
         "28-Sep-81",
         1250,
         1400,
         30
        ],
        [
         7844,
         "TURNER",
         "SALESMAN",
         7698,
         "8-Sep-81",
         1500,
         0,
         30
        ],
        [
         7876,
         "ADAMS",
         "CLERK",
         7788,
         "23-May-87",
         1100,
         null,
         20
        ],
        [
         7900,
         "JAMES",
         "CLERK",
         7698,
         "3-Dec-81",
         950,
         null,
         30
        ],
        [
         7934,
         "MILLER",
         "ANALYST",
         7782,
         "23-Jan-82",
         1300,
         null,
         10
        ],
        [
         7950,
         "SREENIVAS_T",
         "ANALYST",
         7782,
         "23-Jan-83",
         1300,
         null,
         20
        ],
        [
         7960,
         "PRATHIBHA_T",
         "ANALYST",
         7782,
         "5-May-20",
         1300,
         null,
         20
        ]
       ],
       "datasetInfos": [],
       "dbfsResultPath": null,
       "isJsonSchema": true,
       "metadata": {},
       "overflow": false,
       "plotOptions": {
        "customPlotOptions": {},
        "displayType": "table",
        "pivotAggregation": null,
        "pivotColumns": null,
        "xColumns": null,
        "yColumns": null
       },
       "removedWidgets": [],
       "schema": [
        {
         "metadata": "{}",
         "name": "EMPNO",
         "type": "\"integer\""
        },
        {
         "metadata": "{}",
         "name": "ENAME",
         "type": "\"string\""
        },
        {
         "metadata": "{}",
         "name": "JOB",
         "type": "\"string\""
        },
        {
         "metadata": "{}",
         "name": "MGR",
         "type": "\"integer\""
        },
        {
         "metadata": "{}",
         "name": "HIREDATE",
         "type": "\"string\""
        },
        {
         "metadata": "{}",
         "name": "SAL",
         "type": "\"integer\""
        },
        {
         "metadata": "{}",
         "name": "COMM",
         "type": "\"integer\""
        },
        {
         "metadata": "{}",
         "name": "DEPTNO",
         "type": "\"integer\""
        }
       ],
       "type": "table"
      }
     },
     "output_type": "display_data"
    }
   ],
   "source": [
    "%sql\n",
    "select * from EMP_SOURCE"
   ]
  },
  {
   "cell_type": "code",
   "execution_count": 0,
   "metadata": {
    "application/vnd.databricks.v1+cell": {
     "cellMetadata": {
      "byteLimit": 2048000,
      "implicitDf": true,
      "rowLimit": 10000
     },
     "inputWidgets": {},
     "nuid": "57181aa7-0c03-4762-b0ac-f103b3e27ee0",
     "showTitle": true,
     "title": "Perform Merge Operation"
    }
   },
   "outputs": [
    {
     "output_type": "display_data",
     "data": {
      "text/html": [
       "<style scoped>\n",
       "  .table-result-container {\n",
       "    max-height: 300px;\n",
       "    overflow: auto;\n",
       "  }\n",
       "  table, th, td {\n",
       "    border: 1px solid black;\n",
       "    border-collapse: collapse;\n",
       "  }\n",
       "  th, td {\n",
       "    padding: 5px;\n",
       "  }\n",
       "  th {\n",
       "    text-align: left;\n",
       "  }\n",
       "</style><div class='table-result-container'><table class='table-result'><thead style='background-color: white'><tr><th>num_affected_rows</th><th>num_updated_rows</th><th>num_deleted_rows</th><th>num_inserted_rows</th></tr></thead><tbody><tr><td>16</td><td>16</td><td>0</td><td>0</td></tr></tbody></table></div>"
      ]
     },
     "metadata": {
      "application/vnd.databricks.v1+output": {
       "addedWidgets": {},
       "aggData": [],
       "aggError": "",
       "aggOverflow": false,
       "aggSchema": [],
       "aggSeriesLimitReached": false,
       "aggType": "",
       "arguments": {},
       "columnCustomDisplayInfos": {},
       "data": [
        [
         16,
         16,
         0,
         0
        ]
       ],
       "datasetInfos": [],
       "dbfsResultPath": null,
       "isJsonSchema": true,
       "metadata": {},
       "overflow": false,
       "plotOptions": {
        "customPlotOptions": {},
        "displayType": "table",
        "pivotAggregation": null,
        "pivotColumns": null,
        "xColumns": null,
        "yColumns": null
       },
       "removedWidgets": [],
       "schema": [
        {
         "metadata": "{}",
         "name": "num_affected_rows",
         "type": "\"long\""
        },
        {
         "metadata": "{}",
         "name": "num_updated_rows",
         "type": "\"long\""
        },
        {
         "metadata": "{}",
         "name": "num_deleted_rows",
         "type": "\"long\""
        },
        {
         "metadata": "{}",
         "name": "num_inserted_rows",
         "type": "\"long\""
        }
       ],
       "type": "table"
      }
     },
     "output_type": "display_data"
    }
   ],
   "source": [
    "%sql\n",
    "/*\n",
    "MERGE INTO training.EMP_SCD1 TARGET\n",
    "USING EMP_SOURCE SOURCE\n",
    "ON TARGET.EMPNO = SOURCE.EMPNO\n",
    "WHEN MATCHED THEN\n",
    "  UPDATE SET\n",
    "    TARGET.ENAME = SOURCE.ENAME,\n",
    "    TARGET.JOB = SOURCE.JOB,\n",
    "    TARGET.MGR = SOURCE.MGR,\n",
    "    TARGET.HIREDATE = SOURCE.HIREDATE,\n",
    "    TARGET.SAL = SOURCE.SAL,\n",
    "    TARGET.COMM = SOURCE.COMM,\n",
    "    TARGET.DEPTNO = SOURCE.DEPTNO\n",
    "WHEN NOT MATCHED THEN\n",
    "  INSERT\n",
    "  (\n",
    "EMPNO,\n",
    "ENAME,\n",
    "JOB,\n",
    "MGR,\n",
    "HIREDATE,\n",
    "SAL,\n",
    "COMM,\n",
    "DEPTNO\n",
    "  )\n",
    "  VALUES\n",
    "  (\n",
    "SOURCE.EMPNO,\n",
    "SOURCE.ENAME,\n",
    "SOURCE.JOB,\n",
    "SOURCE.MGR,\n",
    "SOURCE.HIREDATE,\n",
    "SOURCE.SAL,\n",
    "SOURCE.COMM,\n",
    "SOURCE.DEPTNO\n",
    "  )\n",
    "*/\n",
    "\n",
    "MERGE INTO training.EMP_SCD1 TARGET\n",
    "USING EMP_SOURCE SOURCE\n",
    "ON TARGET.EMPNO = SOURCE.EMPNO\n",
    "WHEN MATCHED THEN\n",
    "  UPDATE SET *\n",
    "WHEN NOT MATCHED THEN\n",
    "  INSERT *"
   ]
  },
  {
   "cell_type": "code",
   "execution_count": 0,
   "metadata": {
    "application/vnd.databricks.v1+cell": {
     "cellMetadata": {
      "byteLimit": 2048000,
      "implicitDf": true,
      "rowLimit": 10000
     },
     "inputWidgets": {},
     "nuid": "5c65ae8a-1eba-45ae-9801-e582ba1df7cc",
     "showTitle": true,
     "title": "Check the results in the table"
    }
   },
   "outputs": [
    {
     "output_type": "display_data",
     "data": {
      "text/html": [
       "<style scoped>\n",
       "  .table-result-container {\n",
       "    max-height: 300px;\n",
       "    overflow: auto;\n",
       "  }\n",
       "  table, th, td {\n",
       "    border: 1px solid black;\n",
       "    border-collapse: collapse;\n",
       "  }\n",
       "  th, td {\n",
       "    padding: 5px;\n",
       "  }\n",
       "  th {\n",
       "    text-align: left;\n",
       "  }\n",
       "</style><div class='table-result-container'><table class='table-result'><thead style='background-color: white'><tr><th>EMPNO</th><th>ENAME</th><th>JOB</th><th>MGR</th><th>HIREDATE</th><th>SAL</th><th>COMM</th><th>DEPTNO</th></tr></thead><tbody><tr><td>7839</td><td>KING</td><td>PRESIDENT</td><td>null</td><td>null</td><td>5000</td><td>null</td><td>10</td></tr><tr><td>7698</td><td>BLAKE</td><td>MANAGER</td><td>7839</td><td>null</td><td>2850</td><td>null</td><td>30</td></tr><tr><td>7782</td><td>CLARK</td><td>MANAGER</td><td>7839</td><td>null</td><td>2450</td><td>null</td><td>10</td></tr><tr><td>7566</td><td>JONES</td><td>MANAGER</td><td>7839</td><td>null</td><td>2975</td><td>null</td><td>20</td></tr><tr><td>7788</td><td>SCOTT</td><td>ANALYST</td><td>7566</td><td>null</td><td>3000</td><td>null</td><td>20</td></tr><tr><td>7902</td><td>FORD</td><td>ANALYST</td><td>7566</td><td>null</td><td>3000</td><td>null</td><td>20</td></tr><tr><td>7369</td><td>SMITH</td><td>CLERK</td><td>7902</td><td>null</td><td>800</td><td>null</td><td>20</td></tr><tr><td>7499</td><td>ALLEN</td><td>SALESMAN</td><td>7698</td><td>null</td><td>1600</td><td>300</td><td>30</td></tr><tr><td>7521</td><td>WARD</td><td>SALESMAN</td><td>7698</td><td>null</td><td>1250</td><td>500</td><td>30</td></tr><tr><td>7654</td><td>MARTIN</td><td>SALESMAN</td><td>7698</td><td>null</td><td>1250</td><td>1400</td><td>30</td></tr><tr><td>7844</td><td>TURNER</td><td>SALESMAN</td><td>7698</td><td>null</td><td>1500</td><td>0</td><td>30</td></tr><tr><td>7876</td><td>ADAMS</td><td>CLERK</td><td>7788</td><td>null</td><td>1100</td><td>null</td><td>20</td></tr><tr><td>7900</td><td>JAMES</td><td>CLERK</td><td>7698</td><td>null</td><td>950</td><td>null</td><td>30</td></tr><tr><td>7934</td><td>MILLER</td><td>ANALYST</td><td>7782</td><td>null</td><td>1300</td><td>null</td><td>10</td></tr><tr><td>7950</td><td>SREENIVAS_T</td><td>ANALYST</td><td>7782</td><td>null</td><td>1300</td><td>null</td><td>20</td></tr><tr><td>7960</td><td>PRATHIBHA_T</td><td>ANALYST</td><td>7782</td><td>null</td><td>1300</td><td>null</td><td>20</td></tr></tbody></table></div>"
      ]
     },
     "metadata": {
      "application/vnd.databricks.v1+output": {
       "addedWidgets": {},
       "aggData": [],
       "aggError": "",
       "aggOverflow": false,
       "aggSchema": [],
       "aggSeriesLimitReached": false,
       "aggType": "",
       "arguments": {},
       "columnCustomDisplayInfos": {},
       "data": [
        [
         7839,
         "KING",
         "PRESIDENT",
         null,
         null,
         5000,
         null,
         10
        ],
        [
         7698,
         "BLAKE",
         "MANAGER",
         7839,
         null,
         2850,
         null,
         30
        ],
        [
         7782,
         "CLARK",
         "MANAGER",
         7839,
         null,
         2450,
         null,
         10
        ],
        [
         7566,
         "JONES",
         "MANAGER",
         7839,
         null,
         2975,
         null,
         20
        ],
        [
         7788,
         "SCOTT",
         "ANALYST",
         7566,
         null,
         3000,
         null,
         20
        ],
        [
         7902,
         "FORD",
         "ANALYST",
         7566,
         null,
         3000,
         null,
         20
        ],
        [
         7369,
         "SMITH",
         "CLERK",
         7902,
         null,
         800,
         null,
         20
        ],
        [
         7499,
         "ALLEN",
         "SALESMAN",
         7698,
         null,
         1600,
         300,
         30
        ],
        [
         7521,
         "WARD",
         "SALESMAN",
         7698,
         null,
         1250,
         500,
         30
        ],
        [
         7654,
         "MARTIN",
         "SALESMAN",
         7698,
         null,
         1250,
         1400,
         30
        ],
        [
         7844,
         "TURNER",
         "SALESMAN",
         7698,
         null,
         1500,
         0,
         30
        ],
        [
         7876,
         "ADAMS",
         "CLERK",
         7788,
         null,
         1100,
         null,
         20
        ],
        [
         7900,
         "JAMES",
         "CLERK",
         7698,
         null,
         950,
         null,
         30
        ],
        [
         7934,
         "MILLER",
         "ANALYST",
         7782,
         null,
         1300,
         null,
         10
        ],
        [
         7950,
         "SREENIVAS_T",
         "ANALYST",
         7782,
         null,
         1300,
         null,
         20
        ],
        [
         7960,
         "PRATHIBHA_T",
         "ANALYST",
         7782,
         null,
         1300,
         null,
         20
        ]
       ],
       "datasetInfos": [],
       "dbfsResultPath": null,
       "isJsonSchema": true,
       "metadata": {},
       "overflow": false,
       "plotOptions": {
        "customPlotOptions": {},
        "displayType": "table",
        "pivotAggregation": null,
        "pivotColumns": null,
        "xColumns": null,
        "yColumns": null
       },
       "removedWidgets": [],
       "schema": [
        {
         "metadata": "{}",
         "name": "EMPNO",
         "type": "\"integer\""
        },
        {
         "metadata": "{}",
         "name": "ENAME",
         "type": "\"string\""
        },
        {
         "metadata": "{}",
         "name": "JOB",
         "type": "\"string\""
        },
        {
         "metadata": "{}",
         "name": "MGR",
         "type": "\"integer\""
        },
        {
         "metadata": "{}",
         "name": "HIREDATE",
         "type": "\"date\""
        },
        {
         "metadata": "{}",
         "name": "SAL",
         "type": "\"integer\""
        },
        {
         "metadata": "{}",
         "name": "COMM",
         "type": "\"integer\""
        },
        {
         "metadata": "{}",
         "name": "DEPTNO",
         "type": "\"integer\""
        }
       ],
       "type": "table"
      }
     },
     "output_type": "display_data"
    }
   ],
   "source": [
    "%sql\n",
    "select * from training.EMP_SCD1"
   ]
  },
  {
   "cell_type": "code",
   "execution_count": 0,
   "metadata": {
    "application/vnd.databricks.v1+cell": {
     "cellMetadata": {},
     "inputWidgets": {},
     "nuid": "417eb693-1794-4e7b-b9a0-b0d33a20d49a",
     "showTitle": true,
     "title": "Perform” the “Merge” Operation Using “PySpark"
    }
   },
   "outputs": [],
   "source": [
    "# The below steps are used to perform SCD TYPE1 using PySpark.\n",
    "#When the “Merge” Operation needs to be “Performed” using the “PySpark”, it is “Mandatory” to “Keep” the “Source” as the “DataFrame”. So, “No” “View” needs to be “Created” as the “Source”.\n",
    "#The “Entire Data” of the “Target Delta Table” needs to be “Read” as the “Delta Table” first, in order to use the “Target” in the “Merge” Operation."
   ]
  },
  {
   "cell_type": "code",
   "execution_count": 0,
   "metadata": {
    "application/vnd.databricks.v1+cell": {
     "cellMetadata": {
      "byteLimit": 2048000,
      "rowLimit": 10000
     },
     "inputWidgets": {},
     "nuid": "cfbab9c0-01cf-4387-8761-71c9fcd7eaf1",
     "showTitle": true,
     "title": "Step 1 Pyspark: “Create” a “Delta Table Instance” Using “DeltaTableBuilder API”"
    }
   },
   "outputs": [
    {
     "output_type": "stream",
     "name": "stdout",
     "output_type": "stream",
     "text": [
      "<class 'delta.tables.DeltaTable'>\n"
     ]
    }
   ],
   "source": [
    "\"\"\"What is a “Delta Table Instance”?\n",
    "A “Delta Table Instance” is a “Replica” of the “Actual Delta Table”.\n",
    "The “Delta Table Instance” will “Create” a “Soft Link” to the “Actual Delta Table”, but “Not” a “Copy” of the “Actual Delta Table”.\n",
    "Since, a “Soft Link” “Exists” between the “Delta Table Instance” and the “Actual Delta Table”, any “DML Operations” “Performed” on the “Delta Table Instance” will “Reflect” in the “Actual Delta Table”.\n",
    "Similarly, any “Modification” “Performed” on the “Actual Delta Table” will “Reflect” in the “Delta Table Instance”.\n",
    "To “Perform” any “DML Operation”, or, to “Execute” any “SQL Statement” on a “Delta Table” using “PySpark”, just “Referring” the “Delta Table” by its “Name” is “Not” going to “Work”.\n",
    "To “Perform” any “DML Operation”, or, to “Execute” any “SQL Statement” on a “Delta Table” using “PySpark”, the “Delta Table Instance” of that “Delta Table” needs to be “Created”. This is the “Primary Usage” of the “Delta Table Instance”.\n",
    "\"\"\"\n",
    "from delta.tables import *\n",
    "\n",
    "EMPDeltaTable = DeltaTable.forPath(spark, \"/FileStore/tables/delta-table-merge/EMP\")\n",
    "print(type(EMPDeltaTable))"
   ]
  },
  {
   "cell_type": "code",
   "execution_count": 0,
   "metadata": {
    "application/vnd.databricks.v1+cell": {
     "cellMetadata": {
      "byteLimit": 2048000,
      "rowLimit": 10000
     },
     "inputWidgets": {},
     "nuid": "926558cf-64fe-4e41-bd5b-70dcd9c67304",
     "showTitle": true,
     "title": "Step 2 Pyspark: Convert” the “Delta Table Instance” to “DataFrame"
    }
   },
   "outputs": [
    {
     "output_type": "display_data",
     "data": {
      "text/html": [
       "<style scoped>\n",
       "  .table-result-container {\n",
       "    max-height: 300px;\n",
       "    overflow: auto;\n",
       "  }\n",
       "  table, th, td {\n",
       "    border: 1px solid black;\n",
       "    border-collapse: collapse;\n",
       "  }\n",
       "  th, td {\n",
       "    padding: 5px;\n",
       "  }\n",
       "  th {\n",
       "    text-align: left;\n",
       "  }\n",
       "</style><div class='table-result-container'><table class='table-result'><thead style='background-color: white'><tr><th>EMPNO</th><th>ENAME</th><th>JOB</th><th>MGR</th><th>HIREDATE</th><th>SAL</th><th>COMM</th><th>DEPTNO</th></tr></thead><tbody><tr><td>7839</td><td>KING</td><td>PRESIDENT</td><td>null</td><td>null</td><td>5000</td><td>null</td><td>10</td></tr><tr><td>7698</td><td>BLAKE</td><td>MANAGER</td><td>7839</td><td>null</td><td>2850</td><td>null</td><td>30</td></tr><tr><td>7782</td><td>CLARK</td><td>MANAGER</td><td>7839</td><td>null</td><td>2450</td><td>10</td><td>10</td></tr><tr><td>7566</td><td>JONES</td><td>MANAGER</td><td>7839</td><td>null</td><td>2975</td><td>50</td><td>20</td></tr><tr><td>7788</td><td>SCOTT</td><td>ANALYST</td><td>7566</td><td>null</td><td>3000</td><td>20</td><td>20</td></tr><tr><td>7902</td><td>FORD</td><td>ANALYST</td><td>7566</td><td>null</td><td>3000</td><td>50</td><td>20</td></tr><tr><td>7369</td><td>SMITH</td><td>CLERK</td><td>7902</td><td>null</td><td>800</td><td>500</td><td>20</td></tr><tr><td>7499</td><td>ALLEN</td><td>SALESMAN</td><td>7698</td><td>null</td><td>1600</td><td>300</td><td>30</td></tr><tr><td>7521</td><td>WARD</td><td>SALESMAN</td><td>7698</td><td>null</td><td>1250</td><td>500</td><td>30</td></tr><tr><td>7654</td><td>MARTIN</td><td>SALESMAN</td><td>7698</td><td>null</td><td>1250</td><td>1400</td><td>30</td></tr><tr><td>7844</td><td>TURNER</td><td>SALESMAN</td><td>7698</td><td>null</td><td>1500</td><td>0</td><td>30</td></tr><tr><td>7876</td><td>ADAMS</td><td>CLERK</td><td>7788</td><td>null</td><td>1100</td><td>null</td><td>20</td></tr><tr><td>7900</td><td>JAMES</td><td>CLERK</td><td>7698</td><td>null</td><td>950</td><td>50</td><td>30</td></tr><tr><td>7934</td><td>MILLER</td><td>ANALYST</td><td>7782</td><td>null</td><td>1300</td><td>70</td><td>40</td></tr><tr><td>7950</td><td>SREENIVAS_T</td><td>ANALYST</td><td>7782</td><td>null</td><td>1300</td><td>4000</td><td>20</td></tr><tr><td>7960</td><td>PRATHIBHA_TS</td><td>ANALYST</td><td>7782</td><td>null</td><td>1300</td><td>5000</td><td>20</td></tr><tr><td>null</td><td>SREENI_T</td><td>CLERK</td><td>7782</td><td>null</td><td>1300</td><td>8000</td><td>20</td></tr></tbody></table></div>"
      ]
     },
     "metadata": {
      "application/vnd.databricks.v1+output": {
       "addedWidgets": {},
       "aggData": [],
       "aggError": "",
       "aggOverflow": false,
       "aggSchema": [],
       "aggSeriesLimitReached": false,
       "aggType": "",
       "arguments": {},
       "columnCustomDisplayInfos": {},
       "data": [
        [
         7839,
         "KING",
         "PRESIDENT",
         null,
         null,
         5000,
         null,
         10
        ],
        [
         7698,
         "BLAKE",
         "MANAGER",
         7839,
         null,
         2850,
         null,
         30
        ],
        [
         7782,
         "CLARK",
         "MANAGER",
         7839,
         null,
         2450,
         10,
         10
        ],
        [
         7566,
         "JONES",
         "MANAGER",
         7839,
         null,
         2975,
         50,
         20
        ],
        [
         7788,
         "SCOTT",
         "ANALYST",
         7566,
         null,
         3000,
         20,
         20
        ],
        [
         7902,
         "FORD",
         "ANALYST",
         7566,
         null,
         3000,
         50,
         20
        ],
        [
         7369,
         "SMITH",
         "CLERK",
         7902,
         null,
         800,
         500,
         20
        ],
        [
         7499,
         "ALLEN",
         "SALESMAN",
         7698,
         null,
         1600,
         300,
         30
        ],
        [
         7521,
         "WARD",
         "SALESMAN",
         7698,
         null,
         1250,
         500,
         30
        ],
        [
         7654,
         "MARTIN",
         "SALESMAN",
         7698,
         null,
         1250,
         1400,
         30
        ],
        [
         7844,
         "TURNER",
         "SALESMAN",
         7698,
         null,
         1500,
         0,
         30
        ],
        [
         7876,
         "ADAMS",
         "CLERK",
         7788,
         null,
         1100,
         null,
         20
        ],
        [
         7900,
         "JAMES",
         "CLERK",
         7698,
         null,
         950,
         50,
         30
        ],
        [
         7934,
         "MILLER",
         "ANALYST",
         7782,
         null,
         1300,
         70,
         40
        ],
        [
         7950,
         "SREENIVAS_T",
         "ANALYST",
         7782,
         null,
         1300,
         4000,
         20
        ],
        [
         7960,
         "PRATHIBHA_TS",
         "ANALYST",
         7782,
         null,
         1300,
         5000,
         20
        ],
        [
         null,
         "SREENI_T",
         "CLERK",
         7782,
         null,
         1300,
         8000,
         20
        ]
       ],
       "datasetInfos": [],
       "dbfsResultPath": null,
       "isJsonSchema": true,
       "metadata": {},
       "overflow": false,
       "plotOptions": {
        "customPlotOptions": {},
        "displayType": "table",
        "pivotAggregation": null,
        "pivotColumns": null,
        "xColumns": null,
        "yColumns": null
       },
       "removedWidgets": [],
       "schema": [
        {
         "metadata": "{}",
         "name": "EMPNO",
         "type": "\"integer\""
        },
        {
         "metadata": "{}",
         "name": "ENAME",
         "type": "\"string\""
        },
        {
         "metadata": "{}",
         "name": "JOB",
         "type": "\"string\""
        },
        {
         "metadata": "{}",
         "name": "MGR",
         "type": "\"integer\""
        },
        {
         "metadata": "{}",
         "name": "HIREDATE",
         "type": "\"date\""
        },
        {
         "metadata": "{}",
         "name": "SAL",
         "type": "\"integer\""
        },
        {
         "metadata": "{}",
         "name": "COMM",
         "type": "\"integer\""
        },
        {
         "metadata": "{}",
         "name": "DEPTNO",
         "type": "\"integer\""
        }
       ],
       "type": "table"
      }
     },
     "output_type": "display_data"
    }
   ],
   "source": [
    "\"\"\"In order to “Display” the “Data” of a “Delta Table Instance”, the “Delta Table Instance” needs to be “Converted” to a “DataFrame”.\n",
    "To “Convert” a “Delta Table Instance” to a “DataFrame”, the “.toDF()” Method” of the “Delta Table Instance” is used.\n",
    "\"\"\"\n",
    "dfFromEMPDeltaTable = EMPDeltaTable.toDF()\n",
    "display(dfFromEMPDeltaTable)"
   ]
  },
  {
   "cell_type": "code",
   "execution_count": 0,
   "metadata": {
    "application/vnd.databricks.v1+cell": {
     "cellMetadata": {
      "byteLimit": 2048000,
      "rowLimit": 10000
     },
     "inputWidgets": {},
     "nuid": "7d015893-5b43-4eb0-b213-abd7c0fc124d",
     "showTitle": true,
     "title": "Perform” the “Merge” Operation"
    }
   },
   "outputs": [],
   "source": [
    "\n",
    "\"\"\"\n",
    "Merge Method1 : This syntax is detailed for all columns\n",
    "EMPDeltaTable.alias(\"Target\")\\\n",
    "    .merge(\n",
    "            source = df_source.alias(\"Source\"),\n",
    "            condition = \"Target.EMPNO = Source.EMPNO\"\n",
    "          )\\\n",
    "    .whenMatchedUpdate(\n",
    "                        set =\n",
    "                        {\n",
    "                            \"Target.ENAME\": \"Source.ENAME\",\n",
    "                            \"Target.JOB\": \"Source.JOB\",\n",
    "                            \"Target.MGR\": \"Source.MGR\",\n",
    "                            \"Target.HIREDATE\": \"Source.HIREDATE\",\n",
    "                            \"Target.SAL\": \"Source.SAL\",\n",
    "                            \"Target.COMM\": \"Source.COMM\",\n",
    "                            \"Target.DEPTNO\": \"Source.DEPTNO\"\n",
    "                        }\n",
    "                      )\\\n",
    "    .whenNotMatchedInsert(\n",
    "                            values =\n",
    "                            {\n",
    "                            \"Target.ENAME\": \"Source.ENAME\",\n",
    "                            \"Target.JOB\": \"Source.JOB\",\n",
    "                            \"Target.MGR\": \"Source.MGR\",\n",
    "                            \"Target.HIREDATE\": \"Source.HIREDATE\",\n",
    "                            \"Target.SAL\": \"Source.SAL\",\n",
    "                            \"Target.COMM\": \"Source.COMM\",\n",
    "                            \"Target.DEPTNO\": \"Source.DEPTNO\"\n",
    "                            }\n",
    "                        )\\\n",
    "    .execute()\n",
    "\n",
    "\"\"\"\n",
    "\n",
    "\n",
    "\n",
    "# Method 2: the below method is for the syntax using insertall or updateall\n",
    "\n",
    "EMPDeltaTable.alias(\"Target\")\\\n",
    "    .merge(\n",
    "            source = df_source.alias(\"Source\"),\n",
    "            condition = \"Target.EMPNO = Source.EMPNO\"\n",
    "          )\\\n",
    "    .whenMatchedUpdateAll()\\\n",
    "    .whenNotMatchedInsertAll()\\\n",
    "    .execute()\n",
    "\n",
    "\n",
    "\n",
    "   # When the “Merge” Operation is “Performed” using “PySpark”, by default, “Statistics” is “Not Displayed”."
   ]
  },
  {
   "cell_type": "code",
   "execution_count": 0,
   "metadata": {
    "application/vnd.databricks.v1+cell": {
     "cellMetadata": {
      "byteLimit": 2048000,
      "implicitDf": true,
      "rowLimit": 10000
     },
     "inputWidgets": {},
     "nuid": "0ba284d8-007d-4ff2-97c7-b4cf77628725",
     "showTitle": true,
     "title": "DIsplay the Outout from PySpark Execution"
    }
   },
   "outputs": [
    {
     "output_type": "display_data",
     "data": {
      "text/html": [
       "<style scoped>\n",
       "  .table-result-container {\n",
       "    max-height: 300px;\n",
       "    overflow: auto;\n",
       "  }\n",
       "  table, th, td {\n",
       "    border: 1px solid black;\n",
       "    border-collapse: collapse;\n",
       "  }\n",
       "  th, td {\n",
       "    padding: 5px;\n",
       "  }\n",
       "  th {\n",
       "    text-align: left;\n",
       "  }\n",
       "</style><div class='table-result-container'><table class='table-result'><thead style='background-color: white'><tr><th>EMPNO</th><th>ENAME</th><th>JOB</th><th>MGR</th><th>HIREDATE</th><th>SAL</th><th>COMM</th><th>DEPTNO</th></tr></thead><tbody><tr><td>7839</td><td>KING</td><td>PRESIDENT</td><td>null</td><td>null</td><td>5000</td><td>50</td><td>10</td></tr><tr><td>7698</td><td>BLAKE</td><td>MANAGER</td><td>7839</td><td>null</td><td>2850</td><td>2000</td><td>30</td></tr><tr><td>7782</td><td>CLARK</td><td>MANAGER</td><td>7839</td><td>null</td><td>2450</td><td>10</td><td>10</td></tr><tr><td>7566</td><td>JONES</td><td>MANAGER</td><td>7839</td><td>null</td><td>2975</td><td>50</td><td>20</td></tr><tr><td>7788</td><td>SCOTT</td><td>ANALYST</td><td>7566</td><td>null</td><td>3000</td><td>20</td><td>20</td></tr><tr><td>7902</td><td>FORD</td><td>ANALYST</td><td>7566</td><td>null</td><td>3000</td><td>50</td><td>20</td></tr><tr><td>7369</td><td>SMITH</td><td>CLERK</td><td>7902</td><td>null</td><td>800</td><td>500</td><td>20</td></tr><tr><td>7499</td><td>ALLEN</td><td>SALESMAN</td><td>7698</td><td>null</td><td>1600</td><td>300</td><td>30</td></tr><tr><td>7521</td><td>WARD</td><td>SALESMAN</td><td>7698</td><td>null</td><td>1250</td><td>500</td><td>30</td></tr><tr><td>7654</td><td>MARTIN</td><td>SALESMAN</td><td>7698</td><td>null</td><td>1250</td><td>1400</td><td>30</td></tr><tr><td>7844</td><td>TURNER</td><td>SALESMAN</td><td>7698</td><td>null</td><td>1500</td><td>0</td><td>30</td></tr><tr><td>7876</td><td>ADAMS</td><td>CLERK</td><td>7788</td><td>null</td><td>1100</td><td>50</td><td>20</td></tr><tr><td>7900</td><td>JAMES</td><td>CLERK</td><td>7698</td><td>null</td><td>950</td><td>50</td><td>30</td></tr><tr><td>7934</td><td>MILLER</td><td>ANALYST</td><td>7782</td><td>null</td><td>1300</td><td>70</td><td>20</td></tr><tr><td>7950</td><td>SREENIVAS_T</td><td>ANALYST</td><td>7782</td><td>null</td><td>1300</td><td>4000</td><td>20</td></tr><tr><td>7960</td><td>PRATHIBHA_TS</td><td>ANALYST</td><td>7782</td><td>null</td><td>300000</td><td>5000</td><td>20</td></tr><tr><td>7962</td><td>SREENI_T</td><td>CLERK</td><td>7782</td><td>null</td><td>1300</td><td>8000</td><td>20</td></tr><tr><td>7962</td><td>SREENI_TS</td><td>ANALYST</td><td>7782</td><td>null</td><td>50000</td><td>10000</td><td>20</td></tr><tr><td>null</td><td>SREENI_T</td><td>CLERK</td><td>7782</td><td>null</td><td>1300</td><td>8000</td><td>20</td></tr></tbody></table></div>"
      ]
     },
     "metadata": {
      "application/vnd.databricks.v1+output": {
       "addedWidgets": {},
       "aggData": [],
       "aggError": "",
       "aggOverflow": false,
       "aggSchema": [],
       "aggSeriesLimitReached": false,
       "aggType": "",
       "arguments": {},
       "columnCustomDisplayInfos": {},
       "data": [
        [
         7839,
         "KING",
         "PRESIDENT",
         null,
         null,
         5000,
         50,
         10
        ],
        [
         7698,
         "BLAKE",
         "MANAGER",
         7839,
         null,
         2850,
         2000,
         30
        ],
        [
         7782,
         "CLARK",
         "MANAGER",
         7839,
         null,
         2450,
         10,
         10
        ],
        [
         7566,
         "JONES",
         "MANAGER",
         7839,
         null,
         2975,
         50,
         20
        ],
        [
         7788,
         "SCOTT",
         "ANALYST",
         7566,
         null,
         3000,
         20,
         20
        ],
        [
         7902,
         "FORD",
         "ANALYST",
         7566,
         null,
         3000,
         50,
         20
        ],
        [
         7369,
         "SMITH",
         "CLERK",
         7902,
         null,
         800,
         500,
         20
        ],
        [
         7499,
         "ALLEN",
         "SALESMAN",
         7698,
         null,
         1600,
         300,
         30
        ],
        [
         7521,
         "WARD",
         "SALESMAN",
         7698,
         null,
         1250,
         500,
         30
        ],
        [
         7654,
         "MARTIN",
         "SALESMAN",
         7698,
         null,
         1250,
         1400,
         30
        ],
        [
         7844,
         "TURNER",
         "SALESMAN",
         7698,
         null,
         1500,
         0,
         30
        ],
        [
         7876,
         "ADAMS",
         "CLERK",
         7788,
         null,
         1100,
         50,
         20
        ],
        [
         7900,
         "JAMES",
         "CLERK",
         7698,
         null,
         950,
         50,
         30
        ],
        [
         7934,
         "MILLER",
         "ANALYST",
         7782,
         null,
         1300,
         70,
         20
        ],
        [
         7950,
         "SREENIVAS_T",
         "ANALYST",
         7782,
         null,
         1300,
         4000,
         20
        ],
        [
         7960,
         "PRATHIBHA_TS",
         "ANALYST",
         7782,
         null,
         300000,
         5000,
         20
        ],
        [
         7962,
         "SREENI_T",
         "CLERK",
         7782,
         null,
         1300,
         8000,
         20
        ],
        [
         7962,
         "SREENI_TS",
         "ANALYST",
         7782,
         null,
         50000,
         10000,
         20
        ],
        [
         null,
         "SREENI_T",
         "CLERK",
         7782,
         null,
         1300,
         8000,
         20
        ]
       ],
       "datasetInfos": [],
       "dbfsResultPath": null,
       "isJsonSchema": true,
       "metadata": {},
       "overflow": false,
       "plotOptions": {
        "customPlotOptions": {},
        "displayType": "table",
        "pivotAggregation": null,
        "pivotColumns": null,
        "xColumns": null,
        "yColumns": null
       },
       "removedWidgets": [],
       "schema": [
        {
         "metadata": "{}",
         "name": "EMPNO",
         "type": "\"integer\""
        },
        {
         "metadata": "{}",
         "name": "ENAME",
         "type": "\"string\""
        },
        {
         "metadata": "{}",
         "name": "JOB",
         "type": "\"string\""
        },
        {
         "metadata": "{}",
         "name": "MGR",
         "type": "\"integer\""
        },
        {
         "metadata": "{}",
         "name": "HIREDATE",
         "type": "\"date\""
        },
        {
         "metadata": "{}",
         "name": "SAL",
         "type": "\"integer\""
        },
        {
         "metadata": "{}",
         "name": "COMM",
         "type": "\"integer\""
        },
        {
         "metadata": "{}",
         "name": "DEPTNO",
         "type": "\"integer\""
        }
       ],
       "type": "table"
      }
     },
     "output_type": "display_data"
    }
   ],
   "source": [
    "%sql\n",
    "select * from training.EMP_SCD1"
   ]
  },
  {
   "cell_type": "code",
   "execution_count": 0,
   "metadata": {
    "application/vnd.databricks.v1+cell": {
     "cellMetadata": {},
     "inputWidgets": {},
     "nuid": "a88961a6-dcdc-4407-af34-ad8d6aae8d7f",
     "showTitle": false,
     "title": ""
    }
   },
   "outputs": [],
   "source": []
  }
 ],
 "metadata": {
  "application/vnd.databricks.v1+notebook": {
   "dashboards": [],
   "language": "python",
   "notebookMetadata": {
    "mostRecentlyExecutedCommandWithImplicitDF": {
     "commandId": 3316576412319621,
     "dataframes": [
      "_sqldf"
     ]
    },
    "pythonIndentUnit": 2
   },
   "notebookName": "SCD TYPE1-Working SQL and PySpark",
   "widgets": {}
  }
 },
 "nbformat": 4,
 "nbformat_minor": 0
}
