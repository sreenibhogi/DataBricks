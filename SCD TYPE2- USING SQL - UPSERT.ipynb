{
 "cells": [
  {
   "cell_type": "code",
   "execution_count": 0,
   "metadata": {
    "application/vnd.databricks.v1+cell": {
     "cellMetadata": {
      "byteLimit": 2048000,
      "implicitDf": true,
      "rowLimit": 10000
     },
     "inputWidgets": {},
     "nuid": "84d51175-6240-456a-be7b-3123e321793a",
     "showTitle": true,
     "title": "Create the Database “training”"
    }
   },
   "outputs": [
    {
     "output_type": "display_data",
     "data": {
      "text/html": [
       "<style scoped>\n",
       "  .table-result-container {\n",
       "    max-height: 300px;\n",
       "    overflow: auto;\n",
       "  }\n",
       "  table, th, td {\n",
       "    border: 1px solid black;\n",
       "    border-collapse: collapse;\n",
       "  }\n",
       "  th, td {\n",
       "    padding: 5px;\n",
       "  }\n",
       "  th {\n",
       "    text-align: left;\n",
       "  }\n",
       "</style><div class='table-result-container'><table class='table-result'><thead style='background-color: white'><tr></tr></thead><tbody></tbody></table></div>"
      ]
     },
     "metadata": {
      "application/vnd.databricks.v1+output": {
       "addedWidgets": {},
       "aggData": [],
       "aggError": "",
       "aggOverflow": false,
       "aggSchema": [],
       "aggSeriesLimitReached": false,
       "aggType": "",
       "arguments": {},
       "columnCustomDisplayInfos": {},
       "data": [],
       "datasetInfos": [],
       "dbfsResultPath": null,
       "isJsonSchema": true,
       "metadata": {},
       "overflow": false,
       "plotOptions": {
        "customPlotOptions": {},
        "displayType": "table",
        "pivotAggregation": null,
        "pivotColumns": null,
        "xColumns": null,
        "yColumns": null
       },
       "removedWidgets": [],
       "schema": [],
       "type": "table"
      }
     },
     "output_type": "display_data"
    }
   ],
   "source": [
    "%sql\n",
    "CREATE DATABASE IF NOT EXISTS training;"
   ]
  },
  {
   "cell_type": "code",
   "execution_count": 0,
   "metadata": {
    "application/vnd.databricks.v1+cell": {
     "cellMetadata": {
      "byteLimit": 2048000,
      "implicitDf": true,
      "rowLimit": 10000
     },
     "inputWidgets": {},
     "nuid": "9008e011-cf0a-44f7-b17f-c47b6124d149",
     "showTitle": true,
     "title": "Create an “Empty Delta Table”"
    }
   },
   "outputs": [
    {
     "output_type": "display_data",
     "data": {
      "text/html": [
       "<style scoped>\n",
       "  .table-result-container {\n",
       "    max-height: 300px;\n",
       "    overflow: auto;\n",
       "  }\n",
       "  table, th, td {\n",
       "    border: 1px solid black;\n",
       "    border-collapse: collapse;\n",
       "  }\n",
       "  th, td {\n",
       "    padding: 5px;\n",
       "  }\n",
       "  th {\n",
       "    text-align: left;\n",
       "  }\n",
       "</style><div class='table-result-container'><table class='table-result'><thead style='background-color: white'><tr></tr></thead><tbody></tbody></table></div>"
      ]
     },
     "metadata": {
      "application/vnd.databricks.v1+output": {
       "addedWidgets": {},
       "aggData": [],
       "aggError": "",
       "aggOverflow": false,
       "aggSchema": [],
       "aggSeriesLimitReached": false,
       "aggType": "",
       "arguments": {},
       "columnCustomDisplayInfos": {},
       "data": [],
       "datasetInfos": [],
       "dbfsResultPath": null,
       "isJsonSchema": true,
       "metadata": {},
       "overflow": false,
       "plotOptions": {
        "customPlotOptions": {},
        "displayType": "table",
        "pivotAggregation": null,
        "pivotColumns": null,
        "xColumns": null,
        "yColumns": null
       },
       "removedWidgets": [],
       "schema": [],
       "type": "table"
      }
     },
     "output_type": "display_data"
    }
   ],
   "source": [
    " %sql\n",
    "\n",
    "CREATE OR REPLACE TABLE training.EMP_SCD2_SQL (\n",
    "  EMPNO INT,\n",
    "  ENAME STRING,\n",
    "  JOB STRING,\n",
    "  MGR INT,\n",
    "  HIREDATE DATE,\n",
    "  SAL INT,\n",
    "  COMM INT,\n",
    "  DEPTNO INT,\n",
    "  sk_EMPNO INT,\n",
    "  EFFECTIVE_DATE DATE,\n",
    "  EXPIRATION_DATE DATE,\n",
    "  CURRENT_FLAG STRING,\n",
    "  ETL_CHECKSUM STRING\n",
    ") USING DELTA LOCATION '/FileStore/tables/delta-table-merge/EMP_SCD2_SQL'; \n"
   ]
  },
  {
   "cell_type": "code",
   "execution_count": 0,
   "metadata": {
    "application/vnd.databricks.v1+cell": {
     "cellMetadata": {
      "byteLimit": 2048000,
      "implicitDf": true,
      "rowLimit": 10000
     },
     "collapsed": true,
     "inputWidgets": {},
     "nuid": "42837a9d-932f-4543-989b-575d53a03aac",
     "showTitle": true,
     "title": "“Display” the “Content” of the “Delta Table” (Currently “Empty”)"
    }
   },
   "outputs": [
    {
     "output_type": "display_data",
     "data": {
      "text/html": [
       "<style scoped>\n",
       "  .table-result-container {\n",
       "    max-height: 300px;\n",
       "    overflow: auto;\n",
       "  }\n",
       "  table, th, td {\n",
       "    border: 1px solid black;\n",
       "    border-collapse: collapse;\n",
       "  }\n",
       "  th, td {\n",
       "    padding: 5px;\n",
       "  }\n",
       "  th {\n",
       "    text-align: left;\n",
       "  }\n",
       "</style><div class='table-result-container'><table class='table-result'><thead style='background-color: white'><tr><th>EMPNO</th><th>ENAME</th><th>JOB</th><th>MGR</th><th>HIREDATE</th><th>SAL</th><th>COMM</th><th>DEPTNO</th><th>sk_EMPNO</th><th>EFFECTIVE_DATE</th><th>EXPIRATION_DATE</th><th>CURRENT_FLAG</th><th>ETL_CHECKSUM</th></tr></thead><tbody><tr><td>7844</td><td>TURNER</td><td>SALESMAN</td><td>7698</td><td>null</td><td>1500</td><td>0</td><td>30</td><td>1</td><td>2024-05-11</td><td>9999-12-31</td><td>Y</td><td>819d2397bf3e5ed520e8e81987b0fa45</td></tr><tr><td>7788</td><td>SCOTT</td><td>ANALYST</td><td>7566</td><td>null</td><td>3000</td><td>null</td><td>20</td><td>2</td><td>2024-05-11</td><td>9999-12-31</td><td>Y</td><td>9e5f1b38c2bd6f558616757e692e5be0</td></tr><tr><td>7900</td><td>JAMES</td><td>CLERK</td><td>7698</td><td>null</td><td>950</td><td>null</td><td>30</td><td>3</td><td>2024-05-11</td><td>9999-12-31</td><td>Y</td><td>3f1ca5716a5323779bb301cdd4fa7c38</td></tr><tr><td>7521</td><td>WARD</td><td>SALESMAN</td><td>7698</td><td>null</td><td>1250</td><td>500</td><td>30</td><td>4</td><td>2024-05-11</td><td>9999-12-31</td><td>Y</td><td>81a1e4f74aa36352058b5c0b32ff24cf</td></tr><tr><td>7654</td><td>MARTIN</td><td>SALESMAN</td><td>7698</td><td>null</td><td>1250</td><td>1400</td><td>30</td><td>5</td><td>2024-05-11</td><td>9999-12-31</td><td>Y</td><td>00c65fd9f58fefeb811120493a14723a</td></tr><tr><td>7566</td><td>JONES</td><td>MANAGER</td><td>7839</td><td>null</td><td>2975</td><td>null</td><td>20</td><td>6</td><td>2024-05-11</td><td>9999-12-31</td><td>Y</td><td>e11463e62544e5a8fc9404aadc8bf41f</td></tr><tr><td>7934</td><td>MILLER</td><td>CLERK</td><td>7782</td><td>null</td><td>1300</td><td>null</td><td>10</td><td>7</td><td>2024-05-11</td><td>9999-12-31</td><td>Y</td><td>bcc3c826a2626ddf2888e5d847996ab8</td></tr><tr><td>7782</td><td>CLARK</td><td>MANAGER</td><td>7839</td><td>null</td><td>2450</td><td>null</td><td>10</td><td>8</td><td>2024-05-11</td><td>9999-12-31</td><td>Y</td><td>02dc737e7a840aa6275d73be9b44e175</td></tr><tr><td>7902</td><td>FORD</td><td>ANALYST</td><td>7566</td><td>null</td><td>3000</td><td>null</td><td>20</td><td>9</td><td>2024-05-11</td><td>9999-12-31</td><td>Y</td><td>29d49b83db924ac3b3f33a9ab8c08507</td></tr><tr><td>7839</td><td>KING</td><td>PRESIDENT</td><td>null</td><td>null</td><td>5000</td><td>null</td><td>10</td><td>10</td><td>2024-05-11</td><td>9999-12-31</td><td>Y</td><td>66e4c071001074241b5735481c5f4269</td></tr><tr><td>7369</td><td>SMITH</td><td>CLERK</td><td>7902</td><td>null</td><td>800</td><td>null</td><td>20</td><td>11</td><td>2024-05-11</td><td>9999-12-31</td><td>Y</td><td>2b440b18b7cf6e0e862c430f192af024</td></tr><tr><td>7876</td><td>ADAMS</td><td>CLERK</td><td>7788</td><td>null</td><td>1100</td><td>null</td><td>20</td><td>12</td><td>2024-05-11</td><td>9999-12-31</td><td>Y</td><td>14b671b9febe93ba66858d088d51ac03</td></tr><tr><td>7698</td><td>BLAKE</td><td>MANAGER</td><td>7839</td><td>null</td><td>2850</td><td>null</td><td>30</td><td>13</td><td>2024-05-11</td><td>9999-12-31</td><td>Y</td><td>ca6fcb9cd7989821af36b5b4ec05e277</td></tr><tr><td>7499</td><td>ALLEN</td><td>SALESMAN</td><td>7698</td><td>null</td><td>1600</td><td>300</td><td>30</td><td>14</td><td>2024-05-11</td><td>9999-12-31</td><td>Y</td><td>9c74d50ffdf4afe22f4c09d77aef7f15</td></tr></tbody></table></div>"
      ]
     },
     "metadata": {
      "application/vnd.databricks.v1+output": {
       "addedWidgets": {},
       "aggData": [],
       "aggError": "",
       "aggOverflow": false,
       "aggSchema": [],
       "aggSeriesLimitReached": false,
       "aggType": "",
       "arguments": {},
       "columnCustomDisplayInfos": {},
       "data": [
        [
         7844,
         "TURNER",
         "SALESMAN",
         7698,
         null,
         1500,
         0,
         30,
         1,
         "2024-05-11",
         "9999-12-31",
         "Y",
         "819d2397bf3e5ed520e8e81987b0fa45"
        ],
        [
         7788,
         "SCOTT",
         "ANALYST",
         7566,
         null,
         3000,
         null,
         20,
         2,
         "2024-05-11",
         "9999-12-31",
         "Y",
         "9e5f1b38c2bd6f558616757e692e5be0"
        ],
        [
         7900,
         "JAMES",
         "CLERK",
         7698,
         null,
         950,
         null,
         30,
         3,
         "2024-05-11",
         "9999-12-31",
         "Y",
         "3f1ca5716a5323779bb301cdd4fa7c38"
        ],
        [
         7521,
         "WARD",
         "SALESMAN",
         7698,
         null,
         1250,
         500,
         30,
         4,
         "2024-05-11",
         "9999-12-31",
         "Y",
         "81a1e4f74aa36352058b5c0b32ff24cf"
        ],
        [
         7654,
         "MARTIN",
         "SALESMAN",
         7698,
         null,
         1250,
         1400,
         30,
         5,
         "2024-05-11",
         "9999-12-31",
         "Y",
         "00c65fd9f58fefeb811120493a14723a"
        ],
        [
         7566,
         "JONES",
         "MANAGER",
         7839,
         null,
         2975,
         null,
         20,
         6,
         "2024-05-11",
         "9999-12-31",
         "Y",
         "e11463e62544e5a8fc9404aadc8bf41f"
        ],
        [
         7934,
         "MILLER",
         "CLERK",
         7782,
         null,
         1300,
         null,
         10,
         7,
         "2024-05-11",
         "9999-12-31",
         "Y",
         "bcc3c826a2626ddf2888e5d847996ab8"
        ],
        [
         7782,
         "CLARK",
         "MANAGER",
         7839,
         null,
         2450,
         null,
         10,
         8,
         "2024-05-11",
         "9999-12-31",
         "Y",
         "02dc737e7a840aa6275d73be9b44e175"
        ],
        [
         7902,
         "FORD",
         "ANALYST",
         7566,
         null,
         3000,
         null,
         20,
         9,
         "2024-05-11",
         "9999-12-31",
         "Y",
         "29d49b83db924ac3b3f33a9ab8c08507"
        ],
        [
         7839,
         "KING",
         "PRESIDENT",
         null,
         null,
         5000,
         null,
         10,
         10,
         "2024-05-11",
         "9999-12-31",
         "Y",
         "66e4c071001074241b5735481c5f4269"
        ],
        [
         7369,
         "SMITH",
         "CLERK",
         7902,
         null,
         800,
         null,
         20,
         11,
         "2024-05-11",
         "9999-12-31",
         "Y",
         "2b440b18b7cf6e0e862c430f192af024"
        ],
        [
         7876,
         "ADAMS",
         "CLERK",
         7788,
         null,
         1100,
         null,
         20,
         12,
         "2024-05-11",
         "9999-12-31",
         "Y",
         "14b671b9febe93ba66858d088d51ac03"
        ],
        [
         7698,
         "BLAKE",
         "MANAGER",
         7839,
         null,
         2850,
         null,
         30,
         13,
         "2024-05-11",
         "9999-12-31",
         "Y",
         "ca6fcb9cd7989821af36b5b4ec05e277"
        ],
        [
         7499,
         "ALLEN",
         "SALESMAN",
         7698,
         null,
         1600,
         300,
         30,
         14,
         "2024-05-11",
         "9999-12-31",
         "Y",
         "9c74d50ffdf4afe22f4c09d77aef7f15"
        ]
       ],
       "datasetInfos": [],
       "dbfsResultPath": null,
       "isJsonSchema": true,
       "metadata": {},
       "overflow": false,
       "plotOptions": {
        "customPlotOptions": {},
        "displayType": "table",
        "pivotAggregation": null,
        "pivotColumns": null,
        "xColumns": null,
        "yColumns": null
       },
       "removedWidgets": [],
       "schema": [
        {
         "metadata": "{}",
         "name": "EMPNO",
         "type": "\"integer\""
        },
        {
         "metadata": "{}",
         "name": "ENAME",
         "type": "\"string\""
        },
        {
         "metadata": "{}",
         "name": "JOB",
         "type": "\"string\""
        },
        {
         "metadata": "{}",
         "name": "MGR",
         "type": "\"integer\""
        },
        {
         "metadata": "{}",
         "name": "HIREDATE",
         "type": "\"date\""
        },
        {
         "metadata": "{}",
         "name": "SAL",
         "type": "\"integer\""
        },
        {
         "metadata": "{}",
         "name": "COMM",
         "type": "\"integer\""
        },
        {
         "metadata": "{}",
         "name": "DEPTNO",
         "type": "\"integer\""
        },
        {
         "metadata": "{}",
         "name": "sk_EMPNO",
         "type": "\"integer\""
        },
        {
         "metadata": "{}",
         "name": "EFFECTIVE_DATE",
         "type": "\"date\""
        },
        {
         "metadata": "{}",
         "name": "EXPIRATION_DATE",
         "type": "\"date\""
        },
        {
         "metadata": "{}",
         "name": "CURRENT_FLAG",
         "type": "\"string\""
        },
        {
         "metadata": "{}",
         "name": "ETL_CHECKSUM",
         "type": "\"string\""
        }
       ],
       "type": "table"
      }
     },
     "output_type": "display_data"
    }
   ],
   "source": [
    "%sql\n",
    "select  *from  training.EMP_SCD2_SQL"
   ]
  },
  {
   "cell_type": "code",
   "execution_count": 0,
   "metadata": {
    "application/vnd.databricks.v1+cell": {
     "cellMetadata": {
      "byteLimit": 2048000,
      "rowLimit": 10000
     },
     "inputWidgets": {},
     "nuid": "0f53a2f1-8f30-4d8f-b4cf-d92068c085e2",
     "showTitle": true,
     "title": "Read the Data from Source - CSV"
    }
   },
   "outputs": [
    {
     "output_type": "stream",
     "name": "stdout",
     "output_type": "stream",
     "text": [
      "root\n |-- EMPNO: integer (nullable = true)\n |-- ENAME: string (nullable = true)\n |-- JOB: string (nullable = true)\n |-- MGR: integer (nullable = true)\n |-- HIREDATE: string (nullable = true)\n |-- SAL: integer (nullable = true)\n |-- COMM: integer (nullable = true)\n |-- DEPTNO: integer (nullable = true)\n\n"
     ]
    },
    {
     "output_type": "display_data",
     "data": {
      "text/html": [
       "<style scoped>\n",
       "  .table-result-container {\n",
       "    max-height: 300px;\n",
       "    overflow: auto;\n",
       "  }\n",
       "  table, th, td {\n",
       "    border: 1px solid black;\n",
       "    border-collapse: collapse;\n",
       "  }\n",
       "  th, td {\n",
       "    padding: 5px;\n",
       "  }\n",
       "  th {\n",
       "    text-align: left;\n",
       "  }\n",
       "</style><div class='table-result-container'><table class='table-result'><thead style='background-color: white'><tr><th>EMPNO</th><th>ENAME</th><th>JOB</th><th>MGR</th><th>HIREDATE</th><th>SAL</th><th>COMM</th><th>DEPTNO</th></tr></thead><tbody><tr><td>7839</td><td>KING</td><td>PRESIDENT</td><td>null</td><td>17-NOV-81</td><td>5000</td><td>null</td><td>10</td></tr><tr><td>7698</td><td>BLAKE</td><td>MANAGER</td><td>7839</td><td>01-MAY-81</td><td>2850</td><td>null</td><td>30</td></tr><tr><td>7782</td><td>CLARK</td><td>MANAGER</td><td>7839</td><td>09-JUN-81</td><td>2450</td><td>null</td><td>10</td></tr><tr><td>7566</td><td>JONES</td><td>MANAGER</td><td>7839</td><td>02-APR-81</td><td>2975</td><td>null</td><td>20</td></tr><tr><td>7788</td><td>SCOTT</td><td>ANALYST</td><td>7566</td><td>19-APR-87</td><td>3000</td><td>null</td><td>20</td></tr><tr><td>7902</td><td>FORD</td><td>ANALYST</td><td>7566</td><td>03-DEC-81</td><td>3000</td><td>null</td><td>20</td></tr><tr><td>7369</td><td>SMITH</td><td>CLERK</td><td>7902</td><td>17-DEC-80</td><td>800</td><td>null</td><td>20</td></tr><tr><td>7499</td><td>ALLEN</td><td>SALESMAN</td><td>7698</td><td>20-FEB-81</td><td>1600</td><td>300</td><td>30</td></tr><tr><td>7521</td><td>WARD</td><td>SALESMAN</td><td>7698</td><td>22-FEB-81</td><td>1250</td><td>500</td><td>30</td></tr><tr><td>7654</td><td>MARTIN</td><td>SALESMAN</td><td>7698</td><td>28-SEP-81</td><td>1250</td><td>1400</td><td>30</td></tr><tr><td>7844</td><td>TURNER</td><td>SALESMAN</td><td>7698</td><td>08-SEP-81</td><td>1500</td><td>0</td><td>30</td></tr><tr><td>7876</td><td>ADAMS</td><td>CLERK</td><td>7788</td><td>23-MAY-87</td><td>1100</td><td>null</td><td>20</td></tr><tr><td>7900</td><td>JAMES</td><td>CLERK</td><td>7698</td><td>03-DEC-81</td><td>950</td><td>null</td><td>30</td></tr><tr><td>7934</td><td>MILLER</td><td>CLERK</td><td>7782</td><td>23-JAN-82</td><td>1300</td><td>null</td><td>10</td></tr></tbody></table></div>"
      ]
     },
     "metadata": {
      "application/vnd.databricks.v1+output": {
       "addedWidgets": {},
       "aggData": [],
       "aggError": "",
       "aggOverflow": false,
       "aggSchema": [],
       "aggSeriesLimitReached": false,
       "aggType": "",
       "arguments": {},
       "columnCustomDisplayInfos": {},
       "data": [
        [
         7839,
         "KING",
         "PRESIDENT",
         null,
         "17-NOV-81",
         5000,
         null,
         10
        ],
        [
         7698,
         "BLAKE",
         "MANAGER",
         7839,
         "01-MAY-81",
         2850,
         null,
         30
        ],
        [
         7782,
         "CLARK",
         "MANAGER",
         7839,
         "09-JUN-81",
         2450,
         null,
         10
        ],
        [
         7566,
         "JONES",
         "MANAGER",
         7839,
         "02-APR-81",
         2975,
         null,
         20
        ],
        [
         7788,
         "SCOTT",
         "ANALYST",
         7566,
         "19-APR-87",
         3000,
         null,
         20
        ],
        [
         7902,
         "FORD",
         "ANALYST",
         7566,
         "03-DEC-81",
         3000,
         null,
         20
        ],
        [
         7369,
         "SMITH",
         "CLERK",
         7902,
         "17-DEC-80",
         800,
         null,
         20
        ],
        [
         7499,
         "ALLEN",
         "SALESMAN",
         7698,
         "20-FEB-81",
         1600,
         300,
         30
        ],
        [
         7521,
         "WARD",
         "SALESMAN",
         7698,
         "22-FEB-81",
         1250,
         500,
         30
        ],
        [
         7654,
         "MARTIN",
         "SALESMAN",
         7698,
         "28-SEP-81",
         1250,
         1400,
         30
        ],
        [
         7844,
         "TURNER",
         "SALESMAN",
         7698,
         "08-SEP-81",
         1500,
         0,
         30
        ],
        [
         7876,
         "ADAMS",
         "CLERK",
         7788,
         "23-MAY-87",
         1100,
         null,
         20
        ],
        [
         7900,
         "JAMES",
         "CLERK",
         7698,
         "03-DEC-81",
         950,
         null,
         30
        ],
        [
         7934,
         "MILLER",
         "CLERK",
         7782,
         "23-JAN-82",
         1300,
         null,
         10
        ]
       ],
       "datasetInfos": [],
       "dbfsResultPath": null,
       "isJsonSchema": true,
       "metadata": {},
       "overflow": false,
       "plotOptions": {
        "customPlotOptions": {},
        "displayType": "table",
        "pivotAggregation": null,
        "pivotColumns": null,
        "xColumns": null,
        "yColumns": null
       },
       "removedWidgets": [],
       "schema": [
        {
         "metadata": "{}",
         "name": "EMPNO",
         "type": "\"integer\""
        },
        {
         "metadata": "{}",
         "name": "ENAME",
         "type": "\"string\""
        },
        {
         "metadata": "{}",
         "name": "JOB",
         "type": "\"string\""
        },
        {
         "metadata": "{}",
         "name": "MGR",
         "type": "\"integer\""
        },
        {
         "metadata": "{}",
         "name": "HIREDATE",
         "type": "\"string\""
        },
        {
         "metadata": "{}",
         "name": "SAL",
         "type": "\"integer\""
        },
        {
         "metadata": "{}",
         "name": "COMM",
         "type": "\"integer\""
        },
        {
         "metadata": "{}",
         "name": "DEPTNO",
         "type": "\"integer\""
        }
       ],
       "type": "table"
      }
     },
     "output_type": "display_data"
    }
   ],
   "source": [
    "SOURCE_PATH = \"dbfs:/FileStore/tables/EMP.csv\"\n",
    "#SOURCE_PATH = \"dbfs:/FileStore/tables/EMP_SCD2SQL-1.csv\"\n",
    "df_source = spark.read.options(header=True, delimiter=',', inferSchema='True').csv(SOURCE_PATH)\n",
    "#spark.read.options(header=True, delimiter=',',inferSchema='True')\\\n",
    "df_source.printSchema()\n",
    "display(df_source)\n"
   ]
  },
  {
   "cell_type": "code",
   "execution_count": 0,
   "metadata": {
    "application/vnd.databricks.v1+cell": {
     "cellMetadata": {
      "byteLimit": 2048000,
      "rowLimit": 10000
     },
     "inputWidgets": {},
     "nuid": "226ec5c3-43cc-491a-ac45-6245e58dcc5a",
     "showTitle": true,
     "title": "Create a “Source View” from the “Source DataFrame” for the “First Load”"
    }
   },
   "outputs": [],
   "source": [
    "df_source.createOrReplaceTempView('EMP_SRC_SCD1_SQL')"
   ]
  },
  {
   "cell_type": "code",
   "execution_count": 0,
   "metadata": {
    "application/vnd.databricks.v1+cell": {
     "cellMetadata": {
      "byteLimit": 2048000,
      "implicitDf": true,
      "rowLimit": 10000
     },
     "inputWidgets": {},
     "nuid": "8685d019-2c4f-42e4-84a5-f05cc9ccf9c6",
     "showTitle": true,
     "title": "“Display” the “Content” of the “Source View”"
    }
   },
   "outputs": [
    {
     "output_type": "display_data",
     "data": {
      "text/html": [
       "<style scoped>\n",
       "  .table-result-container {\n",
       "    max-height: 300px;\n",
       "    overflow: auto;\n",
       "  }\n",
       "  table, th, td {\n",
       "    border: 1px solid black;\n",
       "    border-collapse: collapse;\n",
       "  }\n",
       "  th, td {\n",
       "    padding: 5px;\n",
       "  }\n",
       "  th {\n",
       "    text-align: left;\n",
       "  }\n",
       "</style><div class='table-result-container'><table class='table-result'><thead style='background-color: white'><tr><th>EMPNO</th><th>ENAME</th><th>JOB</th><th>MGR</th><th>HIREDATE</th><th>SAL</th><th>COMM</th><th>DEPTNO</th></tr></thead><tbody><tr><td>7839</td><td>KING</td><td>PRESIDENT</td><td>null</td><td>17-NOV-81</td><td>5000</td><td>null</td><td>10</td></tr><tr><td>7698</td><td>BLAKE</td><td>MANAGER</td><td>7839</td><td>01-MAY-81</td><td>2850</td><td>null</td><td>30</td></tr><tr><td>7782</td><td>CLARK</td><td>MANAGER</td><td>7839</td><td>09-JUN-81</td><td>2450</td><td>null</td><td>10</td></tr><tr><td>7566</td><td>JONES</td><td>MANAGER</td><td>7839</td><td>02-APR-81</td><td>2975</td><td>null</td><td>20</td></tr><tr><td>7788</td><td>SCOTT</td><td>ANALYST</td><td>7566</td><td>19-APR-87</td><td>3000</td><td>null</td><td>20</td></tr><tr><td>7902</td><td>FORD</td><td>ANALYST</td><td>7566</td><td>03-DEC-81</td><td>3000</td><td>null</td><td>20</td></tr><tr><td>7369</td><td>SMITH</td><td>CLERK</td><td>7902</td><td>17-DEC-80</td><td>800</td><td>null</td><td>20</td></tr><tr><td>7499</td><td>ALLEN</td><td>SALESMAN</td><td>7698</td><td>20-FEB-81</td><td>1600</td><td>300</td><td>30</td></tr><tr><td>7521</td><td>WARD</td><td>SALESMAN</td><td>7698</td><td>22-FEB-81</td><td>1250</td><td>500</td><td>30</td></tr><tr><td>7654</td><td>MARTIN</td><td>SALESMAN</td><td>7698</td><td>28-SEP-81</td><td>1250</td><td>1400</td><td>30</td></tr><tr><td>7844</td><td>TURNER</td><td>SALESMAN</td><td>7698</td><td>08-SEP-81</td><td>1500</td><td>0</td><td>30</td></tr><tr><td>7876</td><td>ADAMS</td><td>CLERK</td><td>7788</td><td>23-MAY-87</td><td>1100</td><td>null</td><td>20</td></tr><tr><td>7900</td><td>JAMES</td><td>CLERK</td><td>7698</td><td>03-DEC-81</td><td>950</td><td>null</td><td>30</td></tr><tr><td>7934</td><td>MILLER</td><td>CLERK</td><td>7782</td><td>23-JAN-82</td><td>1300</td><td>null</td><td>10</td></tr></tbody></table></div>"
      ]
     },
     "metadata": {
      "application/vnd.databricks.v1+output": {
       "addedWidgets": {},
       "aggData": [],
       "aggError": "",
       "aggOverflow": false,
       "aggSchema": [],
       "aggSeriesLimitReached": false,
       "aggType": "",
       "arguments": {},
       "columnCustomDisplayInfos": {},
       "data": [
        [
         7839,
         "KING",
         "PRESIDENT",
         null,
         "17-NOV-81",
         5000,
         null,
         10
        ],
        [
         7698,
         "BLAKE",
         "MANAGER",
         7839,
         "01-MAY-81",
         2850,
         null,
         30
        ],
        [
         7782,
         "CLARK",
         "MANAGER",
         7839,
         "09-JUN-81",
         2450,
         null,
         10
        ],
        [
         7566,
         "JONES",
         "MANAGER",
         7839,
         "02-APR-81",
         2975,
         null,
         20
        ],
        [
         7788,
         "SCOTT",
         "ANALYST",
         7566,
         "19-APR-87",
         3000,
         null,
         20
        ],
        [
         7902,
         "FORD",
         "ANALYST",
         7566,
         "03-DEC-81",
         3000,
         null,
         20
        ],
        [
         7369,
         "SMITH",
         "CLERK",
         7902,
         "17-DEC-80",
         800,
         null,
         20
        ],
        [
         7499,
         "ALLEN",
         "SALESMAN",
         7698,
         "20-FEB-81",
         1600,
         300,
         30
        ],
        [
         7521,
         "WARD",
         "SALESMAN",
         7698,
         "22-FEB-81",
         1250,
         500,
         30
        ],
        [
         7654,
         "MARTIN",
         "SALESMAN",
         7698,
         "28-SEP-81",
         1250,
         1400,
         30
        ],
        [
         7844,
         "TURNER",
         "SALESMAN",
         7698,
         "08-SEP-81",
         1500,
         0,
         30
        ],
        [
         7876,
         "ADAMS",
         "CLERK",
         7788,
         "23-MAY-87",
         1100,
         null,
         20
        ],
        [
         7900,
         "JAMES",
         "CLERK",
         7698,
         "03-DEC-81",
         950,
         null,
         30
        ],
        [
         7934,
         "MILLER",
         "CLERK",
         7782,
         "23-JAN-82",
         1300,
         null,
         10
        ]
       ],
       "datasetInfos": [],
       "dbfsResultPath": null,
       "isJsonSchema": true,
       "metadata": {},
       "overflow": false,
       "plotOptions": {
        "customPlotOptions": {},
        "displayType": "table",
        "pivotAggregation": null,
        "pivotColumns": null,
        "xColumns": null,
        "yColumns": null
       },
       "removedWidgets": [],
       "schema": [
        {
         "metadata": "{}",
         "name": "EMPNO",
         "type": "\"integer\""
        },
        {
         "metadata": "{}",
         "name": "ENAME",
         "type": "\"string\""
        },
        {
         "metadata": "{}",
         "name": "JOB",
         "type": "\"string\""
        },
        {
         "metadata": "{}",
         "name": "MGR",
         "type": "\"integer\""
        },
        {
         "metadata": "{}",
         "name": "HIREDATE",
         "type": "\"string\""
        },
        {
         "metadata": "{}",
         "name": "SAL",
         "type": "\"integer\""
        },
        {
         "metadata": "{}",
         "name": "COMM",
         "type": "\"integer\""
        },
        {
         "metadata": "{}",
         "name": "DEPTNO",
         "type": "\"integer\""
        }
       ],
       "type": "table"
      }
     },
     "output_type": "display_data"
    }
   ],
   "source": [
    "%sql\n",
    "select * from EMP_SRC_SCD1_SQL"
   ]
  },
  {
   "cell_type": "code",
   "execution_count": 0,
   "metadata": {
    "application/vnd.databricks.v1+cell": {
     "cellMetadata": {
      "byteLimit": 2048000,
      "implicitDf": true,
      "rowLimit": 10000
     },
     "inputWidgets": {},
     "nuid": "52353b47-c2ab-4a22-b90d-feee8e6a4ffe",
     "showTitle": true,
     "title": "Generate ETL CheckSum"
    }
   },
   "outputs": [
    {
     "output_type": "display_data",
     "data": {
      "text/html": [
       "<style scoped>\n",
       "  .table-result-container {\n",
       "    max-height: 300px;\n",
       "    overflow: auto;\n",
       "  }\n",
       "  table, th, td {\n",
       "    border: 1px solid black;\n",
       "    border-collapse: collapse;\n",
       "  }\n",
       "  th, td {\n",
       "    padding: 5px;\n",
       "  }\n",
       "  th {\n",
       "    text-align: left;\n",
       "  }\n",
       "</style><div class='table-result-container'><table class='table-result'><thead style='background-color: white'><tr></tr></thead><tbody></tbody></table></div>"
      ]
     },
     "metadata": {
      "application/vnd.databricks.v1+output": {
       "addedWidgets": {},
       "aggData": [],
       "aggError": "",
       "aggOverflow": false,
       "aggSchema": [],
       "aggSeriesLimitReached": false,
       "aggType": "",
       "arguments": {},
       "columnCustomDisplayInfos": {},
       "data": [],
       "datasetInfos": [],
       "dbfsResultPath": null,
       "isJsonSchema": true,
       "metadata": {},
       "overflow": false,
       "plotOptions": {
        "customPlotOptions": {},
        "displayType": "table",
        "pivotAggregation": null,
        "pivotColumns": null,
        "xColumns": null,
        "yColumns": null
       },
       "removedWidgets": [],
       "schema": [],
       "type": "table"
      }
     },
     "output_type": "display_data"
    }
   ],
   "source": [
    "%sql\n",
    "CREATE OR REPLACE TEMPORARY VIEW stg_EMP_vw\n",
    "AS\n",
    "SELECT DISTINCT\n",
    "EMPNO,\n",
    "ENAME,\n",
    " JOB,\n",
    " MGR,\n",
    " HIREDATE,\n",
    " SAL,\n",
    " COMM,\n",
    " DEPTNO\n",
    "-- , row_number() OVER (ORDER BY EMPNO) AS SK_EMPNO\n",
    "  ,md5(\n",
    "    CONCAT_WS('|',\n",
    "               JOB,\n",
    "                MGR,\n",
    "              HIREDATE,\n",
    "             DEPTNO,\n",
    "             SAL,\n",
    "             COMM \n",
    "  \n",
    "    )\n",
    "   )AS ETL_CHECKSUM\n",
    "  \n",
    "FROM\n",
    "  EMP_SRC_SCD1_SQL\n"
   ]
  },
  {
   "cell_type": "code",
   "execution_count": 0,
   "metadata": {
    "application/vnd.databricks.v1+cell": {
     "cellMetadata": {
      "byteLimit": 2048000,
      "implicitDf": true,
      "rowLimit": 10000
     },
     "inputWidgets": {},
     "nuid": "bb038cb6-72b8-462e-91ca-51eeb061a727",
     "showTitle": false,
     "title": ""
    }
   },
   "outputs": [
    {
     "output_type": "display_data",
     "data": {
      "text/html": [
       "<style scoped>\n",
       "  .table-result-container {\n",
       "    max-height: 300px;\n",
       "    overflow: auto;\n",
       "  }\n",
       "  table, th, td {\n",
       "    border: 1px solid black;\n",
       "    border-collapse: collapse;\n",
       "  }\n",
       "  th, td {\n",
       "    padding: 5px;\n",
       "  }\n",
       "  th {\n",
       "    text-align: left;\n",
       "  }\n",
       "</style><div class='table-result-container'><table class='table-result'><thead style='background-color: white'><tr><th>EMPNO</th><th>ENAME</th><th>JOB</th><th>MGR</th><th>HIREDATE</th><th>SAL</th><th>COMM</th><th>DEPTNO</th><th>ETL_CHECKSUM</th></tr></thead><tbody><tr><td>7844</td><td>TURNER</td><td>SALESMAN</td><td>7698</td><td>08-SEP-81</td><td>1500</td><td>0</td><td>30</td><td>819d2397bf3e5ed520e8e81987b0fa45</td></tr><tr><td>7788</td><td>SCOTT</td><td>ANALYST</td><td>7566</td><td>19-APR-87</td><td>3000</td><td>null</td><td>20</td><td>9e5f1b38c2bd6f558616757e692e5be0</td></tr><tr><td>7900</td><td>JAMES</td><td>CLERK</td><td>7698</td><td>03-DEC-81</td><td>950</td><td>null</td><td>30</td><td>3f1ca5716a5323779bb301cdd4fa7c38</td></tr><tr><td>7521</td><td>WARD</td><td>SALESMAN</td><td>7698</td><td>22-FEB-81</td><td>1250</td><td>500</td><td>30</td><td>81a1e4f74aa36352058b5c0b32ff24cf</td></tr><tr><td>7654</td><td>MARTIN</td><td>SALESMAN</td><td>7698</td><td>28-SEP-81</td><td>1250</td><td>1400</td><td>30</td><td>00c65fd9f58fefeb811120493a14723a</td></tr><tr><td>7566</td><td>JONES</td><td>MANAGER</td><td>7839</td><td>02-APR-81</td><td>2975</td><td>null</td><td>20</td><td>e11463e62544e5a8fc9404aadc8bf41f</td></tr><tr><td>7934</td><td>MILLER</td><td>CLERK</td><td>7782</td><td>23-JAN-82</td><td>1300</td><td>null</td><td>10</td><td>bcc3c826a2626ddf2888e5d847996ab8</td></tr><tr><td>7782</td><td>CLARK</td><td>MANAGER</td><td>7839</td><td>09-JUN-81</td><td>2450</td><td>null</td><td>10</td><td>02dc737e7a840aa6275d73be9b44e175</td></tr><tr><td>7902</td><td>FORD</td><td>ANALYST</td><td>7566</td><td>03-DEC-81</td><td>3000</td><td>null</td><td>20</td><td>29d49b83db924ac3b3f33a9ab8c08507</td></tr><tr><td>7839</td><td>KING</td><td>PRESIDENT</td><td>null</td><td>17-NOV-81</td><td>5000</td><td>null</td><td>10</td><td>66e4c071001074241b5735481c5f4269</td></tr><tr><td>7369</td><td>SMITH</td><td>CLERK</td><td>7902</td><td>17-DEC-80</td><td>800</td><td>null</td><td>20</td><td>2b440b18b7cf6e0e862c430f192af024</td></tr><tr><td>7876</td><td>ADAMS</td><td>CLERK</td><td>7788</td><td>23-MAY-87</td><td>1100</td><td>null</td><td>20</td><td>14b671b9febe93ba66858d088d51ac03</td></tr><tr><td>7698</td><td>BLAKE</td><td>MANAGER</td><td>7839</td><td>01-MAY-81</td><td>2850</td><td>null</td><td>30</td><td>ca6fcb9cd7989821af36b5b4ec05e277</td></tr><tr><td>7499</td><td>ALLEN</td><td>SALESMAN</td><td>7698</td><td>20-FEB-81</td><td>1600</td><td>300</td><td>30</td><td>9c74d50ffdf4afe22f4c09d77aef7f15</td></tr></tbody></table></div>"
      ]
     },
     "metadata": {
      "application/vnd.databricks.v1+output": {
       "addedWidgets": {},
       "aggData": [],
       "aggError": "",
       "aggOverflow": false,
       "aggSchema": [],
       "aggSeriesLimitReached": false,
       "aggType": "",
       "arguments": {},
       "columnCustomDisplayInfos": {},
       "data": [
        [
         7844,
         "TURNER",
         "SALESMAN",
         7698,
         "08-SEP-81",
         1500,
         0,
         30,
         "819d2397bf3e5ed520e8e81987b0fa45"
        ],
        [
         7788,
         "SCOTT",
         "ANALYST",
         7566,
         "19-APR-87",
         3000,
         null,
         20,
         "9e5f1b38c2bd6f558616757e692e5be0"
        ],
        [
         7900,
         "JAMES",
         "CLERK",
         7698,
         "03-DEC-81",
         950,
         null,
         30,
         "3f1ca5716a5323779bb301cdd4fa7c38"
        ],
        [
         7521,
         "WARD",
         "SALESMAN",
         7698,
         "22-FEB-81",
         1250,
         500,
         30,
         "81a1e4f74aa36352058b5c0b32ff24cf"
        ],
        [
         7654,
         "MARTIN",
         "SALESMAN",
         7698,
         "28-SEP-81",
         1250,
         1400,
         30,
         "00c65fd9f58fefeb811120493a14723a"
        ],
        [
         7566,
         "JONES",
         "MANAGER",
         7839,
         "02-APR-81",
         2975,
         null,
         20,
         "e11463e62544e5a8fc9404aadc8bf41f"
        ],
        [
         7934,
         "MILLER",
         "CLERK",
         7782,
         "23-JAN-82",
         1300,
         null,
         10,
         "bcc3c826a2626ddf2888e5d847996ab8"
        ],
        [
         7782,
         "CLARK",
         "MANAGER",
         7839,
         "09-JUN-81",
         2450,
         null,
         10,
         "02dc737e7a840aa6275d73be9b44e175"
        ],
        [
         7902,
         "FORD",
         "ANALYST",
         7566,
         "03-DEC-81",
         3000,
         null,
         20,
         "29d49b83db924ac3b3f33a9ab8c08507"
        ],
        [
         7839,
         "KING",
         "PRESIDENT",
         null,
         "17-NOV-81",
         5000,
         null,
         10,
         "66e4c071001074241b5735481c5f4269"
        ],
        [
         7369,
         "SMITH",
         "CLERK",
         7902,
         "17-DEC-80",
         800,
         null,
         20,
         "2b440b18b7cf6e0e862c430f192af024"
        ],
        [
         7876,
         "ADAMS",
         "CLERK",
         7788,
         "23-MAY-87",
         1100,
         null,
         20,
         "14b671b9febe93ba66858d088d51ac03"
        ],
        [
         7698,
         "BLAKE",
         "MANAGER",
         7839,
         "01-MAY-81",
         2850,
         null,
         30,
         "ca6fcb9cd7989821af36b5b4ec05e277"
        ],
        [
         7499,
         "ALLEN",
         "SALESMAN",
         7698,
         "20-FEB-81",
         1600,
         300,
         30,
         "9c74d50ffdf4afe22f4c09d77aef7f15"
        ]
       ],
       "datasetInfos": [],
       "dbfsResultPath": null,
       "isJsonSchema": true,
       "metadata": {},
       "overflow": false,
       "plotOptions": {
        "customPlotOptions": {},
        "displayType": "table",
        "pivotAggregation": null,
        "pivotColumns": null,
        "xColumns": null,
        "yColumns": null
       },
       "removedWidgets": [],
       "schema": [
        {
         "metadata": "{}",
         "name": "EMPNO",
         "type": "\"integer\""
        },
        {
         "metadata": "{}",
         "name": "ENAME",
         "type": "\"string\""
        },
        {
         "metadata": "{}",
         "name": "JOB",
         "type": "\"string\""
        },
        {
         "metadata": "{}",
         "name": "MGR",
         "type": "\"integer\""
        },
        {
         "metadata": "{}",
         "name": "HIREDATE",
         "type": "\"string\""
        },
        {
         "metadata": "{}",
         "name": "SAL",
         "type": "\"integer\""
        },
        {
         "metadata": "{}",
         "name": "COMM",
         "type": "\"integer\""
        },
        {
         "metadata": "{}",
         "name": "DEPTNO",
         "type": "\"integer\""
        },
        {
         "metadata": "{}",
         "name": "ETL_CHECKSUM",
         "type": "\"string\""
        }
       ],
       "type": "table"
      }
     },
     "output_type": "display_data"
    }
   ],
   "source": [
    "%sql\n",
    "select * from stg_EMP_vw"
   ]
  },
  {
   "cell_type": "code",
   "execution_count": 0,
   "metadata": {
    "application/vnd.databricks.v1+cell": {
     "cellMetadata": {
      "byteLimit": 2048000,
      "implicitDf": true,
      "rowLimit": 10000
     },
     "inputWidgets": {},
     "nuid": "6e4e5de1-3b47-4e98-b7d0-644d460cee6f",
     "showTitle": true,
     "title": "Merge Statement for SCD2 implementation"
    }
   },
   "outputs": [
    {
     "output_type": "display_data",
     "data": {
      "text/html": [
       "<style scoped>\n",
       "  .table-result-container {\n",
       "    max-height: 300px;\n",
       "    overflow: auto;\n",
       "  }\n",
       "  table, th, td {\n",
       "    border: 1px solid black;\n",
       "    border-collapse: collapse;\n",
       "  }\n",
       "  th, td {\n",
       "    padding: 5px;\n",
       "  }\n",
       "  th {\n",
       "    text-align: left;\n",
       "  }\n",
       "</style><div class='table-result-container'><table class='table-result'><thead style='background-color: white'><tr><th>num_affected_rows</th><th>num_updated_rows</th><th>num_deleted_rows</th><th>num_inserted_rows</th></tr></thead><tbody><tr><td>14</td><td>0</td><td>0</td><td>14</td></tr></tbody></table></div>"
      ]
     },
     "metadata": {
      "application/vnd.databricks.v1+output": {
       "addedWidgets": {},
       "aggData": [],
       "aggError": "",
       "aggOverflow": false,
       "aggSchema": [],
       "aggSeriesLimitReached": false,
       "aggType": "",
       "arguments": {},
       "columnCustomDisplayInfos": {},
       "data": [
        [
         14,
         0,
         0,
         14
        ]
       ],
       "datasetInfos": [],
       "dbfsResultPath": null,
       "isJsonSchema": true,
       "metadata": {},
       "overflow": false,
       "plotOptions": {
        "customPlotOptions": {},
        "displayType": "table",
        "pivotAggregation": null,
        "pivotColumns": null,
        "xColumns": null,
        "yColumns": null
       },
       "removedWidgets": [],
       "schema": [
        {
         "metadata": "{}",
         "name": "num_affected_rows",
         "type": "\"long\""
        },
        {
         "metadata": "{}",
         "name": "num_updated_rows",
         "type": "\"long\""
        },
        {
         "metadata": "{}",
         "name": "num_deleted_rows",
         "type": "\"long\""
        },
        {
         "metadata": "{}",
         "name": "num_inserted_rows",
         "type": "\"long\""
        }
       ],
       "type": "table"
      }
     },
     "output_type": "display_data"
    }
   ],
   "source": [
    "%sql\n",
    "\n",
    "MERGE INTO training.EMP_SCD2_SQL TARGET\n",
    "USING \n",
    "(SELECT SRC.EMPNO as JOIN_KEY, SRC.* from stg_emp_vw SRC\n",
    "UNION ALL\n",
    "SELECT NULL as JOIN_KEY, SRC.* from stg_emp_vw SRC\n",
    "INNER JOIN  training.EMP_SCD2_SQL tgt ON tgt.EMPNO = SRC.EMPNO\n",
    "WHERE tgt.ETL_CHECKSUM != src.ETL_CHECKSUM AND tgt.CURRENT_FLAG = 'Y'\n",
    ") SOURCE\n",
    "ON TARGET.EMPNO = SOURCE.JOIN_KEY\n",
    "WHEN MATCHED AND TARGET.ETL_CHECKSUM != SOURCE.ETL_CHECKSUM \n",
    "THEN\n",
    "  UPDATE SET\n",
    "  TARGET.CURRENT_FLAG = 'N',\n",
    "  TARGET.EXPIRATION_DATE = CURRENT_DATE()\n",
    "WHEN NOT MATCHED THEN\n",
    "  INSERT\n",
    "  (\n",
    "EMPNO,\n",
    "ENAME,\n",
    "JOB,\n",
    "MGR,\n",
    "HIREDATE,\n",
    "SAL,\n",
    "COMM,\n",
    "DEPTNO,\n",
    "SK_EMPNO,\n",
    "EFFECTIVE_DATE,\n",
    "EXPIRATION_DATE,\n",
    "CURRENT_FLAG,\n",
    "ETL_CHECKSUM\n",
    "  )\n",
    "  VALUES\n",
    "  (\n",
    "SOURCE.EMPNO,\n",
    "SOURCE.ENAME,\n",
    "SOURCE.JOB,\n",
    "SOURCE.MGR,\n",
    "SOURCE.HIREDATE,\n",
    "SOURCE.SAL,\n",
    "SOURCE.COMM,\n",
    "SOURCE.DEPTNO,\n",
    "\" \",\n",
    "--row_number() OVER (ORDER BY EMPNO ASC NULLS FIRST ROWS BETWEEN UNBOUNDED PRECEDING AND CURRENT ROW),\n",
    "--A query operator contains one or more unsupported expressions. Consider to rewrite it to avoid window functions, \n",
    "--Do not use the Window functions in the merge statement, instead use it in USING SOURCE SQL\n",
    "CURRENT_DATE(),\n",
    "\"9999-12-31\",\n",
    " \"Y\",\n",
    " SOURCE.ETL_CHECKSUM \n",
    "  )\n"
   ]
  },
  {
   "cell_type": "code",
   "execution_count": 0,
   "metadata": {
    "application/vnd.databricks.v1+cell": {
     "cellMetadata": {
      "byteLimit": 2048000,
      "implicitDf": true,
      "rowLimit": 10000
     },
     "inputWidgets": {},
     "nuid": "5c65ae8a-1eba-45ae-9801-e582ba1df7cc",
     "showTitle": true,
     "title": "Check the results in the table"
    }
   },
   "outputs": [
    {
     "output_type": "display_data",
     "data": {
      "text/html": [
       "<style scoped>\n",
       "  .table-result-container {\n",
       "    max-height: 300px;\n",
       "    overflow: auto;\n",
       "  }\n",
       "  table, th, td {\n",
       "    border: 1px solid black;\n",
       "    border-collapse: collapse;\n",
       "  }\n",
       "  th, td {\n",
       "    padding: 5px;\n",
       "  }\n",
       "  th {\n",
       "    text-align: left;\n",
       "  }\n",
       "</style><div class='table-result-container'><table class='table-result'><thead style='background-color: white'><tr><th>EMPNO</th><th>ENAME</th><th>JOB</th><th>MGR</th><th>HIREDATE</th><th>SAL</th><th>COMM</th><th>DEPTNO</th><th>sk_EMPNO</th><th>EFFECTIVE_DATE</th><th>EXPIRATION_DATE</th><th>CURRENT_FLAG</th><th>ETL_CHECKSUM</th></tr></thead><tbody><tr><td>7844</td><td>TURNER</td><td>SALESMAN</td><td>7698</td><td>null</td><td>1500</td><td>0</td><td>30</td><td>null</td><td>2024-05-12</td><td>9999-12-31</td><td>Y</td><td>819d2397bf3e5ed520e8e81987b0fa45</td></tr><tr><td>7788</td><td>SCOTT</td><td>ANALYST</td><td>7566</td><td>null</td><td>3000</td><td>null</td><td>20</td><td>null</td><td>2024-05-12</td><td>9999-12-31</td><td>Y</td><td>9e5f1b38c2bd6f558616757e692e5be0</td></tr><tr><td>7900</td><td>JAMES</td><td>CLERK</td><td>7698</td><td>null</td><td>950</td><td>null</td><td>30</td><td>null</td><td>2024-05-12</td><td>9999-12-31</td><td>Y</td><td>3f1ca5716a5323779bb301cdd4fa7c38</td></tr><tr><td>7521</td><td>WARD</td><td>SALESMAN</td><td>7698</td><td>null</td><td>1250</td><td>500</td><td>30</td><td>null</td><td>2024-05-12</td><td>9999-12-31</td><td>Y</td><td>81a1e4f74aa36352058b5c0b32ff24cf</td></tr><tr><td>7654</td><td>MARTIN</td><td>SALESMAN</td><td>7698</td><td>null</td><td>1250</td><td>1400</td><td>30</td><td>null</td><td>2024-05-12</td><td>9999-12-31</td><td>Y</td><td>00c65fd9f58fefeb811120493a14723a</td></tr><tr><td>7566</td><td>JONES</td><td>MANAGER</td><td>7839</td><td>null</td><td>2975</td><td>null</td><td>20</td><td>null</td><td>2024-05-12</td><td>9999-12-31</td><td>Y</td><td>e11463e62544e5a8fc9404aadc8bf41f</td></tr><tr><td>7934</td><td>MILLER</td><td>CLERK</td><td>7782</td><td>null</td><td>1300</td><td>null</td><td>10</td><td>null</td><td>2024-05-12</td><td>9999-12-31</td><td>Y</td><td>bcc3c826a2626ddf2888e5d847996ab8</td></tr><tr><td>7782</td><td>CLARK</td><td>MANAGER</td><td>7839</td><td>null</td><td>2450</td><td>null</td><td>10</td><td>null</td><td>2024-05-12</td><td>9999-12-31</td><td>Y</td><td>02dc737e7a840aa6275d73be9b44e175</td></tr><tr><td>7902</td><td>FORD</td><td>ANALYST</td><td>7566</td><td>null</td><td>3000</td><td>null</td><td>20</td><td>null</td><td>2024-05-12</td><td>9999-12-31</td><td>Y</td><td>29d49b83db924ac3b3f33a9ab8c08507</td></tr><tr><td>7839</td><td>KING</td><td>PRESIDENT</td><td>null</td><td>null</td><td>5000</td><td>null</td><td>10</td><td>null</td><td>2024-05-12</td><td>9999-12-31</td><td>Y</td><td>66e4c071001074241b5735481c5f4269</td></tr><tr><td>7369</td><td>SMITH</td><td>CLERK</td><td>7902</td><td>null</td><td>800</td><td>null</td><td>20</td><td>null</td><td>2024-05-12</td><td>9999-12-31</td><td>Y</td><td>2b440b18b7cf6e0e862c430f192af024</td></tr><tr><td>7876</td><td>ADAMS</td><td>CLERK</td><td>7788</td><td>null</td><td>1100</td><td>null</td><td>20</td><td>null</td><td>2024-05-12</td><td>9999-12-31</td><td>Y</td><td>14b671b9febe93ba66858d088d51ac03</td></tr><tr><td>7698</td><td>BLAKE</td><td>MANAGER</td><td>7839</td><td>null</td><td>2850</td><td>null</td><td>30</td><td>null</td><td>2024-05-12</td><td>9999-12-31</td><td>Y</td><td>ca6fcb9cd7989821af36b5b4ec05e277</td></tr><tr><td>7499</td><td>ALLEN</td><td>SALESMAN</td><td>7698</td><td>null</td><td>1600</td><td>300</td><td>30</td><td>null</td><td>2024-05-12</td><td>9999-12-31</td><td>Y</td><td>9c74d50ffdf4afe22f4c09d77aef7f15</td></tr></tbody></table></div>"
      ]
     },
     "metadata": {
      "application/vnd.databricks.v1+output": {
       "addedWidgets": {},
       "aggData": [],
       "aggError": "",
       "aggOverflow": false,
       "aggSchema": [],
       "aggSeriesLimitReached": false,
       "aggType": "",
       "arguments": {},
       "columnCustomDisplayInfos": {},
       "data": [
        [
         7844,
         "TURNER",
         "SALESMAN",
         7698,
         null,
         1500,
         0,
         30,
         null,
         "2024-05-12",
         "9999-12-31",
         "Y",
         "819d2397bf3e5ed520e8e81987b0fa45"
        ],
        [
         7788,
         "SCOTT",
         "ANALYST",
         7566,
         null,
         3000,
         null,
         20,
         null,
         "2024-05-12",
         "9999-12-31",
         "Y",
         "9e5f1b38c2bd6f558616757e692e5be0"
        ],
        [
         7900,
         "JAMES",
         "CLERK",
         7698,
         null,
         950,
         null,
         30,
         null,
         "2024-05-12",
         "9999-12-31",
         "Y",
         "3f1ca5716a5323779bb301cdd4fa7c38"
        ],
        [
         7521,
         "WARD",
         "SALESMAN",
         7698,
         null,
         1250,
         500,
         30,
         null,
         "2024-05-12",
         "9999-12-31",
         "Y",
         "81a1e4f74aa36352058b5c0b32ff24cf"
        ],
        [
         7654,
         "MARTIN",
         "SALESMAN",
         7698,
         null,
         1250,
         1400,
         30,
         null,
         "2024-05-12",
         "9999-12-31",
         "Y",
         "00c65fd9f58fefeb811120493a14723a"
        ],
        [
         7566,
         "JONES",
         "MANAGER",
         7839,
         null,
         2975,
         null,
         20,
         null,
         "2024-05-12",
         "9999-12-31",
         "Y",
         "e11463e62544e5a8fc9404aadc8bf41f"
        ],
        [
         7934,
         "MILLER",
         "CLERK",
         7782,
         null,
         1300,
         null,
         10,
         null,
         "2024-05-12",
         "9999-12-31",
         "Y",
         "bcc3c826a2626ddf2888e5d847996ab8"
        ],
        [
         7782,
         "CLARK",
         "MANAGER",
         7839,
         null,
         2450,
         null,
         10,
         null,
         "2024-05-12",
         "9999-12-31",
         "Y",
         "02dc737e7a840aa6275d73be9b44e175"
        ],
        [
         7902,
         "FORD",
         "ANALYST",
         7566,
         null,
         3000,
         null,
         20,
         null,
         "2024-05-12",
         "9999-12-31",
         "Y",
         "29d49b83db924ac3b3f33a9ab8c08507"
        ],
        [
         7839,
         "KING",
         "PRESIDENT",
         null,
         null,
         5000,
         null,
         10,
         null,
         "2024-05-12",
         "9999-12-31",
         "Y",
         "66e4c071001074241b5735481c5f4269"
        ],
        [
         7369,
         "SMITH",
         "CLERK",
         7902,
         null,
         800,
         null,
         20,
         null,
         "2024-05-12",
         "9999-12-31",
         "Y",
         "2b440b18b7cf6e0e862c430f192af024"
        ],
        [
         7876,
         "ADAMS",
         "CLERK",
         7788,
         null,
         1100,
         null,
         20,
         null,
         "2024-05-12",
         "9999-12-31",
         "Y",
         "14b671b9febe93ba66858d088d51ac03"
        ],
        [
         7698,
         "BLAKE",
         "MANAGER",
         7839,
         null,
         2850,
         null,
         30,
         null,
         "2024-05-12",
         "9999-12-31",
         "Y",
         "ca6fcb9cd7989821af36b5b4ec05e277"
        ],
        [
         7499,
         "ALLEN",
         "SALESMAN",
         7698,
         null,
         1600,
         300,
         30,
         null,
         "2024-05-12",
         "9999-12-31",
         "Y",
         "9c74d50ffdf4afe22f4c09d77aef7f15"
        ]
       ],
       "datasetInfos": [],
       "dbfsResultPath": null,
       "isJsonSchema": true,
       "metadata": {},
       "overflow": false,
       "plotOptions": {
        "customPlotOptions": {},
        "displayType": "table",
        "pivotAggregation": null,
        "pivotColumns": null,
        "xColumns": null,
        "yColumns": null
       },
       "removedWidgets": [],
       "schema": [
        {
         "metadata": "{}",
         "name": "EMPNO",
         "type": "\"integer\""
        },
        {
         "metadata": "{}",
         "name": "ENAME",
         "type": "\"string\""
        },
        {
         "metadata": "{}",
         "name": "JOB",
         "type": "\"string\""
        },
        {
         "metadata": "{}",
         "name": "MGR",
         "type": "\"integer\""
        },
        {
         "metadata": "{}",
         "name": "HIREDATE",
         "type": "\"date\""
        },
        {
         "metadata": "{}",
         "name": "SAL",
         "type": "\"integer\""
        },
        {
         "metadata": "{}",
         "name": "COMM",
         "type": "\"integer\""
        },
        {
         "metadata": "{}",
         "name": "DEPTNO",
         "type": "\"integer\""
        },
        {
         "metadata": "{}",
         "name": "sk_EMPNO",
         "type": "\"integer\""
        },
        {
         "metadata": "{}",
         "name": "EFFECTIVE_DATE",
         "type": "\"date\""
        },
        {
         "metadata": "{}",
         "name": "EXPIRATION_DATE",
         "type": "\"date\""
        },
        {
         "metadata": "{}",
         "name": "CURRENT_FLAG",
         "type": "\"string\""
        },
        {
         "metadata": "{}",
         "name": "ETL_CHECKSUM",
         "type": "\"string\""
        }
       ],
       "type": "table"
      }
     },
     "output_type": "display_data"
    }
   ],
   "source": [
    "%sql\n",
    "select * from training.EMP_SCD2_SQL"
   ]
  },
  {
   "cell_type": "code",
   "execution_count": 0,
   "metadata": {
    "application/vnd.databricks.v1+cell": {
     "cellMetadata": {
      "byteLimit": 2048000,
      "implicitDf": true,
      "rowLimit": 10000
     },
     "inputWidgets": {},
     "nuid": "035c7b61-9304-423a-93a2-59544c5d0f28",
     "showTitle": true,
     "title": "Generate Surrogate Keys"
    }
   },
   "outputs": [
    {
     "output_type": "display_data",
     "data": {
      "text/html": [
       "<style scoped>\n",
       "  .table-result-container {\n",
       "    max-height: 300px;\n",
       "    overflow: auto;\n",
       "  }\n",
       "  table, th, td {\n",
       "    border: 1px solid black;\n",
       "    border-collapse: collapse;\n",
       "  }\n",
       "  th, td {\n",
       "    padding: 5px;\n",
       "  }\n",
       "  th {\n",
       "    text-align: left;\n",
       "  }\n",
       "</style><div class='table-result-container'><table class='table-result'><thead style='background-color: white'><tr><th>SK_EMPNO1</th><th>EMPNO</th></tr></thead><tbody><tr><td>1</td><td>7844</td></tr><tr><td>2</td><td>7788</td></tr><tr><td>3</td><td>7900</td></tr><tr><td>4</td><td>7521</td></tr><tr><td>5</td><td>7654</td></tr><tr><td>6</td><td>7566</td></tr><tr><td>7</td><td>7934</td></tr><tr><td>8</td><td>7782</td></tr><tr><td>9</td><td>7902</td></tr><tr><td>10</td><td>7839</td></tr><tr><td>11</td><td>7369</td></tr><tr><td>12</td><td>7876</td></tr><tr><td>13</td><td>7698</td></tr><tr><td>14</td><td>7499</td></tr></tbody></table></div>"
      ]
     },
     "metadata": {
      "application/vnd.databricks.v1+output": {
       "addedWidgets": {},
       "aggData": [],
       "aggError": "",
       "aggOverflow": false,
       "aggSchema": [],
       "aggSeriesLimitReached": false,
       "aggType": "",
       "arguments": {},
       "columnCustomDisplayInfos": {},
       "data": [
        [
         1,
         7844
        ],
        [
         2,
         7788
        ],
        [
         3,
         7900
        ],
        [
         4,
         7521
        ],
        [
         5,
         7654
        ],
        [
         6,
         7566
        ],
        [
         7,
         7934
        ],
        [
         8,
         7782
        ],
        [
         9,
         7902
        ],
        [
         10,
         7839
        ],
        [
         11,
         7369
        ],
        [
         12,
         7876
        ],
        [
         13,
         7698
        ],
        [
         14,
         7499
        ]
       ],
       "datasetInfos": [],
       "dbfsResultPath": null,
       "isJsonSchema": true,
       "metadata": {},
       "overflow": false,
       "plotOptions": {
        "customPlotOptions": {},
        "displayType": "table",
        "pivotAggregation": null,
        "pivotColumns": null,
        "xColumns": null,
        "yColumns": null
       },
       "removedWidgets": [],
       "schema": [
        {
         "metadata": "{}",
         "name": "SK_EMPNO1",
         "type": "\"integer\""
        },
        {
         "metadata": "{}",
         "name": "EMPNO",
         "type": "\"integer\""
        }
       ],
       "type": "table"
      }
     },
     "output_type": "display_data"
    }
   ],
   "source": [
    "%sql\n",
    "WITH CTE AS(\n",
    "SELECT ((ROW_NUMBER() OVER (PARTITION BY CAST(EMP_SCD2_SQL.SK_EMPNO AS INT) ORDER BY EMP_SCD2_SQL.SK_EMPNO)) + MAX_SK)  AS  SK_EMPNO1\n",
    "       ,EMPNO\n",
    "FROM training.EMP_SCD2_SQL\n",
    "CROSS JOIN (\n",
    "  SELECT IFNULL(max(SK_EMPNO),0) AS MAX_SK FROM training.EMP_SCD2_SQL \n",
    ") MaxSK_View\n",
    "WHERE EMP_SCD2_SQL.SK_EMPNO IS NULL\n",
    "ORDER BY 1\n",
    ")\n",
    "select *from CTE\n",
    "\n",
    "/*MERGE INTO training.EMP_SCD2_SQL\n",
    "USING CTE\n",
    "ON CTE.EMPNO = EMP_SCD2_SQL.EMPNO\n",
    "WHEN MATCHED AND EMP_SCD2_SQL.SK_EMPNO IS NULL\n",
    "  THEN UPDATE SET \n",
    "    EMP_SCD2_SQL.SK_EMPNO = CTE.SK_EMPNO1*/"
   ]
  },
  {
   "cell_type": "code",
   "execution_count": 0,
   "metadata": {
    "application/vnd.databricks.v1+cell": {
     "cellMetadata": {
      "byteLimit": 2048000,
      "implicitDf": true,
      "rowLimit": 10000
     },
     "inputWidgets": {},
     "nuid": "c8b8d71c-7418-4980-8dd5-525a94bce047",
     "showTitle": false,
     "title": ""
    }
   },
   "outputs": [
    {
     "output_type": "display_data",
     "data": {
      "text/html": [
       "<style scoped>\n",
       "  .table-result-container {\n",
       "    max-height: 300px;\n",
       "    overflow: auto;\n",
       "  }\n",
       "  table, th, td {\n",
       "    border: 1px solid black;\n",
       "    border-collapse: collapse;\n",
       "  }\n",
       "  th, td {\n",
       "    padding: 5px;\n",
       "  }\n",
       "  th {\n",
       "    text-align: left;\n",
       "  }\n",
       "</style><div class='table-result-container'><table class='table-result'><thead style='background-color: white'><tr><th>EMPNO</th><th>ENAME</th><th>JOB</th><th>MGR</th><th>HIREDATE</th><th>SAL</th><th>COMM</th><th>DEPTNO</th><th>sk_EMPNO</th><th>EFFECTIVE_DATE</th><th>EXPIRATION_DATE</th><th>CURRENT_FLAG</th><th>ETL_CHECKSUM</th></tr></thead><tbody><tr><td>7844</td><td>TURNER</td><td>SALESMAN</td><td>7698</td><td>null</td><td>1500</td><td>0</td><td>30</td><td>1</td><td>2024-05-11</td><td>9999-12-31</td><td>Y</td><td>819d2397bf3e5ed520e8e81987b0fa45</td></tr><tr><td>7788</td><td>SCOTT</td><td>ANALYST</td><td>7566</td><td>null</td><td>3000</td><td>null</td><td>20</td><td>2</td><td>2024-05-11</td><td>9999-12-31</td><td>Y</td><td>9e5f1b38c2bd6f558616757e692e5be0</td></tr><tr><td>7900</td><td>JAMES</td><td>CLERK</td><td>7698</td><td>null</td><td>950</td><td>null</td><td>30</td><td>3</td><td>2024-05-11</td><td>9999-12-31</td><td>Y</td><td>3f1ca5716a5323779bb301cdd4fa7c38</td></tr><tr><td>7521</td><td>WARD</td><td>SALESMAN</td><td>7698</td><td>null</td><td>1250</td><td>500</td><td>30</td><td>4</td><td>2024-05-11</td><td>9999-12-31</td><td>Y</td><td>81a1e4f74aa36352058b5c0b32ff24cf</td></tr><tr><td>7654</td><td>MARTIN</td><td>SALESMAN</td><td>7698</td><td>null</td><td>1250</td><td>1400</td><td>30</td><td>5</td><td>2024-05-11</td><td>9999-12-31</td><td>Y</td><td>00c65fd9f58fefeb811120493a14723a</td></tr><tr><td>7566</td><td>JONES</td><td>MANAGER</td><td>7839</td><td>null</td><td>2975</td><td>null</td><td>20</td><td>6</td><td>2024-05-11</td><td>9999-12-31</td><td>Y</td><td>e11463e62544e5a8fc9404aadc8bf41f</td></tr><tr><td>7934</td><td>MILLER</td><td>CLERK</td><td>7782</td><td>null</td><td>1300</td><td>null</td><td>10</td><td>7</td><td>2024-05-11</td><td>9999-12-31</td><td>Y</td><td>bcc3c826a2626ddf2888e5d847996ab8</td></tr><tr><td>7782</td><td>CLARK</td><td>MANAGER</td><td>7839</td><td>null</td><td>2450</td><td>null</td><td>10</td><td>8</td><td>2024-05-11</td><td>9999-12-31</td><td>Y</td><td>02dc737e7a840aa6275d73be9b44e175</td></tr><tr><td>7902</td><td>FORD</td><td>ANALYST</td><td>7566</td><td>null</td><td>3000</td><td>null</td><td>20</td><td>9</td><td>2024-05-11</td><td>9999-12-31</td><td>Y</td><td>29d49b83db924ac3b3f33a9ab8c08507</td></tr><tr><td>7839</td><td>KING</td><td>PRESIDENT</td><td>null</td><td>null</td><td>5000</td><td>null</td><td>10</td><td>10</td><td>2024-05-11</td><td>9999-12-31</td><td>Y</td><td>66e4c071001074241b5735481c5f4269</td></tr><tr><td>7369</td><td>SMITH</td><td>CLERK</td><td>7902</td><td>null</td><td>800</td><td>null</td><td>20</td><td>11</td><td>2024-05-11</td><td>9999-12-31</td><td>Y</td><td>2b440b18b7cf6e0e862c430f192af024</td></tr><tr><td>7876</td><td>ADAMS</td><td>CLERK</td><td>7788</td><td>null</td><td>1100</td><td>null</td><td>20</td><td>12</td><td>2024-05-11</td><td>9999-12-31</td><td>Y</td><td>14b671b9febe93ba66858d088d51ac03</td></tr><tr><td>7698</td><td>BLAKE</td><td>MANAGER</td><td>7839</td><td>null</td><td>2850</td><td>null</td><td>30</td><td>13</td><td>2024-05-11</td><td>9999-12-31</td><td>Y</td><td>ca6fcb9cd7989821af36b5b4ec05e277</td></tr><tr><td>7499</td><td>ALLEN</td><td>SALESMAN</td><td>7698</td><td>null</td><td>1600</td><td>300</td><td>30</td><td>14</td><td>2024-05-11</td><td>9999-12-31</td><td>Y</td><td>9c74d50ffdf4afe22f4c09d77aef7f15</td></tr></tbody></table></div>"
      ]
     },
     "metadata": {
      "application/vnd.databricks.v1+output": {
       "addedWidgets": {},
       "aggData": [],
       "aggError": "",
       "aggOverflow": false,
       "aggSchema": [],
       "aggSeriesLimitReached": false,
       "aggType": "",
       "arguments": {},
       "columnCustomDisplayInfos": {},
       "data": [
        [
         7844,
         "TURNER",
         "SALESMAN",
         7698,
         null,
         1500,
         0,
         30,
         1,
         "2024-05-11",
         "9999-12-31",
         "Y",
         "819d2397bf3e5ed520e8e81987b0fa45"
        ],
        [
         7788,
         "SCOTT",
         "ANALYST",
         7566,
         null,
         3000,
         null,
         20,
         2,
         "2024-05-11",
         "9999-12-31",
         "Y",
         "9e5f1b38c2bd6f558616757e692e5be0"
        ],
        [
         7900,
         "JAMES",
         "CLERK",
         7698,
         null,
         950,
         null,
         30,
         3,
         "2024-05-11",
         "9999-12-31",
         "Y",
         "3f1ca5716a5323779bb301cdd4fa7c38"
        ],
        [
         7521,
         "WARD",
         "SALESMAN",
         7698,
         null,
         1250,
         500,
         30,
         4,
         "2024-05-11",
         "9999-12-31",
         "Y",
         "81a1e4f74aa36352058b5c0b32ff24cf"
        ],
        [
         7654,
         "MARTIN",
         "SALESMAN",
         7698,
         null,
         1250,
         1400,
         30,
         5,
         "2024-05-11",
         "9999-12-31",
         "Y",
         "00c65fd9f58fefeb811120493a14723a"
        ],
        [
         7566,
         "JONES",
         "MANAGER",
         7839,
         null,
         2975,
         null,
         20,
         6,
         "2024-05-11",
         "9999-12-31",
         "Y",
         "e11463e62544e5a8fc9404aadc8bf41f"
        ],
        [
         7934,
         "MILLER",
         "CLERK",
         7782,
         null,
         1300,
         null,
         10,
         7,
         "2024-05-11",
         "9999-12-31",
         "Y",
         "bcc3c826a2626ddf2888e5d847996ab8"
        ],
        [
         7782,
         "CLARK",
         "MANAGER",
         7839,
         null,
         2450,
         null,
         10,
         8,
         "2024-05-11",
         "9999-12-31",
         "Y",
         "02dc737e7a840aa6275d73be9b44e175"
        ],
        [
         7902,
         "FORD",
         "ANALYST",
         7566,
         null,
         3000,
         null,
         20,
         9,
         "2024-05-11",
         "9999-12-31",
         "Y",
         "29d49b83db924ac3b3f33a9ab8c08507"
        ],
        [
         7839,
         "KING",
         "PRESIDENT",
         null,
         null,
         5000,
         null,
         10,
         10,
         "2024-05-11",
         "9999-12-31",
         "Y",
         "66e4c071001074241b5735481c5f4269"
        ],
        [
         7369,
         "SMITH",
         "CLERK",
         7902,
         null,
         800,
         null,
         20,
         11,
         "2024-05-11",
         "9999-12-31",
         "Y",
         "2b440b18b7cf6e0e862c430f192af024"
        ],
        [
         7876,
         "ADAMS",
         "CLERK",
         7788,
         null,
         1100,
         null,
         20,
         12,
         "2024-05-11",
         "9999-12-31",
         "Y",
         "14b671b9febe93ba66858d088d51ac03"
        ],
        [
         7698,
         "BLAKE",
         "MANAGER",
         7839,
         null,
         2850,
         null,
         30,
         13,
         "2024-05-11",
         "9999-12-31",
         "Y",
         "ca6fcb9cd7989821af36b5b4ec05e277"
        ],
        [
         7499,
         "ALLEN",
         "SALESMAN",
         7698,
         null,
         1600,
         300,
         30,
         14,
         "2024-05-11",
         "9999-12-31",
         "Y",
         "9c74d50ffdf4afe22f4c09d77aef7f15"
        ]
       ],
       "datasetInfos": [],
       "dbfsResultPath": null,
       "isJsonSchema": true,
       "metadata": {},
       "overflow": false,
       "plotOptions": {
        "customPlotOptions": {},
        "displayType": "table",
        "pivotAggregation": null,
        "pivotColumns": null,
        "xColumns": null,
        "yColumns": null
       },
       "removedWidgets": [],
       "schema": [
        {
         "metadata": "{}",
         "name": "EMPNO",
         "type": "\"integer\""
        },
        {
         "metadata": "{}",
         "name": "ENAME",
         "type": "\"string\""
        },
        {
         "metadata": "{}",
         "name": "JOB",
         "type": "\"string\""
        },
        {
         "metadata": "{}",
         "name": "MGR",
         "type": "\"integer\""
        },
        {
         "metadata": "{}",
         "name": "HIREDATE",
         "type": "\"date\""
        },
        {
         "metadata": "{}",
         "name": "SAL",
         "type": "\"integer\""
        },
        {
         "metadata": "{}",
         "name": "COMM",
         "type": "\"integer\""
        },
        {
         "metadata": "{}",
         "name": "DEPTNO",
         "type": "\"integer\""
        },
        {
         "metadata": "{}",
         "name": "sk_EMPNO",
         "type": "\"integer\""
        },
        {
         "metadata": "{}",
         "name": "EFFECTIVE_DATE",
         "type": "\"date\""
        },
        {
         "metadata": "{}",
         "name": "EXPIRATION_DATE",
         "type": "\"date\""
        },
        {
         "metadata": "{}",
         "name": "CURRENT_FLAG",
         "type": "\"string\""
        },
        {
         "metadata": "{}",
         "name": "ETL_CHECKSUM",
         "type": "\"string\""
        }
       ],
       "type": "table"
      }
     },
     "output_type": "display_data"
    }
   ],
   "source": [
    "%sql\n",
    "select * from training.EMP_SCD2_SQL"
   ]
  },
  {
   "cell_type": "code",
   "execution_count": 0,
   "metadata": {
    "application/vnd.databricks.v1+cell": {
     "cellMetadata": {
      "byteLimit": 2048000,
      "implicitDf": true,
      "rowLimit": 10000
     },
     "inputWidgets": {},
     "nuid": "e3f3f2a0-acb8-48dd-b765-21669eb62d1c",
     "showTitle": false,
     "title": ""
    }
   },
   "outputs": [
    {
     "output_type": "display_data",
     "data": {
      "text/html": [
       "<style scoped>\n",
       "  .table-result-container {\n",
       "    max-height: 300px;\n",
       "    overflow: auto;\n",
       "  }\n",
       "  table, th, td {\n",
       "    border: 1px solid black;\n",
       "    border-collapse: collapse;\n",
       "  }\n",
       "  th, td {\n",
       "    padding: 5px;\n",
       "  }\n",
       "  th {\n",
       "    text-align: left;\n",
       "  }\n",
       "</style><div class='table-result-container'><table class='table-result'><thead style='background-color: white'><tr></tr></thead><tbody></tbody></table></div>"
      ]
     },
     "metadata": {
      "application/vnd.databricks.v1+output": {
       "addedWidgets": {},
       "aggData": [],
       "aggError": "",
       "aggOverflow": false,
       "aggSchema": [],
       "aggSeriesLimitReached": false,
       "aggType": "",
       "arguments": {},
       "columnCustomDisplayInfos": {},
       "data": [],
       "datasetInfos": [],
       "dbfsResultPath": null,
       "isJsonSchema": true,
       "metadata": {},
       "overflow": false,
       "plotOptions": {
        "customPlotOptions": {},
        "displayType": "table",
        "pivotAggregation": null,
        "pivotColumns": null,
        "xColumns": null,
        "yColumns": null
       },
       "removedWidgets": [],
       "schema": [],
       "type": "table"
      }
     },
     "output_type": "display_data"
    }
   ],
   "source": [
    "%sql\n",
    "Truncate table training.EMP_SCD2_SQL"
   ]
  },
  {
   "cell_type": "code",
   "execution_count": 0,
   "metadata": {
    "application/vnd.databricks.v1+cell": {
     "cellMetadata": {},
     "inputWidgets": {},
     "nuid": "3dc201f8-e867-4d2a-b482-f732eb6ec859",
     "showTitle": false,
     "title": ""
    }
   },
   "outputs": [],
   "source": []
  }
 ],
 "metadata": {
  "application/vnd.databricks.v1+notebook": {
   "dashboards": [],
   "environmentMetadata": null,
   "language": "python",
   "notebookMetadata": {
    "mostRecentlyExecutedCommandWithImplicitDF": {
     "commandId": 4088541408476833,
     "dataframes": [
      "_sqldf"
     ]
    },
    "pythonIndentUnit": 2
   },
   "notebookName": "SCD TYPE2- USING SQL - UPSERT",
   "widgets": {}
  }
 },
 "nbformat": 4,
 "nbformat_minor": 0
}
